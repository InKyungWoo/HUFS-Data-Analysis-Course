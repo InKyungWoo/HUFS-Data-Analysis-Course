{
  "nbformat": 4,
  "nbformat_minor": 0,
  "metadata": {
    "colab": {
      "provenance": []
    },
    "kernelspec": {
      "name": "python3",
      "display_name": "Python 3"
    },
    "language_info": {
      "name": "python"
    }
  },
  "cells": [
    {
      "cell_type": "markdown",
      "source": [
        "# 네이버 영화 리뷰 페이지에 접속\n"
      ],
      "metadata": {
        "id": "-AAyIlcWps2a"
      }
    },
    {
      "cell_type": "code",
      "execution_count": null,
      "metadata": {
        "colab": {
          "base_uri": "https://localhost:8080/"
        },
        "id": "JLW-EeWDoU-t",
        "outputId": "a584e0c1-268a-4654-bf3f-f38bc9edffe9"
      },
      "outputs": [
        {
          "output_type": "stream",
          "name": "stdout",
          "text": [
            "Looking in indexes: https://pypi.org/simple, https://us-python.pkg.dev/colab-wheels/public/simple/\n",
            "Requirement already satisfied: requests in /usr/local/lib/python3.8/dist-packages (2.25.1)\n",
            "Requirement already satisfied: certifi>=2017.4.17 in /usr/local/lib/python3.8/dist-packages (from requests) (2022.12.7)\n",
            "Requirement already satisfied: urllib3<1.27,>=1.21.1 in /usr/local/lib/python3.8/dist-packages (from requests) (1.24.3)\n",
            "Requirement already satisfied: idna<3,>=2.5 in /usr/local/lib/python3.8/dist-packages (from requests) (2.10)\n",
            "Requirement already satisfied: chardet<5,>=3.0.2 in /usr/local/lib/python3.8/dist-packages (from requests) (4.0.0)\n"
          ]
        }
      ],
      "source": [
        "pip install requests"
      ]
    },
    {
      "cell_type": "code",
      "source": [
        "# requests 패키지 불러오기 (pip install requests 설치 필요)\n",
        "import requests\n",
        "\n",
        "# 네이버 영화 사이트 - 아바타: 물의 길 리뷰 페이지 \n",
        "url = \"https://movie.naver.com/movie/bi/mi/review.naver?code=74977\"\n",
        "\n",
        "# requests.get\n",
        "resp = requests.get(url)\n",
        "print(resp)"
      ],
      "metadata": {
        "colab": {
          "base_uri": "https://localhost:8080/"
        },
        "id": "VlSVFoQwpBfA",
        "outputId": "44f54e9e-a7f4-4561-9ce0-a9ceab561bba"
      },
      "execution_count": null,
      "outputs": [
        {
          "output_type": "stream",
          "name": "stdout",
          "text": [
            "<Response [200]>\n"
          ]
        }
      ]
    },
    {
      "cell_type": "code",
      "source": [
        "# 서버 응답 중에서 소스코드 부분을 출력\n",
        "resp.text[150:500]"
      ],
      "metadata": {
        "colab": {
          "base_uri": "https://localhost:8080/",
          "height": 87
        },
        "id": "l1Wf9HxbqNy9",
        "outputId": "06a83ff6-3519-4b93-9458-7c1f13896ba1"
      },
      "execution_count": null,
      "outputs": [
        {
          "output_type": "execute_result",
          "data": {
            "text/plain": [
              "'ng=\"ko\">\\r\\n<head>\\r\\n<meta charset=\"utf-8\">\\r\\n<meta http-equiv=\"X-UA-Compatible\" content=\"IE=edge\">\\r\\n<meta http-equiv=\"imagetoolbar\" content=\"no\">\\r\\n<title>아바타: 물의 길 : 네이버 영화</title>\\r\\n\\r\\n\\t\\r\\n\\t\\r\\n\\t\\r\\n\\t\\r\\n\\t\\r\\n\\t\\t\\r\\n\\t\\t\\r\\n\\t\\r\\n\\r\\n\\r\\n\\r\\n<meta property=\"me2:image\" content=\"https://ssl.pstatic.net/imgmovie/today/naverme/naverme_profile.jpg\"/>\\r\\n<meta property=\"me2:post_tag\" '"
            ],
            "application/vnd.google.colaboratory.intrinsic+json": {
              "type": "string"
            }
          },
          "metadata": {},
          "execution_count": 11
        }
      ]
    },
    {
      "cell_type": "markdown",
      "source": [
        "# BeautifulSoup으로 HTML 해석하기"
      ],
      "metadata": {
        "id": "f0kcZYuZqSUQ"
      }
    },
    {
      "cell_type": "code",
      "source": [
        "# BeautifulSoup 함수 불러오기 \n",
        "from bs4 import BeautifulSoup \n",
        "\n",
        "# BeautifulSoup 함수로, HTML 문서 구조를 파싱 \n",
        "soup = BeautifulSoup(resp.text, 'html.parser')\n",
        "\n",
        "# 파싱한 내용을 담고 있는 객체의 자료형 확인\n",
        "print(type(soup))"
      ],
      "metadata": {
        "colab": {
          "base_uri": "https://localhost:8080/"
        },
        "id": "mRH6NHdftXPx",
        "outputId": "8fac71ef-cc93-494e-dc5a-5325f12d3c0c"
      },
      "execution_count": null,
      "outputs": [
        {
          "output_type": "stream",
          "name": "stdout",
          "text": [
            "<class 'bs4.BeautifulSoup'>\n"
          ]
        }
      ]
    },
    {
      "cell_type": "markdown",
      "source": [
        "## 1) 영화 제목"
      ],
      "metadata": {
        "id": "DLfn24t8tfGY"
      }
    },
    {
      "cell_type": "code",
      "source": [
        "# <title>아바타: 물의 길 : 네이버 영화</title>\n",
        "\n",
        "# title 태그 이름을 활용하여 영화 제목이 포함되어 있는 요소를 찾습니다.\n",
        "title_tag = soup.find(name='title')\n",
        "print(title_tag)\n",
        "\n",
        "# 텍스트 부분만 추출합니다.\n",
        "title_text = title_tag.get_text()\n",
        "print(title_text)"
      ],
      "metadata": {
        "colab": {
          "base_uri": "https://localhost:8080/"
        },
        "id": "B-bReABTqPrv",
        "outputId": "41a66555-9f63-4e59-8291-6bb6d5953abe"
      },
      "execution_count": null,
      "outputs": [
        {
          "output_type": "stream",
          "name": "stdout",
          "text": [
            "<title>아바타: 물의 길 : 네이버 영화</title>\n",
            "아바타: 물의 길 : 네이버 영화\n"
          ]
        }
      ]
    },
    {
      "cell_type": "markdown",
      "source": [
        "## 2) 리뷰 갯수\n"
      ],
      "metadata": {
        "id": "FlGEmeCytwnc"
      }
    },
    {
      "cell_type": "code",
      "source": [
        "# <span class=\"cnt\">총<em>110</em>건</span>\n",
        "\n",
        "# span 태그의 class 속성값을 활용하여 리뷰 갯수가 포함되어 있는 요소를 찾습니다.\n",
        "count_tag = soup.find(name='span', attrs={'class':'cnt'})\n",
        "print(\"span 태그: \", count_tag)\n",
        "\n",
        "# count_tag 요소에서 em 태그 부분을 찾습니다. \n",
        "count_tag = count_tag.find(name='em')\n",
        "print(\"em 태그: \", count_tag)\n",
        "\n",
        "# 텍스트 부분만 추출합니다.\n",
        "count_text = count_tag.get_text()\n",
        "print(\"텍스트: \", count_text)"
      ],
      "metadata": {
        "colab": {
          "base_uri": "https://localhost:8080/"
        },
        "id": "Uf3ZbNhtubO2",
        "outputId": "0a593c31-e5b7-4eeb-d011-5c7e7218e384"
      },
      "execution_count": null,
      "outputs": [
        {
          "output_type": "stream",
          "name": "stdout",
          "text": [
            "span 태그:  <span class=\"cnt\">총<em>71</em>건</span>\n",
            "em 태그:  <em>71</em>\n",
            "텍스트:  71\n"
          ]
        }
      ]
    },
    {
      "cell_type": "markdown",
      "source": [
        "## 3) 리뷰 목록\n"
      ],
      "metadata": {
        "id": "UQzMDHbGxBm3"
      }
    },
    {
      "cell_type": "code",
      "source": [
        "# <ul class=\"rvw_list_area\">\n",
        "\n",
        "# ul 태그의 class 속성값을 활용하여 리뷰 제목과 링크가 포함되어 있는 요소를 찾습니다.\n",
        "review_list_tag = soup.find(name='ul', attrs={'class':'rvw_list_area'})\n",
        "\n",
        "# review_list_tag 요소에 포함된 li 태그를 모두 찾습니다. \n",
        "review_list_tags = review_list_tag.find_all(name='li')\n",
        "print(\"li 태그의 수: \", len(review_list_tags))\n",
        "print(\"\\n\")\n",
        "\n",
        "# 첫 번째 원소를 출력합니다. \n",
        "print(review_list_tags[0])"
      ],
      "metadata": {
        "colab": {
          "base_uri": "https://localhost:8080/"
        },
        "id": "YgKp6YZixGhm",
        "outputId": "09b110dd-a12d-42ce-9b1c-5df12ad85836"
      },
      "execution_count": null,
      "outputs": [
        {
          "output_type": "stream",
          "name": "stdout",
          "text": [
            "li 태그의 수:  10\n",
            "\n",
            "\n",
            "<li>\n",
            "<a href=\"#\" onclick=\"clickcr(this, 'rli.title', '', '', event); showReviewDetail(4061113)\"><strong>&lt;아바타 2&gt; 주인공 \"네이티리\" 캐릭터 컨셉 아트 이미지 대공개... </strong></a>\n",
            "<span class=\"user\"><a href=\"#\" onclick=\"clickcr(this, 'rli.uid', '', '', event); showReviewListByNid('4061113');\">insu****</a> <em>2015.09.30</em><em>추천 189</em></span>\n",
            "<p><a href=\"#\" onclick=\"clickcr(this, 'rli.content', '', '', event); showReviewDetail(4061113);\">        아바타 2      감독   제임스 카메론   출연   시고니 위버, 스티븐 랭, 조 샐다나, 샘 워싱턴   개봉   2017 미국      리뷰보기      ​*** 아바타 2 (2017) ***장르: Sci-Fi, 판타지, 모험, 액션감독: 제임스 카메론주연:...</a></p>\n",
            "</li>\n"
          ]
        }
      ]
    },
    {
      "cell_type": "code",
      "source": [
        "# 첫 번째 아이템에서 리뷰 제목(rli.title), 사용자(rli.uid), 내용(rli.content) 데이터를 추출합니다.\n",
        "\n",
        "review_title = review_list_tags[0].find_all('a')[0].get_text()\n",
        "print(\"제목:\", review_title, \"\\n\")\n",
        "\n",
        "review_uid = review_list_tags[0].find_all('a')[1].get_text()\n",
        "print(\"사용자:\", review_uid, \"\\n\")\n",
        "\n",
        "review_content = review_list_tags[0].find_all('a')[2].get_text()\n",
        "print(r\"내용:\", review_content, \"\\n\")"
      ],
      "metadata": {
        "colab": {
          "base_uri": "https://localhost:8080/"
        },
        "id": "cWdjcsXYxKyF",
        "outputId": "fcf2f288-e7a1-4a15-a24c-c891f2b7a047"
      },
      "execution_count": null,
      "outputs": [
        {
          "output_type": "stream",
          "name": "stdout",
          "text": [
            "제목: <아바타 2> 주인공 \"네이티리\" 캐릭터 컨셉 아트 이미지 대공개...  \n",
            "\n",
            "사용자: insu**** \n",
            "\n",
            "내용:         아바타 2      감독   제임스 카메론   출연   시고니 위버, 스티븐 랭, 조 샐다나, 샘 워싱턴   개봉   2017 미국      리뷰보기      ​*** 아바타 2 (2017) ***장르: Sci-Fi, 판타지, 모험, 액션감독: 제임스 카메론주연:... \n",
            "\n"
          ]
        }
      ]
    },
    {
      "cell_type": "code",
      "source": [
        "# 각 리뷰 페이지로 연결할 nid 값(예: 4808692)을 포함하는 Javascript 코드를 추출합니다.\n",
        "\n",
        "review_nid = review_list_tags[0].find('a').get('onclick')\n",
        "review_nid"
      ],
      "metadata": {
        "colab": {
          "base_uri": "https://localhost:8080/",
          "height": 35
        },
        "id": "QKToxxJDxPMh",
        "outputId": "c33b5718-8df6-4942-e3c7-4fb49664b660"
      },
      "execution_count": null,
      "outputs": [
        {
          "output_type": "execute_result",
          "data": {
            "text/plain": [
              "\"clickcr(this, 'rli.title', '', '', event); showReviewDetail(4061113)\""
            ],
            "application/vnd.google.colaboratory.intrinsic+json": {
              "type": "string"
            }
          },
          "metadata": {},
          "execution_count": 17
        }
      ]
    },
    {
      "cell_type": "code",
      "source": [
        "# Javascript 코드에서 7자리 숫자를 추출합니다. (정규식 re 모듈 활용)\n",
        "\n",
        "import re\n",
        "\n",
        "review_nid = re.findall('\\d{7}', review_nid)[0]\n",
        "review_nid"
      ],
      "metadata": {
        "colab": {
          "base_uri": "https://localhost:8080/",
          "height": 35
        },
        "id": "8-mBjlrLxS9_",
        "outputId": "fa1ba0f3-b51d-45fd-f849-38c4948858b8"
      },
      "execution_count": null,
      "outputs": [
        {
          "output_type": "execute_result",
          "data": {
            "text/plain": [
              "'4061113'"
            ],
            "application/vnd.google.colaboratory.intrinsic+json": {
              "type": "string"
            }
          },
          "metadata": {},
          "execution_count": 19
        }
      ]
    },
    {
      "cell_type": "code",
      "source": [
        "# URL을 조합합니다.\n",
        "\n",
        "review_url = f\"https://movie.naver.com/movie/bi/mi/reviewread.naver?nid={review_nid}&code=74977&order=#tab\"\n",
        "review_url"
      ],
      "metadata": {
        "colab": {
          "base_uri": "https://localhost:8080/",
          "height": 35
        },
        "id": "8JBc-9F1xZez",
        "outputId": "6cc2a100-2d98-4c8f-8380-0c12f68e5b7c"
      },
      "execution_count": null,
      "outputs": [
        {
          "output_type": "execute_result",
          "data": {
            "text/plain": [
              "'https://movie.naver.com/movie/bi/mi/reviewread.naver?nid=4061113&code=74977&order=#tab'"
            ],
            "application/vnd.google.colaboratory.intrinsic+json": {
              "type": "string"
            }
          },
          "metadata": {},
          "execution_count": 20
        }
      ]
    },
    {
      "cell_type": "code",
      "source": [
        "# 리뷰를 반복문으로 조회하면서, 리뷰 제목(rli.title), 사용자(rli.uid), 상세 페이지 url 값을 추출합니다.\n",
        "title_list = []\n",
        "uid_list = []\n",
        "url_list = []\n",
        "\n",
        "from tqdm import tqdm\n",
        "\n",
        "# page 1~8까지 1씩 증가하면서 조회\n",
        "for page in tqdm(range(1,9)):\n",
        "\n",
        "  URL = f\"https://movie.naver.com/movie/bi/mi/review.naver?code=74977&page={page}\"\n",
        "\n",
        "  resp = requests.get(URL)\n",
        "  soup = BeautifulSoup(resp.text, 'html.parser')\n",
        "\n",
        "  review_list_tag = soup.find(name='ul', attrs={'class':'rvw_list_area'})\n",
        "  review_list_tags = review_list_tag.find_all(name='li')\n",
        "\n",
        "  print(len(review_list_tags))\n",
        "\n",
        "\n",
        "  for li_tag in review_list_tags:\n",
        "      \n",
        "      review_title = li_tag.find_all('a')[0].get_text()\n",
        "      title_list.append(review_title)\n",
        "      \n",
        "      review_uid = li_tag.find_all('a')[1].get_text()\n",
        "      uid_list.append(review_uid)\n",
        "      \n",
        "      review_nid = re.findall('\\d{7}', li_tag.find('a').get('onclick'))[0]\n",
        "      review_url = f\"https://movie.naver.com/movie/bi/mi/reviewread.naver?nid={review_nid}&code=74977&order=#tab\"\n",
        "      url_list.append(review_url)    \n",
        "    \n",
        "# 추출된 아이템의 수량\n",
        "print(len(title_list))\n",
        "print(len(uid_list))\n",
        "print(len(url_list))"
      ],
      "metadata": {
        "colab": {
          "base_uri": "https://localhost:8080/"
        },
        "id": "95jprJlSxyV9",
        "outputId": "62b96ebd-ca01-435e-fbb1-65ae4b5bfe76"
      },
      "execution_count": null,
      "outputs": [
        {
          "output_type": "stream",
          "name": "stderr",
          "text": [
            " 12%|█▎        | 1/8 [00:00<00:04,  1.52it/s]"
          ]
        },
        {
          "output_type": "stream",
          "name": "stdout",
          "text": [
            "10\n"
          ]
        },
        {
          "output_type": "stream",
          "name": "stderr",
          "text": [
            "\r 25%|██▌       | 2/8 [00:01<00:03,  1.51it/s]"
          ]
        },
        {
          "output_type": "stream",
          "name": "stdout",
          "text": [
            "10\n"
          ]
        },
        {
          "output_type": "stream",
          "name": "stderr",
          "text": [
            "\r 38%|███▊      | 3/8 [00:01<00:03,  1.53it/s]"
          ]
        },
        {
          "output_type": "stream",
          "name": "stdout",
          "text": [
            "10\n"
          ]
        },
        {
          "output_type": "stream",
          "name": "stderr",
          "text": [
            "\r 50%|█████     | 4/8 [00:02<00:02,  1.52it/s]"
          ]
        },
        {
          "output_type": "stream",
          "name": "stdout",
          "text": [
            "10\n"
          ]
        },
        {
          "output_type": "stream",
          "name": "stderr",
          "text": [
            "\r 62%|██████▎   | 5/8 [00:03<00:01,  1.53it/s]"
          ]
        },
        {
          "output_type": "stream",
          "name": "stdout",
          "text": [
            "10\n"
          ]
        },
        {
          "output_type": "stream",
          "name": "stderr",
          "text": [
            "\r 75%|███████▌  | 6/8 [00:03<00:01,  1.51it/s]"
          ]
        },
        {
          "output_type": "stream",
          "name": "stdout",
          "text": [
            "10\n"
          ]
        },
        {
          "output_type": "stream",
          "name": "stderr",
          "text": [
            "\r 88%|████████▊ | 7/8 [00:04<00:00,  1.48it/s]"
          ]
        },
        {
          "output_type": "stream",
          "name": "stdout",
          "text": [
            "10\n"
          ]
        },
        {
          "output_type": "stream",
          "name": "stderr",
          "text": [
            "100%|██████████| 8/8 [00:05<00:00,  1.51it/s]"
          ]
        },
        {
          "output_type": "stream",
          "name": "stdout",
          "text": [
            "1\n",
            "71\n",
            "71\n",
            "71\n"
          ]
        },
        {
          "output_type": "stream",
          "name": "stderr",
          "text": [
            "\n"
          ]
        }
      ]
    },
    {
      "cell_type": "code",
      "source": [
        "# 리스트 출력\n",
        "print(url_list)"
      ],
      "metadata": {
        "colab": {
          "base_uri": "https://localhost:8080/"
        },
        "id": "vlmFQRsFxmmS",
        "outputId": "ec67805d-66e3-4bad-ed8b-61414cd381b0"
      },
      "execution_count": null,
      "outputs": [
        {
          "output_type": "stream",
          "name": "stdout",
          "text": [
            "['https://movie.naver.com/movie/bi/mi/reviewread.naver?nid=4061113&code=74977&order=#tab', 'https://movie.naver.com/movie/bi/mi/reviewread.naver?nid=2415599&code=74977&order=#tab', 'https://movie.naver.com/movie/bi/mi/reviewread.naver?nid=4469161&code=74977&order=#tab', 'https://movie.naver.com/movie/bi/mi/reviewread.naver?nid=3330958&code=74977&order=#tab', 'https://movie.naver.com/movie/bi/mi/reviewread.naver?nid=4312454&code=74977&order=#tab', 'https://movie.naver.com/movie/bi/mi/reviewread.naver?nid=2860659&code=74977&order=#tab', 'https://movie.naver.com/movie/bi/mi/reviewread.naver?nid=4496289&code=74977&order=#tab', 'https://movie.naver.com/movie/bi/mi/reviewread.naver?nid=4417995&code=74977&order=#tab', 'https://movie.naver.com/movie/bi/mi/reviewread.naver?nid=2204846&code=74977&order=#tab', 'https://movie.naver.com/movie/bi/mi/reviewread.naver?nid=3638168&code=74977&order=#tab', 'https://movie.naver.com/movie/bi/mi/reviewread.naver?nid=4529246&code=74977&order=#tab', 'https://movie.naver.com/movie/bi/mi/reviewread.naver?nid=3785780&code=74977&order=#tab', 'https://movie.naver.com/movie/bi/mi/reviewread.naver?nid=4701244&code=74977&order=#tab', 'https://movie.naver.com/movie/bi/mi/reviewread.naver?nid=4798581&code=74977&order=#tab', 'https://movie.naver.com/movie/bi/mi/reviewread.naver?nid=2295102&code=74977&order=#tab', 'https://movie.naver.com/movie/bi/mi/reviewread.naver?nid=2434392&code=74977&order=#tab', 'https://movie.naver.com/movie/bi/mi/reviewread.naver?nid=2581402&code=74977&order=#tab', 'https://movie.naver.com/movie/bi/mi/reviewread.naver?nid=2411971&code=74977&order=#tab', 'https://movie.naver.com/movie/bi/mi/reviewread.naver?nid=2214534&code=74977&order=#tab', 'https://movie.naver.com/movie/bi/mi/reviewread.naver?nid=3164666&code=74977&order=#tab', 'https://movie.naver.com/movie/bi/mi/reviewread.naver?nid=2416581&code=74977&order=#tab', 'https://movie.naver.com/movie/bi/mi/reviewread.naver?nid=3341804&code=74977&order=#tab', 'https://movie.naver.com/movie/bi/mi/reviewread.naver?nid=2856060&code=74977&order=#tab', 'https://movie.naver.com/movie/bi/mi/reviewread.naver?nid=4473045&code=74977&order=#tab', 'https://movie.naver.com/movie/bi/mi/reviewread.naver?nid=4702131&code=74977&order=#tab', 'https://movie.naver.com/movie/bi/mi/reviewread.naver?nid=3711799&code=74977&order=#tab', 'https://movie.naver.com/movie/bi/mi/reviewread.naver?nid=3100976&code=74977&order=#tab', 'https://movie.naver.com/movie/bi/mi/reviewread.naver?nid=4697943&code=74977&order=#tab', 'https://movie.naver.com/movie/bi/mi/reviewread.naver?nid=4673343&code=74977&order=#tab', 'https://movie.naver.com/movie/bi/mi/reviewread.naver?nid=4438375&code=74977&order=#tab', 'https://movie.naver.com/movie/bi/mi/reviewread.naver?nid=4700167&code=74977&order=#tab', 'https://movie.naver.com/movie/bi/mi/reviewread.naver?nid=3992623&code=74977&order=#tab', 'https://movie.naver.com/movie/bi/mi/reviewread.naver?nid=4600488&code=74977&order=#tab', 'https://movie.naver.com/movie/bi/mi/reviewread.naver?nid=4183379&code=74977&order=#tab', 'https://movie.naver.com/movie/bi/mi/reviewread.naver?nid=2503960&code=74977&order=#tab', 'https://movie.naver.com/movie/bi/mi/reviewread.naver?nid=3269488&code=74977&order=#tab', 'https://movie.naver.com/movie/bi/mi/reviewread.naver?nid=3391748&code=74977&order=#tab', 'https://movie.naver.com/movie/bi/mi/reviewread.naver?nid=4051503&code=74977&order=#tab', 'https://movie.naver.com/movie/bi/mi/reviewread.naver?nid=3238993&code=74977&order=#tab', 'https://movie.naver.com/movie/bi/mi/reviewread.naver?nid=2507346&code=74977&order=#tab', 'https://movie.naver.com/movie/bi/mi/reviewread.naver?nid=4181752&code=74977&order=#tab', 'https://movie.naver.com/movie/bi/mi/reviewread.naver?nid=4069239&code=74977&order=#tab', 'https://movie.naver.com/movie/bi/mi/reviewread.naver?nid=2300193&code=74977&order=#tab', 'https://movie.naver.com/movie/bi/mi/reviewread.naver?nid=2380723&code=74977&order=#tab', 'https://movie.naver.com/movie/bi/mi/reviewread.naver?nid=2643514&code=74977&order=#tab', 'https://movie.naver.com/movie/bi/mi/reviewread.naver?nid=4603053&code=74977&order=#tab', 'https://movie.naver.com/movie/bi/mi/reviewread.naver?nid=3448159&code=74977&order=#tab', 'https://movie.naver.com/movie/bi/mi/reviewread.naver?nid=3757695&code=74977&order=#tab', 'https://movie.naver.com/movie/bi/mi/reviewread.naver?nid=4560995&code=74977&order=#tab', 'https://movie.naver.com/movie/bi/mi/reviewread.naver?nid=4398518&code=74977&order=#tab', 'https://movie.naver.com/movie/bi/mi/reviewread.naver?nid=3747195&code=74977&order=#tab', 'https://movie.naver.com/movie/bi/mi/reviewread.naver?nid=3670643&code=74977&order=#tab', 'https://movie.naver.com/movie/bi/mi/reviewread.naver?nid=4597832&code=74977&order=#tab', 'https://movie.naver.com/movie/bi/mi/reviewread.naver?nid=4463685&code=74977&order=#tab', 'https://movie.naver.com/movie/bi/mi/reviewread.naver?nid=4470560&code=74977&order=#tab', 'https://movie.naver.com/movie/bi/mi/reviewread.naver?nid=3084938&code=74977&order=#tab', 'https://movie.naver.com/movie/bi/mi/reviewread.naver?nid=3462018&code=74977&order=#tab', 'https://movie.naver.com/movie/bi/mi/reviewread.naver?nid=4811667&code=74977&order=#tab', 'https://movie.naver.com/movie/bi/mi/reviewread.naver?nid=4811615&code=74977&order=#tab', 'https://movie.naver.com/movie/bi/mi/reviewread.naver?nid=4511805&code=74977&order=#tab', 'https://movie.naver.com/movie/bi/mi/reviewread.naver?nid=4628959&code=74977&order=#tab', 'https://movie.naver.com/movie/bi/mi/reviewread.naver?nid=4462578&code=74977&order=#tab', 'https://movie.naver.com/movie/bi/mi/reviewread.naver?nid=3390661&code=74977&order=#tab', 'https://movie.naver.com/movie/bi/mi/reviewread.naver?nid=4687875&code=74977&order=#tab', 'https://movie.naver.com/movie/bi/mi/reviewread.naver?nid=4645712&code=74977&order=#tab', 'https://movie.naver.com/movie/bi/mi/reviewread.naver?nid=4470001&code=74977&order=#tab', 'https://movie.naver.com/movie/bi/mi/reviewread.naver?nid=4668296&code=74977&order=#tab', 'https://movie.naver.com/movie/bi/mi/reviewread.naver?nid=4686857&code=74977&order=#tab', 'https://movie.naver.com/movie/bi/mi/reviewread.naver?nid=4789378&code=74977&order=#tab', 'https://movie.naver.com/movie/bi/mi/reviewread.naver?nid=4685682&code=74977&order=#tab', 'https://movie.naver.com/movie/bi/mi/reviewread.naver?nid=4811608&code=74977&order=#tab']\n"
          ]
        }
      ]
    },
    {
      "cell_type": "markdown",
      "source": [
        "## 4) 리뷰 상세 페이지\n"
      ],
      "metadata": {
        "id": "JJJ0yso5x_-8"
      }
    },
    {
      "cell_type": "code",
      "source": [
        "# 리뷰 상세페이지의 HTML 소스코드를 가져와서 파싱(parsing)\n",
        "resp_text = requests.get(url_list[0], headers={'User-agent': 'Mozilla/5.0 (Macintosh; Intel Mac OS X 10_15_7) AppleWebKit/537.36 (KHTML, like Gecko) Chrome/108.0.0.0 Safari/537.36'})\n",
        "soup_text = BeautifulSoup(resp_text.text, 'html.parser')\n",
        "\n",
        "# 리뷰 본문의 텍스트를 추출합니다. /  <div class=\"user_tx_area\"> )\n",
        "review_text_tag = soup_text.find(name='div', attrs={'class':'user_tx_area'})\n",
        "\n",
        "# 텍스트 부분만 추출합니다.\n",
        "review_text = review_text_tag.get_text()\n",
        "print(review_text)"
      ],
      "metadata": {
        "colab": {
          "base_uri": "https://localhost:8080/"
        },
        "id": "b22CQUy7yCMK",
        "outputId": "0db64241-13d6-4a76-d4d6-c963f8acd781"
      },
      "execution_count": null,
      "outputs": [
        {
          "output_type": "stream",
          "name": "stdout",
          "text": [
            "\n",
            "\n",
            "\n",
            "\n",
            "\n",
            "아바타 2\n",
            "\n",
            "감독\n",
            "제임스 카메론\n",
            "출연\n",
            "시고니 위버, 스티븐 랭, 조 샐다나, 샘 워싱턴\n",
            "개봉\n",
            "2017 미국\n",
            "\n",
            "리뷰보기\n",
            "\n",
            "\n",
            "​*** 아바타 2 (2017) ***장르: Sci-Fi, 판타지, 모험, 액션감독: 제임스 카메론주연: 조 셀다나 (네이티리 역), 샘 워싱턴 (제이크 설리 역), 시고니 위버 (그레이스 어거스틴 역), 스티븐 랭 (마일즈 쿼리치 역)...국적: 미국북미 개봉일: 2017년 12월 25일2017년 12월 25일 북미 개봉작으로 기대를 모으고 있는 영화 아바타 2...특히나 주인공 \"네이티리\" 의 캐릭터 이미지가 공개가 되어서 올려봅니다.배우 조 샐다나와 샘 워싱턴, 시고니 위버 그리고 스티븐 랭까지 전편에서 출연했었던 배우들이 그대로 출연을 하고 있어서더욱 기대가 되는 영화인 것 같습니다. 아무튼 제임스 카메론 감독의 영화 아바타 2편을 시작으로2018년 아바타 3와 2019년 아바타 4까지 진행되고 있어서 앞으로 더욱 기대되는 영화 아바타인 것 같습니다.\n",
            "\n"
          ]
        }
      ]
    },
    {
      "cell_type": "markdown",
      "source": [
        "## 5) 리뷰를 수집하여 List로 정리"
      ],
      "metadata": {
        "id": "tRzvpBHd0Lgb"
      }
    },
    {
      "cell_type": "code",
      "source": [
        "import time\n",
        "\n",
        "# url 반복하여 텍스트를 추출하고 리스트에 추가\n",
        "\n",
        "text_list = []\n",
        "\n",
        "for url in url_list:\n",
        "\n",
        "    # 리뷰 상세페이지의 HTML 소스코드를 가져와서 파싱(parsing)\n",
        "    resp_text = requests.get(url, headers={'User-agent': 'Mozilla/5.0 (Macintosh; Intel Mac OS X 10_15_7) AppleWebKit/537.36 (KHTML, like Gecko) Chrome/108.0.0.0 Safari/537.36'})\n",
        "    soup_text = BeautifulSoup(resp_text.text, 'html.parser')\n",
        "\n",
        "    # 리뷰 본문의 텍스트를 추출합니다. /  <div class=\"user_tx_area\"> )\n",
        "    review_text_tag = soup_text.find(name='div', attrs={'class':'user_tx_area'})\n",
        "\n",
        "    # 텍스트 부분만 추출합니다.\n",
        "    review_text = review_text_tag.get_text()\n",
        "    text_list.append(review_text)\n",
        "    \n",
        "    # 대기 시간을 추가합니다. (서버에 과도한 호출이 되지 않도록 유의) \n",
        "    time.sleep(2)\n",
        "    \n",
        "    \n",
        "# 추출된 아이템의 수량\n",
        "print(len(text_list))"
      ],
      "metadata": {
        "colab": {
          "base_uri": "https://localhost:8080/"
        },
        "id": "WBrf3StpyCnk",
        "outputId": "de58e234-cd55-4c99-bff6-5c4b1f4d7bd2"
      },
      "execution_count": null,
      "outputs": [
        {
          "output_type": "stream",
          "name": "stdout",
          "text": [
            "71\n"
          ]
        }
      ]
    },
    {
      "cell_type": "markdown",
      "source": [
        "## 6) 판다스 데이터프레임으로 정리"
      ],
      "metadata": {
        "id": "JK1HAE5d0uSb"
      }
    },
    {
      "cell_type": "code",
      "source": [
        "# 딕셔너리 형식으로 항목별 리스트를 원소로 추가 \n",
        "dict_data = {\n",
        "    'title' : title_list,\n",
        "    'user' : uid_list,\n",
        "    'review' : text_list   \n",
        "}\n",
        "\n",
        "# 판다스 데이터프레임으로 변환\n",
        "import pandas as pd\n",
        "\n",
        "df_data = pd.DataFrame(dict_data)\n",
        "\n",
        "# 변환 결과를 확인\n",
        "df_data"
      ],
      "metadata": {
        "colab": {
          "base_uri": "https://localhost:8080/",
          "height": 520
        },
        "id": "GECILddz0wGu",
        "outputId": "6df4facd-ad42-4621-b8fe-b0d45290af3f"
      },
      "execution_count": null,
      "outputs": [
        {
          "output_type": "execute_result",
          "data": {
            "text/plain": [
              "                                                title      user  \\\n",
              "0            <아바타 2> 주인공 \"네이티리\" 캐릭터 컨셉 아트 이미지 대공개...   insu****   \n",
              "1                                2014년에 이글을 읽는사람들에게..  xnzm****   \n",
              "2                    [필독, 스압] 위대한 지휘관, 쿼리치대령을 추모하며...  alwa****   \n",
              "3                                    아바타2 3,4 제작소식 모음  soqu****   \n",
              "4                                            아바타2 스토리  doub****   \n",
              "..                                                ...       ...   \n",
              "66              제임스 카메론 감독, <아바타 2>의 촬영이 마무리되었음을 밝히다.  c106****   \n",
              "67  제임스 카메론 감독, <아바타 2>에서 판도라 행성의 사실적인 수중 세계를 보게 될...  c106****   \n",
              "68             아바타 2 - 2020년 12월 개봉 소식 = 2020년 개봉예정영화  inee****   \n",
              "69                <아바타> 시퀄, 올봄 뉴질랜드에서 라이브 액션 촬영 시작!!!  c106****   \n",
              "70                       [BIFF]사회적 메시지 전하는 게 영화인이 할 일  thed****   \n",
              "\n",
              "                                               review  \n",
              "0   \\n\\n\\n\\n\\n아바타 2\\n\\n감독\\n제임스 카메론\\n출연\\n시고니 위버, 스티...  \n",
              "1   \\n2014년에 아바타2가 개봉하다니ㅋ\\n \\n아바타1,, 정말 재밌게 봤었는데\\n...  \n",
              "2   \\n영화 아바타는.끝까지 우리 인류의 번영과 이익을 위해 사투를 벌이다 죽어간 위대...  \n",
              "3   \\n \\n \\n \\n<<  아바타 속편 제작소식 모음  >>\\n \\n\\n \\n \\n...  \n",
              "4   \\n전작의 경우 cg는 혁명적이었지만제임스 카메론이 14년동안 구상한거 치곤 스토리...  \n",
              "..                                                ...  \n",
              "66  \\n     많은 분들의 기대(와 우려)를 한 몸에 받고 있는 <아바타 2>의 촬영...  \n",
              "67  \\n     <아바타> 시퀄 제작에 열중하고 있는 제임스 카메론 감독이 <아바타 2...  \n",
              "68  \\n아바타 2 (Avatar 2, 2020)\\n\\n아바타 2\\n\\n감독\\n제임스 카...  \n",
              "69  \\n     역대 월드와이드 최고 흥행 기록(※27억8,796만불)을 가지고 있는 ...  \n",
              "70  \\n2009년 12월 개봉해 국내에서 1,333만 명의 관객을 동원한 영화 <아바타...  \n",
              "\n",
              "[71 rows x 3 columns]"
            ],
            "text/html": [
              "\n",
              "  <div id=\"df-2281f5ba-3acf-415f-aac3-94fe3459ab7e\">\n",
              "    <div class=\"colab-df-container\">\n",
              "      <div>\n",
              "<style scoped>\n",
              "    .dataframe tbody tr th:only-of-type {\n",
              "        vertical-align: middle;\n",
              "    }\n",
              "\n",
              "    .dataframe tbody tr th {\n",
              "        vertical-align: top;\n",
              "    }\n",
              "\n",
              "    .dataframe thead th {\n",
              "        text-align: right;\n",
              "    }\n",
              "</style>\n",
              "<table border=\"1\" class=\"dataframe\">\n",
              "  <thead>\n",
              "    <tr style=\"text-align: right;\">\n",
              "      <th></th>\n",
              "      <th>title</th>\n",
              "      <th>user</th>\n",
              "      <th>review</th>\n",
              "    </tr>\n",
              "  </thead>\n",
              "  <tbody>\n",
              "    <tr>\n",
              "      <th>0</th>\n",
              "      <td>&lt;아바타 2&gt; 주인공 \"네이티리\" 캐릭터 컨셉 아트 이미지 대공개...</td>\n",
              "      <td>insu****</td>\n",
              "      <td>\\n\\n\\n\\n\\n아바타 2\\n\\n감독\\n제임스 카메론\\n출연\\n시고니 위버, 스티...</td>\n",
              "    </tr>\n",
              "    <tr>\n",
              "      <th>1</th>\n",
              "      <td>2014년에 이글을 읽는사람들에게..</td>\n",
              "      <td>xnzm****</td>\n",
              "      <td>\\n2014년에 아바타2가 개봉하다니ㅋ\\n \\n아바타1,, 정말 재밌게 봤었는데\\n...</td>\n",
              "    </tr>\n",
              "    <tr>\n",
              "      <th>2</th>\n",
              "      <td>[필독, 스압] 위대한 지휘관, 쿼리치대령을 추모하며...</td>\n",
              "      <td>alwa****</td>\n",
              "      <td>\\n영화 아바타는.끝까지 우리 인류의 번영과 이익을 위해 사투를 벌이다 죽어간 위대...</td>\n",
              "    </tr>\n",
              "    <tr>\n",
              "      <th>3</th>\n",
              "      <td>아바타2 3,4 제작소식 모음</td>\n",
              "      <td>soqu****</td>\n",
              "      <td>\\n \\n \\n \\n&lt;&lt;  아바타 속편 제작소식 모음  &gt;&gt;\\n \\n\\n \\n \\n...</td>\n",
              "    </tr>\n",
              "    <tr>\n",
              "      <th>4</th>\n",
              "      <td>아바타2 스토리</td>\n",
              "      <td>doub****</td>\n",
              "      <td>\\n전작의 경우 cg는 혁명적이었지만제임스 카메론이 14년동안 구상한거 치곤 스토리...</td>\n",
              "    </tr>\n",
              "    <tr>\n",
              "      <th>...</th>\n",
              "      <td>...</td>\n",
              "      <td>...</td>\n",
              "      <td>...</td>\n",
              "    </tr>\n",
              "    <tr>\n",
              "      <th>66</th>\n",
              "      <td>제임스 카메론 감독, &lt;아바타 2&gt;의 촬영이 마무리되었음을 밝히다.</td>\n",
              "      <td>c106****</td>\n",
              "      <td>\\n     많은 분들의 기대(와 우려)를 한 몸에 받고 있는 &lt;아바타 2&gt;의 촬영...</td>\n",
              "    </tr>\n",
              "    <tr>\n",
              "      <th>67</th>\n",
              "      <td>제임스 카메론 감독, &lt;아바타 2&gt;에서 판도라 행성의 사실적인 수중 세계를 보게 될...</td>\n",
              "      <td>c106****</td>\n",
              "      <td>\\n     &lt;아바타&gt; 시퀄 제작에 열중하고 있는 제임스 카메론 감독이 &lt;아바타 2...</td>\n",
              "    </tr>\n",
              "    <tr>\n",
              "      <th>68</th>\n",
              "      <td>아바타 2 - 2020년 12월 개봉 소식 = 2020년 개봉예정영화</td>\n",
              "      <td>inee****</td>\n",
              "      <td>\\n아바타 2 (Avatar 2, 2020)\\n\\n아바타 2\\n\\n감독\\n제임스 카...</td>\n",
              "    </tr>\n",
              "    <tr>\n",
              "      <th>69</th>\n",
              "      <td>&lt;아바타&gt; 시퀄, 올봄 뉴질랜드에서 라이브 액션 촬영 시작!!!</td>\n",
              "      <td>c106****</td>\n",
              "      <td>\\n     역대 월드와이드 최고 흥행 기록(※27억8,796만불)을 가지고 있는 ...</td>\n",
              "    </tr>\n",
              "    <tr>\n",
              "      <th>70</th>\n",
              "      <td>[BIFF]사회적 메시지 전하는 게 영화인이 할 일</td>\n",
              "      <td>thed****</td>\n",
              "      <td>\\n2009년 12월 개봉해 국내에서 1,333만 명의 관객을 동원한 영화 &lt;아바타...</td>\n",
              "    </tr>\n",
              "  </tbody>\n",
              "</table>\n",
              "<p>71 rows × 3 columns</p>\n",
              "</div>\n",
              "      <button class=\"colab-df-convert\" onclick=\"convertToInteractive('df-2281f5ba-3acf-415f-aac3-94fe3459ab7e')\"\n",
              "              title=\"Convert this dataframe to an interactive table.\"\n",
              "              style=\"display:none;\">\n",
              "        \n",
              "  <svg xmlns=\"http://www.w3.org/2000/svg\" height=\"24px\"viewBox=\"0 0 24 24\"\n",
              "       width=\"24px\">\n",
              "    <path d=\"M0 0h24v24H0V0z\" fill=\"none\"/>\n",
              "    <path d=\"M18.56 5.44l.94 2.06.94-2.06 2.06-.94-2.06-.94-.94-2.06-.94 2.06-2.06.94zm-11 1L8.5 8.5l.94-2.06 2.06-.94-2.06-.94L8.5 2.5l-.94 2.06-2.06.94zm10 10l.94 2.06.94-2.06 2.06-.94-2.06-.94-.94-2.06-.94 2.06-2.06.94z\"/><path d=\"M17.41 7.96l-1.37-1.37c-.4-.4-.92-.59-1.43-.59-.52 0-1.04.2-1.43.59L10.3 9.45l-7.72 7.72c-.78.78-.78 2.05 0 2.83L4 21.41c.39.39.9.59 1.41.59.51 0 1.02-.2 1.41-.59l7.78-7.78 2.81-2.81c.8-.78.8-2.07 0-2.86zM5.41 20L4 18.59l7.72-7.72 1.47 1.35L5.41 20z\"/>\n",
              "  </svg>\n",
              "      </button>\n",
              "      \n",
              "  <style>\n",
              "    .colab-df-container {\n",
              "      display:flex;\n",
              "      flex-wrap:wrap;\n",
              "      gap: 12px;\n",
              "    }\n",
              "\n",
              "    .colab-df-convert {\n",
              "      background-color: #E8F0FE;\n",
              "      border: none;\n",
              "      border-radius: 50%;\n",
              "      cursor: pointer;\n",
              "      display: none;\n",
              "      fill: #1967D2;\n",
              "      height: 32px;\n",
              "      padding: 0 0 0 0;\n",
              "      width: 32px;\n",
              "    }\n",
              "\n",
              "    .colab-df-convert:hover {\n",
              "      background-color: #E2EBFA;\n",
              "      box-shadow: 0px 1px 2px rgba(60, 64, 67, 0.3), 0px 1px 3px 1px rgba(60, 64, 67, 0.15);\n",
              "      fill: #174EA6;\n",
              "    }\n",
              "\n",
              "    [theme=dark] .colab-df-convert {\n",
              "      background-color: #3B4455;\n",
              "      fill: #D2E3FC;\n",
              "    }\n",
              "\n",
              "    [theme=dark] .colab-df-convert:hover {\n",
              "      background-color: #434B5C;\n",
              "      box-shadow: 0px 1px 3px 1px rgba(0, 0, 0, 0.15);\n",
              "      filter: drop-shadow(0px 1px 2px rgba(0, 0, 0, 0.3));\n",
              "      fill: #FFFFFF;\n",
              "    }\n",
              "  </style>\n",
              "\n",
              "      <script>\n",
              "        const buttonEl =\n",
              "          document.querySelector('#df-2281f5ba-3acf-415f-aac3-94fe3459ab7e button.colab-df-convert');\n",
              "        buttonEl.style.display =\n",
              "          google.colab.kernel.accessAllowed ? 'block' : 'none';\n",
              "\n",
              "        async function convertToInteractive(key) {\n",
              "          const element = document.querySelector('#df-2281f5ba-3acf-415f-aac3-94fe3459ab7e');\n",
              "          const dataTable =\n",
              "            await google.colab.kernel.invokeFunction('convertToInteractive',\n",
              "                                                     [key], {});\n",
              "          if (!dataTable) return;\n",
              "\n",
              "          const docLinkHtml = 'Like what you see? Visit the ' +\n",
              "            '<a target=\"_blank\" href=https://colab.research.google.com/notebooks/data_table.ipynb>data table notebook</a>'\n",
              "            + ' to learn more about interactive tables.';\n",
              "          element.innerHTML = '';\n",
              "          dataTable['output_type'] = 'display_data';\n",
              "          await google.colab.output.renderOutput(dataTable, element);\n",
              "          const docLink = document.createElement('div');\n",
              "          docLink.innerHTML = docLinkHtml;\n",
              "          element.appendChild(docLink);\n",
              "        }\n",
              "      </script>\n",
              "    </div>\n",
              "  </div>\n",
              "  "
            ]
          },
          "metadata": {},
          "execution_count": 43
        }
      ]
    },
    {
      "cell_type": "code",
      "source": [
        "# CSV 파일로 저장\n",
        "df_data.to_csv(\"naver_review_Avatar.csv\")"
      ],
      "metadata": {
        "id": "HmSk6Kdh07A2"
      },
      "execution_count": null,
      "outputs": []
    }
  ]
}