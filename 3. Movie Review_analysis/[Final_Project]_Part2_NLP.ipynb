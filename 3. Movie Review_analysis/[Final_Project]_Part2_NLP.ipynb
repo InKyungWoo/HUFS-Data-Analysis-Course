{
  "nbformat": 4,
  "nbformat_minor": 0,
  "metadata": {
    "colab": {
      "provenance": [],
      "toc_visible": true
    },
    "kernelspec": {
      "name": "python3",
      "display_name": "Python 3"
    },
    "language_info": {
      "name": "python"
    }
  },
  "cells": [
    {
      "cell_type": "markdown",
      "source": [
        "1. 네이버 영화 리뷰 데이터셋을 활용하여, 자연어 모델링을 위한 형태소 분석 등 전처리 기법을 학습합니다.\n",
        "\n",
        "2. 전처리된 자연어 데이터를 벡터화하는 TF-IDF 기법을 이해합니다.\n",
        "\n",
        "3. 벡터화된 데이터를 활용하여 토픽 모델링과 감성분석 모델링을 실습해봅니다."
      ],
      "metadata": {
        "id": "obLIfI8e7yX0"
      }
    },
    {
      "cell_type": "code",
      "source": [
        "# (구글 코랩에서 실습할 경우) 아래 코드를 실행하여 한글 폰트를 설치합니다. \n",
        "# 설치가 완료되면, 커널을 재시작합니다. (상단 메뉴에서 [런타임] - [런타임 다시 시작] 을 선택)\n",
        "\n",
        "!sudo apt-get install -y fonts-nanum\n",
        "!sudo fc-cache -fv\n",
        "!rm ~/.cache/matplotlib -rf"
      ],
      "metadata": {
        "id": "u-HZrsz07z49",
        "colab": {
          "base_uri": "https://localhost:8080/"
        },
        "outputId": "b70c3f38-2840-4e93-dfc5-b57a356c7f73"
      },
      "execution_count": null,
      "outputs": [
        {
          "output_type": "stream",
          "name": "stdout",
          "text": [
            "Reading package lists... Done\n",
            "Building dependency tree       \n",
            "Reading state information... Done\n",
            "fonts-nanum is already the newest version (20180306-3).\n",
            "The following package was automatically installed and is no longer required:\n",
            "  libnvidia-common-510\n",
            "Use 'sudo apt autoremove' to remove it.\n",
            "0 upgraded, 0 newly installed, 0 to remove and 27 not upgraded.\n",
            "/usr/share/fonts: caching, new cache contents: 0 fonts, 1 dirs\n",
            "/usr/share/fonts/truetype: caching, new cache contents: 0 fonts, 3 dirs\n",
            "/usr/share/fonts/truetype/humor-sans: caching, new cache contents: 1 fonts, 0 dirs\n",
            "/usr/share/fonts/truetype/liberation: caching, new cache contents: 16 fonts, 0 dirs\n",
            "/usr/share/fonts/truetype/nanum: caching, new cache contents: 10 fonts, 0 dirs\n",
            "/usr/local/share/fonts: caching, new cache contents: 0 fonts, 0 dirs\n",
            "/root/.local/share/fonts: skipping, no such directory\n",
            "/root/.fonts: skipping, no such directory\n",
            "/usr/share/fonts/truetype: skipping, looped directory detected\n",
            "/usr/share/fonts/truetype/humor-sans: skipping, looped directory detected\n",
            "/usr/share/fonts/truetype/liberation: skipping, looped directory detected\n",
            "/usr/share/fonts/truetype/nanum: skipping, looped directory detected\n",
            "/var/cache/fontconfig: cleaning cache directory\n",
            "/root/.cache/fontconfig: not cleaning non-existent cache directory\n",
            "/root/.fontconfig: not cleaning non-existent cache directory\n",
            "fc-cache: succeeded\n"
          ]
        }
      ]
    },
    {
      "cell_type": "markdown",
      "source": [
        "# 라이브러리 불러오기\n"
      ],
      "metadata": {
        "id": "rWr0K8YI8Xfy"
      }
    },
    {
      "cell_type": "code",
      "source": [
        "import pandas as pd\n",
        "import numpy as np\n",
        "\n",
        "import os, re\n",
        "from tqdm import tqdm\n",
        "\n",
        "# 경고문구 미표시\n",
        "import warnings\n",
        "warnings.filterwarnings('ignore')\n",
        "\n",
        "# 한글 폰트 지정\n",
        "import matplotlib.pyplot as plt\n",
        "plt.rc('font', family='NanumBarunGothic')"
      ],
      "metadata": {
        "id": "_dNc4FbL8Z37"
      },
      "execution_count": null,
      "outputs": []
    },
    {
      "cell_type": "markdown",
      "source": [
        "# 네이버 영화 리뷰 데이터 - 다운로드\n",
        "-  출처: https://github.com/e9t/nsmc"
      ],
      "metadata": {
        "id": "D4qVs2qQ8dhN"
      }
    },
    {
      "cell_type": "code",
      "source": [
        "# 다운로드 받을 폴더를 준비\n",
        "DATA_DIR = \"./data\"\n",
        "os.makedirs(DATA_DIR, exist_ok=True)"
      ],
      "metadata": {
        "id": "xEly7huk8c_Q"
      },
      "execution_count": null,
      "outputs": []
    },
    {
      "cell_type": "code",
      "source": [
        "# 데이터 다운로드 \n",
        "import torchtext \n",
        "torchtext.utils.download_from_url(url='https://raw.githubusercontent.com/e9t/nsmc/master/ratings_train.txt', \n",
        "                                  path=os.path.join(DATA_DIR, 'review.txt'))"
      ],
      "metadata": {
        "colab": {
          "base_uri": "https://localhost:8080/",
          "height": 36
        },
        "id": "I7qdRkZS9xFW",
        "outputId": "6a12cae1-4fb1-4e87-a9dd-83c18a59fb8d"
      },
      "execution_count": null,
      "outputs": [
        {
          "output_type": "execute_result",
          "data": {
            "text/plain": [
              "'/content/data/review.txt'"
            ],
            "application/vnd.google.colaboratory.intrinsic+json": {
              "type": "string"
            }
          },
          "metadata": {},
          "execution_count": 8
        }
      ]
    },
    {
      "cell_type": "code",
      "source": [
        "# txt 파일을 판다스 데이터프레임으로 읽어오기\n",
        "data = pd.read_csv(os.path.join(DATA_DIR, 'review.txt'), sep='\\t')\n",
        "\n",
        "# 데이터프레임의 크기\n",
        "print(data.shape)\n",
        "\n",
        "# 첫 5행을 출력\n",
        "data.head()"
      ],
      "metadata": {
        "colab": {
          "base_uri": "https://localhost:8080/",
          "height": 223
        },
        "id": "Nq3d7HKa95xx",
        "outputId": "4d60429a-fc8d-4f53-ab0b-1b3d78224fa4"
      },
      "execution_count": null,
      "outputs": [
        {
          "output_type": "stream",
          "name": "stdout",
          "text": [
            "(150000, 3)\n"
          ]
        },
        {
          "output_type": "execute_result",
          "data": {
            "text/plain": [
              "         id                                           document  label\n",
              "0   9976970                                아 더빙.. 진짜 짜증나네요 목소리      0\n",
              "1   3819312                  흠...포스터보고 초딩영화줄....오버연기조차 가볍지 않구나      1\n",
              "2  10265843                                  너무재밓었다그래서보는것을추천한다      0\n",
              "3   9045019                      교도소 이야기구먼 ..솔직히 재미는 없다..평점 조정      0\n",
              "4   6483659  사이몬페그의 익살스런 연기가 돋보였던 영화!스파이더맨에서 늙어보이기만 했던 커스틴 ...      1"
            ],
            "text/html": [
              "\n",
              "  <div id=\"df-2529a239-e309-4a4e-bc44-ea41258e76f7\">\n",
              "    <div class=\"colab-df-container\">\n",
              "      <div>\n",
              "<style scoped>\n",
              "    .dataframe tbody tr th:only-of-type {\n",
              "        vertical-align: middle;\n",
              "    }\n",
              "\n",
              "    .dataframe tbody tr th {\n",
              "        vertical-align: top;\n",
              "    }\n",
              "\n",
              "    .dataframe thead th {\n",
              "        text-align: right;\n",
              "    }\n",
              "</style>\n",
              "<table border=\"1\" class=\"dataframe\">\n",
              "  <thead>\n",
              "    <tr style=\"text-align: right;\">\n",
              "      <th></th>\n",
              "      <th>id</th>\n",
              "      <th>document</th>\n",
              "      <th>label</th>\n",
              "    </tr>\n",
              "  </thead>\n",
              "  <tbody>\n",
              "    <tr>\n",
              "      <th>0</th>\n",
              "      <td>9976970</td>\n",
              "      <td>아 더빙.. 진짜 짜증나네요 목소리</td>\n",
              "      <td>0</td>\n",
              "    </tr>\n",
              "    <tr>\n",
              "      <th>1</th>\n",
              "      <td>3819312</td>\n",
              "      <td>흠...포스터보고 초딩영화줄....오버연기조차 가볍지 않구나</td>\n",
              "      <td>1</td>\n",
              "    </tr>\n",
              "    <tr>\n",
              "      <th>2</th>\n",
              "      <td>10265843</td>\n",
              "      <td>너무재밓었다그래서보는것을추천한다</td>\n",
              "      <td>0</td>\n",
              "    </tr>\n",
              "    <tr>\n",
              "      <th>3</th>\n",
              "      <td>9045019</td>\n",
              "      <td>교도소 이야기구먼 ..솔직히 재미는 없다..평점 조정</td>\n",
              "      <td>0</td>\n",
              "    </tr>\n",
              "    <tr>\n",
              "      <th>4</th>\n",
              "      <td>6483659</td>\n",
              "      <td>사이몬페그의 익살스런 연기가 돋보였던 영화!스파이더맨에서 늙어보이기만 했던 커스틴 ...</td>\n",
              "      <td>1</td>\n",
              "    </tr>\n",
              "  </tbody>\n",
              "</table>\n",
              "</div>\n",
              "      <button class=\"colab-df-convert\" onclick=\"convertToInteractive('df-2529a239-e309-4a4e-bc44-ea41258e76f7')\"\n",
              "              title=\"Convert this dataframe to an interactive table.\"\n",
              "              style=\"display:none;\">\n",
              "        \n",
              "  <svg xmlns=\"http://www.w3.org/2000/svg\" height=\"24px\"viewBox=\"0 0 24 24\"\n",
              "       width=\"24px\">\n",
              "    <path d=\"M0 0h24v24H0V0z\" fill=\"none\"/>\n",
              "    <path d=\"M18.56 5.44l.94 2.06.94-2.06 2.06-.94-2.06-.94-.94-2.06-.94 2.06-2.06.94zm-11 1L8.5 8.5l.94-2.06 2.06-.94-2.06-.94L8.5 2.5l-.94 2.06-2.06.94zm10 10l.94 2.06.94-2.06 2.06-.94-2.06-.94-.94-2.06-.94 2.06-2.06.94z\"/><path d=\"M17.41 7.96l-1.37-1.37c-.4-.4-.92-.59-1.43-.59-.52 0-1.04.2-1.43.59L10.3 9.45l-7.72 7.72c-.78.78-.78 2.05 0 2.83L4 21.41c.39.39.9.59 1.41.59.51 0 1.02-.2 1.41-.59l7.78-7.78 2.81-2.81c.8-.78.8-2.07 0-2.86zM5.41 20L4 18.59l7.72-7.72 1.47 1.35L5.41 20z\"/>\n",
              "  </svg>\n",
              "      </button>\n",
              "      \n",
              "  <style>\n",
              "    .colab-df-container {\n",
              "      display:flex;\n",
              "      flex-wrap:wrap;\n",
              "      gap: 12px;\n",
              "    }\n",
              "\n",
              "    .colab-df-convert {\n",
              "      background-color: #E8F0FE;\n",
              "      border: none;\n",
              "      border-radius: 50%;\n",
              "      cursor: pointer;\n",
              "      display: none;\n",
              "      fill: #1967D2;\n",
              "      height: 32px;\n",
              "      padding: 0 0 0 0;\n",
              "      width: 32px;\n",
              "    }\n",
              "\n",
              "    .colab-df-convert:hover {\n",
              "      background-color: #E2EBFA;\n",
              "      box-shadow: 0px 1px 2px rgba(60, 64, 67, 0.3), 0px 1px 3px 1px rgba(60, 64, 67, 0.15);\n",
              "      fill: #174EA6;\n",
              "    }\n",
              "\n",
              "    [theme=dark] .colab-df-convert {\n",
              "      background-color: #3B4455;\n",
              "      fill: #D2E3FC;\n",
              "    }\n",
              "\n",
              "    [theme=dark] .colab-df-convert:hover {\n",
              "      background-color: #434B5C;\n",
              "      box-shadow: 0px 1px 3px 1px rgba(0, 0, 0, 0.15);\n",
              "      filter: drop-shadow(0px 1px 2px rgba(0, 0, 0, 0.3));\n",
              "      fill: #FFFFFF;\n",
              "    }\n",
              "  </style>\n",
              "\n",
              "      <script>\n",
              "        const buttonEl =\n",
              "          document.querySelector('#df-2529a239-e309-4a4e-bc44-ea41258e76f7 button.colab-df-convert');\n",
              "        buttonEl.style.display =\n",
              "          google.colab.kernel.accessAllowed ? 'block' : 'none';\n",
              "\n",
              "        async function convertToInteractive(key) {\n",
              "          const element = document.querySelector('#df-2529a239-e309-4a4e-bc44-ea41258e76f7');\n",
              "          const dataTable =\n",
              "            await google.colab.kernel.invokeFunction('convertToInteractive',\n",
              "                                                     [key], {});\n",
              "          if (!dataTable) return;\n",
              "\n",
              "          const docLinkHtml = 'Like what you see? Visit the ' +\n",
              "            '<a target=\"_blank\" href=https://colab.research.google.com/notebooks/data_table.ipynb>data table notebook</a>'\n",
              "            + ' to learn more about interactive tables.';\n",
              "          element.innerHTML = '';\n",
              "          dataTable['output_type'] = 'display_data';\n",
              "          await google.colab.output.renderOutput(dataTable, element);\n",
              "          const docLink = document.createElement('div');\n",
              "          docLink.innerHTML = docLinkHtml;\n",
              "          element.appendChild(docLink);\n",
              "        }\n",
              "      </script>\n",
              "    </div>\n",
              "  </div>\n",
              "  "
            ]
          },
          "metadata": {},
          "execution_count": 9
        }
      ]
    },
    {
      "cell_type": "markdown",
      "source": [
        "# 한글 형태소 분석\n",
        "\n",
        "한국어 정보처리를 위한 파이썬 패키지인 KoNLPy(코엔엘파이)를 활용하여\n",
        "\n",
        "분석 대상이 되는 문장(텍스트)를 최소 의미 단어를 뜻하는 형태소를 기준으로 토큰(token)으로 분리"
      ],
      "metadata": {
        "id": "z6HONxeF98VD"
      }
    },
    {
      "cell_type": "markdown",
      "source": [
        "## **1) KoNLPy 설치**"
      ],
      "metadata": {
        "id": "IJoi3DJR-IUL"
      }
    },
    {
      "cell_type": "code",
      "source": [
        "# 코랩에 konlpy 패키지를 설치합니다.\n",
        "! pip install konlpy"
      ],
      "metadata": {
        "colab": {
          "base_uri": "https://localhost:8080/"
        },
        "id": "TmvyOQJo-CHA",
        "outputId": "9b3b3f07-392a-483e-93be-41b440580fe8"
      },
      "execution_count": null,
      "outputs": [
        {
          "output_type": "stream",
          "name": "stdout",
          "text": [
            "Looking in indexes: https://pypi.org/simple, https://us-python.pkg.dev/colab-wheels/public/simple/\n",
            "Requirement already satisfied: konlpy in /usr/local/lib/python3.8/dist-packages (0.6.0)\n",
            "Requirement already satisfied: lxml>=4.1.0 in /usr/local/lib/python3.8/dist-packages (from konlpy) (4.9.2)\n",
            "Requirement already satisfied: numpy>=1.6 in /usr/local/lib/python3.8/dist-packages (from konlpy) (1.21.6)\n",
            "Requirement already satisfied: JPype1>=0.7.0 in /usr/local/lib/python3.8/dist-packages (from konlpy) (1.4.1)\n",
            "Requirement already satisfied: packaging in /usr/local/lib/python3.8/dist-packages (from JPype1>=0.7.0->konlpy) (23.0)\n"
          ]
        }
      ]
    },
    {
      "cell_type": "markdown",
      "source": [
        "## **2) KoNLPy 한글 형태소 분석**\n",
        "\n",
        "형태소 분석기의 한 종류인 Okt tagger의 다양한 분석 함수를 적용하고, 각 함수의 기능과 차이를 이해합니다."
      ],
      "metadata": {
        "id": "Buss4JOI-PKB"
      }
    },
    {
      "cell_type": "code",
      "source": [
        "# 긍정 리뷰를 하나 선택\n",
        "sample_text = data['document'].iloc[149978]\n",
        "print(type(sample_text))\n",
        "print(sample_text)"
      ],
      "metadata": {
        "colab": {
          "base_uri": "https://localhost:8080/"
        },
        "id": "J1tzv7G5-QH7",
        "outputId": "20a0410b-7796-4358-ef2e-cafd10fe701c"
      },
      "execution_count": null,
      "outputs": [
        {
          "output_type": "stream",
          "name": "stdout",
          "text": [
            "<class 'str'>\n",
            "그리 만족스럽진못했어도 7점은 나와야되는것같아 10점줌. 주인공들연기도 훌륭했고 내용도 이정도면 괜찮았다. 해피엔딩으로끝났으면 그저 진부한영화가 되버릴뻔. 그래도 엔딩이 섭섭한건 없지않아있었음. 킬러들의도시도그렇고 콜린파렐을 너무 축축하게 끝내버리는듯\n"
          ]
        }
      ]
    },
    {
      "cell_type": "code",
      "source": [
        "# 트위터 형태소 분석기(Okt)를 활용\n",
        "from konlpy.utils import pprint\n",
        "from konlpy.tag import Okt\n",
        "okt = Okt()\n",
        "print(okt)"
      ],
      "metadata": {
        "colab": {
          "base_uri": "https://localhost:8080/"
        },
        "id": "jamLKJMi-Ufw",
        "outputId": "8d1db9d0-b37e-44ed-caa9-6b93bfa1aa13"
      },
      "execution_count": null,
      "outputs": [
        {
          "output_type": "stream",
          "name": "stdout",
          "text": [
            "<konlpy.tag._okt.Okt object at 0x7fe7b1b55bb0>\n"
          ]
        }
      ]
    },
    {
      "cell_type": "code",
      "source": [
        "# (단어, 품사) 추출\n",
        "tokens = okt.pos(sample_text)\n",
        "pprint(tokens)"
      ],
      "metadata": {
        "colab": {
          "base_uri": "https://localhost:8080/"
        },
        "id": "ufGkArSJ-XL-",
        "outputId": "b8bfda83-e2d5-46bc-99ad-30e26b916446"
      },
      "execution_count": null,
      "outputs": [
        {
          "output_type": "stream",
          "name": "stdout",
          "text": [
            "[('그리', 'Verb'),\n",
            " ('만족스럽진못', 'Adjective'),\n",
            " ('했어도', 'Verb'),\n",
            " ('7', 'Number'),\n",
            " ('점', 'Noun'),\n",
            " ('은', 'Josa'),\n",
            " ('나와야', 'Verb'),\n",
            " ('되는것', 'Verb'),\n",
            " ('같아', 'Adjective'),\n",
            " ('10', 'Number'),\n",
            " ('점줌', 'Noun'),\n",
            " ('.', 'Punctuation'),\n",
            " ('주인공', 'Noun'),\n",
            " ('들', 'Suffix'),\n",
            " ('연', 'Modifier'),\n",
            " ('기도', 'Noun'),\n",
            " ('훌륭했고', 'Adjective'),\n",
            " ('내용', 'Noun'),\n",
            " ('도', 'Josa'),\n",
            " ('이', 'Determiner'),\n",
            " ('정도', 'Noun'),\n",
            " ('면', 'Josa'),\n",
            " ('괜찮았다', 'Adjective'),\n",
            " ('.', 'Punctuation'),\n",
            " ('해피엔딩', 'Noun'),\n",
            " ('으로', 'Josa'),\n",
            " ('끝났으면', 'Verb'),\n",
            " ('그저', 'Adverb'),\n",
            " ('진부한', 'Adjective'),\n",
            " ('영화', 'Noun'),\n",
            " ('가', 'Josa'),\n",
            " ('되', 'Verb'),\n",
            " ('버릴', 'Verb'),\n",
            " ('뻔', 'Noun'),\n",
            " ('.', 'Punctuation'),\n",
            " ('그래도', 'Adverb'),\n",
            " ('엔딩', 'Noun'),\n",
            " ('이', 'Josa'),\n",
            " ('섭섭한건', 'Adjective'),\n",
            " ('없지', 'Adjective'),\n",
            " ('않아있었음', 'Verb'),\n",
            " ('.', 'Punctuation'),\n",
            " ('킬러', 'Noun'),\n",
            " ('들', 'Suffix'),\n",
            " ('의', 'Josa'),\n",
            " ('도시', 'Noun'),\n",
            " ('도', 'Josa'),\n",
            " ('그렇고', 'Adjective'),\n",
            " ('콜린파렐', 'Noun'),\n",
            " ('을', 'Josa'),\n",
            " ('너무', 'Adverb'),\n",
            " ('축축하게', 'Adjective'),\n",
            " ('끝내', 'Noun'),\n",
            " ('버리는듯', 'Verb')]\n"
          ]
        }
      ]
    },
    {
      "cell_type": "code",
      "source": [
        "# 단어 ONLY 추출\n",
        "tokens = okt.morphs(sample_text)\n",
        "pprint(tokens)"
      ],
      "metadata": {
        "colab": {
          "base_uri": "https://localhost:8080/"
        },
        "id": "er0ynULh-dFu",
        "outputId": "01f1875d-f62b-4477-c971-6ab53fcded00"
      },
      "execution_count": null,
      "outputs": [
        {
          "output_type": "stream",
          "name": "stdout",
          "text": [
            "['그리',\n",
            " '만족스럽진못',\n",
            " '했어도',\n",
            " '7',\n",
            " '점',\n",
            " '은',\n",
            " '나와야',\n",
            " '되는것',\n",
            " '같아',\n",
            " '10',\n",
            " '점줌',\n",
            " '.',\n",
            " '주인공',\n",
            " '들',\n",
            " '연',\n",
            " '기도',\n",
            " '훌륭했고',\n",
            " '내용',\n",
            " '도',\n",
            " '이',\n",
            " '정도',\n",
            " '면',\n",
            " '괜찮았다',\n",
            " '.',\n",
            " '해피엔딩',\n",
            " '으로',\n",
            " '끝났으면',\n",
            " '그저',\n",
            " '진부한',\n",
            " '영화',\n",
            " '가',\n",
            " '되',\n",
            " '버릴',\n",
            " '뻔',\n",
            " '.',\n",
            " '그래도',\n",
            " '엔딩',\n",
            " '이',\n",
            " '섭섭한건',\n",
            " '없지',\n",
            " '않아있었음',\n",
            " '.',\n",
            " '킬러',\n",
            " '들',\n",
            " '의',\n",
            " '도시',\n",
            " '도',\n",
            " '그렇고',\n",
            " '콜린파렐',\n",
            " '을',\n",
            " '너무',\n",
            " '축축하게',\n",
            " '끝내',\n",
            " '버리는듯']\n"
          ]
        }
      ]
    },
    {
      "cell_type": "code",
      "source": [
        "# 명사 ONLY 추출\n",
        "tokens = okt.nouns(sample_text)\n",
        "pprint(tokens)"
      ],
      "metadata": {
        "id": "Vp4EgeLt-gLa",
        "colab": {
          "base_uri": "https://localhost:8080/"
        },
        "outputId": "e1826e08-8923-49ca-f987-33bd7bc62762"
      },
      "execution_count": null,
      "outputs": [
        {
          "output_type": "stream",
          "name": "stdout",
          "text": [
            "['점',\n",
            " '점줌',\n",
            " '주인공',\n",
            " '기도',\n",
            " '내용',\n",
            " '정도',\n",
            " '해피엔딩',\n",
            " '영화',\n",
            " '뻔',\n",
            " '엔딩',\n",
            " '킬러',\n",
            " '도시',\n",
            " '콜린파렐',\n",
            " '끝내']\n"
          ]
        }
      ]
    },
    {
      "cell_type": "markdown",
      "source": [
        "## **3) 텍스트 전처리**\n",
        "\n",
        "Okt 분석 도구 중에서 명사를 추출하는 함수를 사용하여, 각 리뷰 문장에서 명사를 추출하여 토큰화합니다. 이 때, 두 글자 이하의 단어를 분석대상에서 제외하기로 합니다."
      ],
      "metadata": {
        "id": "dOniROQs-isw"
      }
    },
    {
      "cell_type": "code",
      "source": [
        "# 누락 데이터를 제거\n",
        "review_data = data['document'].dropna().values\n",
        "\n",
        "# 예측력 향상을 위해, 149995개의 전체 샘플 추출\n",
        "review_data = review_data[:149995]\n",
        "\n",
        "# 배열의 크기\n",
        "print(review_data.shape)\n",
        "\n",
        "# 첫번째 데이터\n",
        "print(review_data[0])\n",
        "\n",
        "# 마지막 데이터\n",
        "print(review_data[149994])"
      ],
      "metadata": {
        "colab": {
          "base_uri": "https://localhost:8080/"
        },
        "id": "5uzXuCaR-sCe",
        "outputId": "070a9c7a-c092-4962-a026-ee3ade10273a"
      },
      "execution_count": null,
      "outputs": [
        {
          "output_type": "stream",
          "name": "stdout",
          "text": [
            "(149995,)\n",
            "아 더빙.. 진짜 짜증나네요 목소리\n",
            "한국 영화 최초로 수간하는 내용이 담긴 영화\n"
          ]
        }
      ]
    },
    {
      "cell_type": "code",
      "source": [
        "# 세 글자 이상의 명사를 사용 (두 글자 이하의 단어는 제거)\n",
        "cleaned_review_data = []\n",
        "\n",
        "for review in tqdm(review_data):\n",
        "    tokens = okt.nouns(review)\n",
        "    cleaned_tokens = []\n",
        "    for word in tokens:\n",
        "        if len(word) > 2:\n",
        "            cleaned_tokens.append(word)\n",
        "        else:\n",
        "            pass\n",
        "    cleaned_review = \" \".join(cleaned_tokens)\n",
        "    cleaned_review_data.append(cleaned_review)\n",
        "\n",
        "print(len(cleaned_review_data))\n",
        "print(cleaned_review_data[0])"
      ],
      "metadata": {
        "colab": {
          "base_uri": "https://localhost:8080/"
        },
        "id": "U0NT35J8_dg3",
        "outputId": "4bdd8efc-e858-49fd-b328-2a98344f7b02"
      },
      "execution_count": null,
      "outputs": [
        {
          "output_type": "stream",
          "name": "stderr",
          "text": [
            "100%|██████████| 149995/149995 [09:54<00:00, 252.14it/s]"
          ]
        },
        {
          "output_type": "stream",
          "name": "stdout",
          "text": [
            "149995\n",
            "목소리\n"
          ]
        },
        {
          "output_type": "stream",
          "name": "stderr",
          "text": [
            "\n"
          ]
        }
      ]
    },
    {
      "cell_type": "markdown",
      "source": [
        "## 4**) TF-IDF 벡터로 표현**\n",
        "\n",
        "LDA, 로지스틱 회귀 등 머신러닝의 입력값은 수치형태로 표현된 매트릭스입니다. 머신러닝 모델을 활용하기 위해 이 프로젝트에서는 TF-IDF의 형태로 텍스트 문서를 수치화 합니다.\n"
      ],
      "metadata": {
        "id": "fo-k9uhz_pm9"
      }
    },
    {
      "cell_type": "code",
      "source": [
        "# 사이킷런 패키지 활용 \n",
        "from sklearn.feature_extraction.text import TfidfVectorizer\n",
        "\n",
        "# TF-IDF 변환기 객체를 생성\n",
        "tfid = TfidfVectorizer()\n",
        "\n",
        "# TF-IDF 변환기에 데이터를 입력하여 변환\n",
        "review_tfid = tfid.fit_transform(cleaned_review_data)\n",
        "\n",
        "# 배열의 크기\n",
        "print(review_tfid.shape)\n",
        "\n",
        "# 첫 번째 데이터\n",
        "print(review_tfid[0])"
      ],
      "metadata": {
        "colab": {
          "base_uri": "https://localhost:8080/"
        },
        "id": "OteltgOS_q4C",
        "outputId": "bae4907d-8eb7-4e81-c331-277910fd1273"
      },
      "execution_count": null,
      "outputs": [
        {
          "output_type": "stream",
          "name": "stdout",
          "text": [
            "(149995, 17190)\n",
            "  (0, 4849)\t1.0\n"
          ]
        }
      ]
    },
    {
      "cell_type": "code",
      "source": [
        "# 단어 사전 확인 (딕셔너리 형태)\n",
        "vocab = tfid.vocabulary_\n",
        "\n",
        "# 단어 사전의 크기\n",
        "print(len(vocab))\n",
        "\n",
        "# 단어 사전 출력 (앞에서 5개의 단어만 출력)\n",
        "print({ k:v for i, (k, v) in enumerate(vocab.items()) if i < 5 })"
      ],
      "metadata": {
        "colab": {
          "base_uri": "https://localhost:8080/"
        },
        "id": "6oAF0r8i_u5v",
        "outputId": "dabdd113-38dd-46ca-8e7a-2c167a1ea8ab"
      },
      "execution_count": null,
      "outputs": [
        {
          "output_type": "stream",
          "name": "stdout",
          "text": [
            "17190\n",
            "{'목소리': 4849, '포스터': 15807, '교도소': 976, '이야기': 11680, '스파이더맨': 8274}\n"
          ]
        }
      ]
    },
    {
      "cell_type": "code",
      "source": [
        "# 단어들의 사전 인덱스를 이용하여 원래 단어를 검색하는 매핑 딕셔너리\n",
        "index_to_word = { v:k for k, v in vocab.items() } \n",
        "\n",
        "# 앞에서 5개의 단어를 출력\n",
        "print({  k:v for i, (k, v) in enumerate(index_to_word.items()) if i < 5 })"
      ],
      "metadata": {
        "colab": {
          "base_uri": "https://localhost:8080/"
        },
        "id": "2cNGu8yJ_yp-",
        "outputId": "87c71311-b5b4-430b-8b38-2a1c448f51ce"
      },
      "execution_count": null,
      "outputs": [
        {
          "output_type": "stream",
          "name": "stdout",
          "text": [
            "{4849: '목소리', 15807: '포스터', 976: '교도소', 11680: '이야기', 8274: '스파이더맨'}\n"
          ]
        }
      ]
    },
    {
      "cell_type": "code",
      "source": [
        "# 첫 번째 리뷰를 구성하는 단어들의 사전 인덱스를 이용하여 원래 단어를 복원 (순서 복원 X)\n",
        "original_text = \" \".join([index_to_word[word_idx] for word_idx in review_tfid[0].indices])\n",
        "original_text"
      ],
      "metadata": {
        "colab": {
          "base_uri": "https://localhost:8080/",
          "height": 36
        },
        "id": "4rgt1i14_3FN",
        "outputId": "75758564-a9d6-425c-d3c6-b74af2bbd73e"
      },
      "execution_count": null,
      "outputs": [
        {
          "output_type": "execute_result",
          "data": {
            "text/plain": [
              "'목소리'"
            ],
            "application/vnd.google.colaboratory.intrinsic+json": {
              "type": "string"
            }
          },
          "metadata": {},
          "execution_count": 21
        }
      ]
    },
    {
      "cell_type": "markdown",
      "source": [
        "# **Topic Modeling**\n",
        "\n",
        "문서는 여러 종류의 단어들의 집합체로 구성됩니다. 문서를 구성하는 단어들의 확률분포를 활용하여 문서의 토픽(주제)를 파악할 수 있습니다\n"
      ],
      "metadata": {
        "id": "AxApKGg-_5bQ"
      }
    },
    {
      "cell_type": "markdown",
      "source": [
        "## **1) LDA (LatentDirichletAllocation)**\n",
        "\n",
        "LDA 토픽 모델링을 이용하여, 문서로부터 두 종류의 토픽을 추출합니다. 문서의 감성(긍정, 부정) 형태로 토픽이 추출되는지, 아니면 다른 종류의 토픽이 추출되는지 분석하세요.\n"
      ],
      "metadata": {
        "id": "uXBT7W1X_7AI"
      }
    },
    {
      "cell_type": "code",
      "source": [
        "# 사이킷런 패키지 활용\n",
        "from sklearn.decomposition import LatentDirichletAllocation\n",
        "\n",
        "# LDA 모델링 객체를 생성 (토픽 갯수를 2로 설정: 긍정/부정)\n",
        "lda = LatentDirichletAllocation(n_components=2)  \n",
        "\n",
        "# TF-IDF 벡터를 입력하여 모델 학습 \n",
        "lda.fit(review_tfid)"
      ],
      "metadata": {
        "colab": {
          "base_uri": "https://localhost:8080/"
        },
        "id": "uolaIaBU_882",
        "outputId": "276c0ac5-cbdf-43af-ea37-ca7e428f8190"
      },
      "execution_count": null,
      "outputs": [
        {
          "output_type": "execute_result",
          "data": {
            "text/plain": [
              "LatentDirichletAllocation(n_components=2)"
            ]
          },
          "metadata": {},
          "execution_count": 30
        }
      ]
    },
    {
      "cell_type": "code",
      "source": [
        "# 토픽 모델링 결과를 담고 있는 배열의 형태 : (2개의 토픽)\n",
        "print(lda.components_.shape)"
      ],
      "metadata": {
        "colab": {
          "base_uri": "https://localhost:8080/"
        },
        "id": "PIkz02GX__RO",
        "outputId": "0993e998-9cad-48ad-9d47-be7e79e259c2"
      },
      "execution_count": null,
      "outputs": [
        {
          "output_type": "stream",
          "name": "stdout",
          "text": [
            "(2, 17190)\n"
          ]
        }
      ]
    },
    {
      "cell_type": "code",
      "source": [
        "# 21개의 단어 중에서, 토픽 별로 가장 중요도가 높은 단어를 10개씩 출력\n",
        "\n",
        "for idx, topic in enumerate(lda.components_):\n",
        "    print(f\"토픽 유형 {idx+1}:\", [(index_to_word[i], topic[i].round(3)) for i in topic.argsort()[:-11:-1]])"
      ],
      "metadata": {
        "colab": {
          "base_uri": "https://localhost:8080/"
        },
        "id": "BHJpKVtjACFr",
        "outputId": "21bef69e-0f43-4d1c-95d8-28981cd60812"
      },
      "execution_count": null,
      "outputs": [
        {
          "output_type": "stream",
          "name": "stdout",
          "text": [
            "토픽 유형 1: [('스토리', 3082.636), ('드라마', 2777.913), ('마지막', 1686.877), ('이야기', 1387.648), ('주인공', 1344.327), ('코미디', 741.739), ('연기력', 618.403), ('스릴러', 564.521), ('공포영화', 491.146), ('제대로', 490.669)]\n",
            "토픽 유형 2: [('쓰레기', 2271.987), ('이영화', 1168.633), ('시리즈', 608.106), ('캐릭터', 606.595), ('긴장감', 563.977), ('지루함', 475.648), ('한국영', 465.373), ('영화관', 434.144), ('우리나라', 411.584), ('분위기', 406.407)]\n"
          ]
        }
      ]
    },
    {
      "cell_type": "markdown",
      "source": [
        "## **2) pyLDAvis 시각화**\n",
        "\n",
        "pyLDAvis 패키지를 활용하여, LDA 토픽 모델링 경과를 시각화 합니다."
      ],
      "metadata": {
        "id": "fhE7-w9zAEoX"
      }
    },
    {
      "cell_type": "code",
      "source": [
        "# pyLDAvis 설치\n",
        "!pip install pyLDAvis"
      ],
      "metadata": {
        "colab": {
          "base_uri": "https://localhost:8080/"
        },
        "id": "mGATCeBlAF3u",
        "outputId": "2cabd827-2acf-4618-efdd-cc16d9eed62d"
      },
      "execution_count": null,
      "outputs": [
        {
          "output_type": "stream",
          "name": "stdout",
          "text": [
            "Looking in indexes: https://pypi.org/simple, https://us-python.pkg.dev/colab-wheels/public/simple/\n",
            "Requirement already satisfied: pyLDAvis in /usr/local/lib/python3.8/dist-packages (3.3.1)\n",
            "Requirement already satisfied: jinja2 in /usr/local/lib/python3.8/dist-packages (from pyLDAvis) (2.11.3)\n",
            "Requirement already satisfied: gensim in /usr/local/lib/python3.8/dist-packages (from pyLDAvis) (3.6.0)\n",
            "Requirement already satisfied: setuptools in /usr/local/lib/python3.8/dist-packages (from pyLDAvis) (57.4.0)\n",
            "Requirement already satisfied: scikit-learn in /usr/local/lib/python3.8/dist-packages (from pyLDAvis) (1.0.2)\n",
            "Requirement already satisfied: sklearn in /usr/local/lib/python3.8/dist-packages (from pyLDAvis) (0.0.post1)\n",
            "Requirement already satisfied: numexpr in /usr/local/lib/python3.8/dist-packages (from pyLDAvis) (2.8.4)\n",
            "Requirement already satisfied: funcy in /usr/local/lib/python3.8/dist-packages (from pyLDAvis) (1.18)\n",
            "Requirement already satisfied: numpy>=1.20.0 in /usr/local/lib/python3.8/dist-packages (from pyLDAvis) (1.21.6)\n",
            "Requirement already satisfied: future in /usr/local/lib/python3.8/dist-packages (from pyLDAvis) (0.16.0)\n",
            "Requirement already satisfied: scipy in /usr/local/lib/python3.8/dist-packages (from pyLDAvis) (1.7.3)\n",
            "Requirement already satisfied: pandas>=1.2.0 in /usr/local/lib/python3.8/dist-packages (from pyLDAvis) (1.3.5)\n",
            "Requirement already satisfied: joblib in /usr/local/lib/python3.8/dist-packages (from pyLDAvis) (1.2.0)\n",
            "Requirement already satisfied: python-dateutil>=2.7.3 in /usr/local/lib/python3.8/dist-packages (from pandas>=1.2.0->pyLDAvis) (2.8.2)\n",
            "Requirement already satisfied: pytz>=2017.3 in /usr/local/lib/python3.8/dist-packages (from pandas>=1.2.0->pyLDAvis) (2022.7.1)\n",
            "Requirement already satisfied: six>=1.5.0 in /usr/local/lib/python3.8/dist-packages (from gensim->pyLDAvis) (1.15.0)\n",
            "Requirement already satisfied: smart-open>=1.2.1 in /usr/local/lib/python3.8/dist-packages (from gensim->pyLDAvis) (6.3.0)\n",
            "Requirement already satisfied: MarkupSafe>=0.23 in /usr/local/lib/python3.8/dist-packages (from jinja2->pyLDAvis) (2.0.1)\n",
            "Requirement already satisfied: threadpoolctl>=2.0.0 in /usr/local/lib/python3.8/dist-packages (from scikit-learn->pyLDAvis) (3.1.0)\n"
          ]
        }
      ]
    },
    {
      "cell_type": "code",
      "source": [
        "# LDA 토픽 모델링 결과를 시각화\n",
        "import pyLDAvis.sklearn\n",
        "pyLDAvis.enable_notebook()\n",
        "visualization = pyLDAvis.sklearn.prepare(lda, review_tfid, tfid)\n",
        "pyLDAvis.display(visualization)"
      ],
      "metadata": {
        "colab": {
          "base_uri": "https://localhost:8080/",
          "height": 882
        },
        "id": "YSjW4h8JAQVe",
        "outputId": "073e7bda-19bf-4368-f5d2-7c96791067bf"
      },
      "execution_count": null,
      "outputs": [
        {
          "output_type": "execute_result",
          "data": {
            "text/plain": [
              "<IPython.core.display.HTML object>"
            ],
            "text/html": [
              "\n",
              "<link rel=\"stylesheet\" type=\"text/css\" href=\"https://cdn.jsdelivr.net/gh/bmabey/pyLDAvis@3.3.1/pyLDAvis/js/ldavis.v1.0.0.css\">\n",
              "\n",
              "\n",
              "<div id=\"ldavis_el371811406300823169926892494119\"></div>\n",
              "<script type=\"text/javascript\">\n",
              "\n",
              "var ldavis_el371811406300823169926892494119_data = {\"mdsDat\": {\"x\": [0.23886990154220442, -0.23886990154220442], \"y\": [0.0, 0.0], \"topics\": [1, 2], \"cluster\": [1, 1], \"Freq\": [51.132069202141835, 48.867930797858165]}, \"tinfo\": {\"Term\": [\"\\uc2a4\\ud1a0\\ub9ac\", \"\\ub4dc\\ub77c\\ub9c8\", \"\\uc4f0\\ub808\\uae30\", \"\\ub9c8\\uc9c0\\ub9c9\", \"\\uc774\\uc57c\\uae30\", \"\\uc8fc\\uc778\\uacf5\", \"\\uc774\\uc601\\ud654\", \"\\ucf54\\ubbf8\\ub514\", \"\\uc2dc\\ub9ac\\uc988\", \"\\uae34\\uc7a5\\uac10\", \"\\uce90\\ub9ad\\ud130\", \"\\uc5f0\\uae30\\ub825\", \"\\uc2a4\\ub9b4\\ub7ec\", \"\\uc9c0\\ub8e8\\ud568\", \"\\ud55c\\uad6d\\uc601\", \"\\uc81c\\ub300\\ub85c\", \"\\uacf5\\ud3ec\\uc601\\ud654\", \"\\ub3c4\\ub300\\uccb4\", \"\\uc601\\ud654\\uad00\", \"\\uc601\\ud654\\ub85c\", \"\\uc6b0\\ub9ac\\ub098\\ub77c\", \"\\ucd5c\\uace0\\ub2e4\", \"\\ud3ec\\uc2a4\\ud130\", \"\\ubd84\\uc704\\uae30\", \"\\uc2dc\\ub098\\ub9ac\\uc624\", \"\\ud0ac\\ub9c1\\ud0c0\\uc784\", \"\\ucc28\\ub77c\\ub9ac\", \"\\ubab0\\uc785\\ub3c4\", \"\\uc560\\ub2c8\\uba54\\uc774\\uc158\", \"\\uc601\\ud654\\uc778\", \"\\uc2a4\\ud1a0\\ub9ac\", \"\\ub4dc\\ub77c\\ub9c8\", \"\\uc8fc\\uc778\\uacf5\", \"\\ucf54\\ubbf8\\ub514\", \"\\uc774\\uc57c\\uae30\", \"\\uc2a4\\ub9b4\\ub7ec\", \"\\ub3c4\\ub300\\uccb4\", \"\\ud0ac\\ub9c1\\ud0c0\\uc784\", \"\\ucd5c\\uace0\\ub2e4\", \"\\uc601\\ud654\\ub85c\", \"\\uc81c\\ub300\\ub85c\", \"\\uc560\\ub2c8\\uba54\\uc774\\uc158\", \"\\uac08\\uc218\\ub85d\", \"\\ub124\\uc774\\ubc84\", \"\\ud55c\\ub9c8\\ub514\", \"\\uce90\\uc2a4\\ud305\", \"\\ub9c8\\uc9c0\\ub9c9\", \"\\ud3c9\\ub860\\uac00\", \"\\ud504\\ub791\\uc2a4\", \"\\uacf5\\ud3ec\\uc601\\ud654\", \"\\uadf8\\ub798\\ud53d\", \"\\ubb34\\uc870\\uac74\", \"\\uac11\\uc790\\uae30\", \"\\ud654\\uc774\\ud305\", \"\\uc2a4\\ud0c0\\uc77c\", \"\\ub3c4\\uc800\\ud788\", \"\\uc904\\uac70\\ub9ac\", \"\\ucc28\\ub77c\\ub9ac\", \"\\uc0c1\\uc0c1\\ub825\", \"\\uc81c\\uc791\\ube44\", \"\\uc5f0\\uae30\\ub825\", \"\\uc544\\uc26c\\uc6c0\", \"\\ubaa9\\uc18c\\ub9ac\", \"\\uc774\\uc601\\ud654\", \"\\uc4f0\\ub808\\uae30\", \"\\uc2dc\\ub9ac\\uc988\", \"\\uae34\\uc7a5\\uac10\", \"\\uc9c0\\ub8e8\\ud568\", \"\\ud55c\\uad6d\\uc601\", \"\\uc601\\ud654\\uad00\", \"\\ud3ec\\uc2a4\\ud130\", \"\\uc6b0\\ub9ac\\ub098\\ub77c\", \"\\ube44\\ub514\\uc624\", \"\\uc5bc\\ub9c8\\ub098\", \"\\uc2dc\\ub098\\ub9ac\\uc624\", \"\\uc601\\ud654\\uc778\", \"\\uc5ec\\ubc30\\uc6b0\", \"\\ubab0\\uc785\\ub3c4\", \"\\uadf8\\ub300\\ub85c\", \"\\ubc1c\\uc5f0\\uae30\", \"\\uc544\\ubc84\\uc9c0\", \"\\ub85c\\ub9e8\\uc2a4\", \"\\uc608\\uace0\\ud3b8\", \"\\ub9c8\\ubb34\\ub9ac\", \"\\uc544\\uc800\\uc528\", \"\\ucf00\\uc774\\ube14\", \"\\ub9ac\\uba54\\uc774\\ud06c\", \"\\ud504\\ub85c\\uadf8\\ub7a8\", \"\\ubd84\\uc704\\uae30\", \"\\uc2a4\\ucf00\\uc77c\", \"\\ud765\\ubbf8\\uc9c4\\uc9c4\", \"\\ud310\\ud0c0\\uc9c0\", \"\\uc7ac\\ubc0b\\ub2e4\", \"\\uce90\\ub9ad\\ud130\", \"\\uadf9\\uc7a5\\ud310\", \"\\uc561\\uc158\\uc601\\ud654\", \"\\uc5b5\\uc9c0\\ub85c\", \"\\uc2dc\\uccad\\ub960\", \"\\uba54\\uc138\\uc9c0\"], \"Freq\": [2593.0, 2337.0, 1964.0, 1422.0, 1168.0, 1131.0, 1010.0, 624.0, 525.0, 487.0, 532.0, 524.0, 475.0, 411.0, 402.0, 413.0, 414.0, 404.0, 375.0, 393.0, 356.0, 376.0, 348.0, 352.0, 344.0, 365.0, 371.0, 313.0, 326.0, 305.0, 2592.4823397534424, 2336.211668270551, 1130.5724921697597, 623.7993212998272, 1167.0056279943576, 474.7591455800175, 404.2981506745419, 364.85724665921396, 375.6247792769964, 393.1384516841502, 412.6504288051122, 325.73768289701945, 298.155876747531, 252.7848509078401, 248.49181488365193, 301.3240731181948, 1418.6553113755072, 195.81662535707733, 174.9037771029331, 413.05168339191084, 157.97721955408312, 159.07499072534213, 176.49120040222707, 155.12990410016104, 178.313840260258, 172.0415009768732, 207.15968483038387, 370.0675523122081, 132.29809720807543, 132.38653103193846, 520.0738939764072, 140.85974955761034, 174.46655919732257, 1009.7082820484438, 1963.0155785144104, 525.4087317318556, 487.2805866619406, 410.96408596963033, 402.08618002951465, 375.10387787039485, 348.2673424006735, 355.61171505721506, 277.48067582400284, 303.77571423706615, 343.5818827462952, 304.4171000147564, 237.11862786565058, 312.5744252168775, 250.18482400756278, 220.73462114263393, 194.6240967294758, 243.89341192551493, 153.14634721767885, 155.7506198779678, 139.46157269287178, 135.3625841338252, 132.42204453923526, 126.09563600418507, 351.138620038881, 119.3474509259738, 176.90704573397224, 203.50585152371505, 98.69314876141054, 524.1028079563744, 169.2143506921438, 165.66628146738924, 146.7935857396528, 169.01227474139756, 142.2388053858287], \"Total\": [2593.0, 2337.0, 1964.0, 1422.0, 1168.0, 1131.0, 1010.0, 624.0, 525.0, 487.0, 532.0, 524.0, 475.0, 411.0, 402.0, 413.0, 414.0, 404.0, 375.0, 393.0, 356.0, 376.0, 348.0, 352.0, 344.0, 365.0, 371.0, 313.0, 326.0, 305.0, 2593.496597774186, 2337.2973337614167, 1131.1940646702442, 624.3053022634385, 1168.2013822508236, 475.3105459647829, 404.80800184520604, 365.3361578068697, 376.1204654067503, 393.6668663793824, 413.2807530661532, 326.3207895884043, 298.6898977749683, 253.28301025634008, 249.00321142095248, 302.0470291268833, 1422.1307624053786, 196.35381350045137, 175.39801354456588, 414.2749804495553, 158.47398954607368, 159.57638196280607, 177.06834332788185, 155.6501629043277, 178.91720252855868, 172.64064716339757, 207.88138489237096, 371.37004851118, 132.79084098207466, 132.8881171595637, 524.7162246635404, 141.4048055087576, 181.20340476024023, 1010.3176750316997, 1964.2883598979092, 525.9057070689212, 487.83173428640333, 411.4401543046042, 402.5598920173558, 375.57363831884743, 348.7523459554944, 356.15061208268094, 277.9458621375944, 304.35417567389317, 344.2471010406911, 305.01531863967296, 237.6046685085536, 313.2437693641007, 250.77041355937388, 221.27412914337913, 195.12076910137043, 244.5394097961631, 153.6192915059816, 156.2514852929362, 139.94053754682005, 135.84767578446804, 132.90044854480016, 126.59672887233931, 352.61299322718247, 119.84974120740061, 177.67539227225822, 204.40486314194754, 99.14562711895114, 532.591084007104, 170.00249582479603, 166.78249314933996, 148.46431687020467, 179.01317084487744, 144.6486792311272], \"Category\": [\"Default\", \"Default\", \"Default\", \"Default\", \"Default\", \"Default\", \"Default\", \"Default\", \"Default\", \"Default\", \"Default\", \"Default\", \"Default\", \"Default\", \"Default\", \"Default\", \"Default\", \"Default\", \"Default\", \"Default\", \"Default\", \"Default\", \"Default\", \"Default\", \"Default\", \"Default\", \"Default\", \"Default\", \"Default\", \"Default\", \"Topic1\", \"Topic1\", \"Topic1\", \"Topic1\", \"Topic1\", \"Topic1\", \"Topic1\", \"Topic1\", \"Topic1\", \"Topic1\", \"Topic1\", \"Topic1\", \"Topic1\", \"Topic1\", \"Topic1\", \"Topic1\", \"Topic1\", \"Topic1\", \"Topic1\", \"Topic1\", \"Topic1\", \"Topic1\", \"Topic1\", \"Topic1\", \"Topic1\", \"Topic1\", \"Topic1\", \"Topic1\", \"Topic1\", \"Topic1\", \"Topic1\", \"Topic1\", \"Topic1\", \"Topic2\", \"Topic2\", \"Topic2\", \"Topic2\", \"Topic2\", \"Topic2\", \"Topic2\", \"Topic2\", \"Topic2\", \"Topic2\", \"Topic2\", \"Topic2\", \"Topic2\", \"Topic2\", \"Topic2\", \"Topic2\", \"Topic2\", \"Topic2\", \"Topic2\", \"Topic2\", \"Topic2\", \"Topic2\", \"Topic2\", \"Topic2\", \"Topic2\", \"Topic2\", \"Topic2\", \"Topic2\", \"Topic2\", \"Topic2\", \"Topic2\", \"Topic2\", \"Topic2\", \"Topic2\", \"Topic2\", \"Topic2\"], \"logprob\": [30.0, 29.0, 28.0, 27.0, 26.0, 25.0, 24.0, 23.0, 22.0, 21.0, 20.0, 19.0, 18.0, 17.0, 16.0, 15.0, 14.0, 13.0, 12.0, 11.0, 10.0, 9.0, 8.0, 7.0, 6.0, 5.0, 4.0, 3.0, 2.0, 1.0, -2.972, -3.0761, -3.8019, -4.3966, -3.7702, -4.6696, -4.8302, -4.9329, -4.9038, -4.8582, -4.8098, -5.0463, -5.1348, -5.2998, -5.317, -5.1242, -3.5749, -5.5552, -5.6681, -4.8088, -5.7699, -5.763, -5.6591, -5.7881, -5.6488, -5.6846, -5.4989, -4.9187, -5.9473, -5.9467, -4.5784, -5.8846, -5.6706, -3.8697, -3.2049, -4.5229, -4.5983, -4.7686, -4.7904, -4.8599, -4.9341, -4.9133, -5.1613, -5.0708, -4.9477, -5.0687, -5.3185, -5.0422, -5.2649, -5.3901, -5.516, -5.2904, -5.7557, -5.7388, -5.8493, -5.8791, -5.9011, -5.9501, -4.9259, -6.0051, -5.6115, -5.4714, -6.1951, -4.5254, -5.6559, -5.6771, -5.7981, -5.6571, -5.8296], \"loglift\": [30.0, 29.0, 28.0, 27.0, 26.0, 25.0, 24.0, 23.0, 22.0, 21.0, 20.0, 19.0, 18.0, 17.0, 16.0, 15.0, 14.0, 13.0, 12.0, 11.0, 10.0, 9.0, 8.0, 7.0, 6.0, 5.0, 4.0, 3.0, 2.0, 1.0, 0.6704, 0.6703, 0.6702, 0.6699, 0.6697, 0.6696, 0.6695, 0.6694, 0.6694, 0.6694, 0.6692, 0.669, 0.669, 0.6688, 0.6687, 0.6684, 0.6683, 0.668, 0.6679, 0.6678, 0.6676, 0.6676, 0.6675, 0.6674, 0.6674, 0.6673, 0.6673, 0.6672, 0.667, 0.667, 0.6619, 0.6669, 0.6329, 0.7154, 0.7154, 0.7151, 0.7149, 0.7149, 0.7149, 0.7148, 0.7147, 0.7145, 0.7144, 0.7141, 0.7141, 0.7141, 0.714, 0.7139, 0.7137, 0.7136, 0.7135, 0.7134, 0.713, 0.7128, 0.7126, 0.7125, 0.7124, 0.7121, 0.7119, 0.7118, 0.7117, 0.7116, 0.7115, 0.7, 0.7114, 0.7093, 0.7047, 0.6586, 0.6992]}, \"token.table\": {\"Topic\": [1, 2, 1, 2, 1, 2, 1, 2, 1, 1, 2, 1, 2, 1, 1, 2, 1, 2, 1, 2, 1, 2, 2, 1, 2, 1, 2, 1, 2, 1, 2, 1, 2, 1, 2, 1, 2, 1, 2, 2, 1, 1, 2, 1, 2, 1, 2, 1, 2, 1, 2, 2, 1, 2, 1, 2, 2, 1, 2, 2, 1, 2, 1, 2, 1, 2, 1, 2, 2, 1, 2, 2, 1, 2, 1, 2, 2, 1, 2, 1, 2, 1, 2, 2, 1, 2, 1, 2, 1, 2, 1, 2, 2, 1, 2, 1, 1, 2, 1, 2, 2, 1, 2, 1, 1, 2, 1, 2, 2, 1, 1, 2, 2, 1, 2, 1, 2, 1, 2], \"Freq\": [0.9976902540725094, 0.003347953872726542, 0.9939664916506077, 0.005647536884378452, 0.9969223812450084, 0.0024138556446610376, 0.003987711252720147, 0.9969278131800366, 0.9970090388496474, 0.005882266581724756, 0.9941030523114838, 0.0020498871428747713, 0.9982950385800137, 0.9988826322932057, 0.9980039874668412, 0.0024703068996703987, 0.9962891290439196, 0.005792378657232091, 0.9994449427795612, 0.0004278445816693327, 0.004089320411926872, 0.9977941805101569, 0.9932246387829412, 0.006399939162979642, 0.9983905094248242, 0.9977985411129964, 0.0021095106577441783, 0.013826603952631297, 0.9816888806368221, 0.9602468575589326, 0.03863062070639384, 0.0031924018856944745, 0.9992217902223705, 0.9963880496868239, 0.006266591507464301, 0.004519281146292658, 0.9987611333306774, 0.0028359703675346903, 0.9954255990046763, 0.9965969554994628, 0.9940444613783159, 0.9993466461718148, 0.0021038876761511893, 0.008343781053890593, 0.9929099454129806, 0.9948735922784604, 0.005589177484710451, 0.9994229420715376, 0.0003855798387621673, 0.002904890112296971, 0.9992821986301581, 0.9982778147170734, 0.055861811467858014, 0.9440646138068004, 0.0005090902234191183, 0.9993441085717292, 0.9993810546056854, 0.9971372577664447, 0.0070718954451520905, 0.9932790200516032, 0.999016950195515, 0.00306446917237888, 0.005995833142418507, 0.9953083016414721, 0.013471250480669408, 0.9901369103292015, 0.0032856457375221673, 0.9988363042067389, 0.9974551488724985, 0.9910118566153266, 0.009528960159762756, 0.9984726342311586, 0.9983060134435096, 0.002540218863723943, 0.0032785238605715435, 0.9966712536137492, 0.9959686605769986, 0.002807800874333043, 0.9995771112625633, 0.9989715966193184, 0.0008560167923044717, 0.0009897876922410806, 0.9996855691634914, 0.9985311796073828, 0.9993206722934221, 0.002419662644778262, 0.9933168053054938, 0.007525127312920408, 0.9998284426374702, 0.000884021611527383, 0.9957601547977598, 0.004810435530423961, 0.9989302106272341, 0.9963108265820776, 0.002692731963735345, 0.9996797158946933, 0.015020904855953789, 0.9838692680649731, 0.9965335559501781, 0.0033107427107979337, 0.993760100939725, 0.9995109728167747, 0.0016017804051550876, 0.9990798671314449, 0.004892251508250843, 0.9980193076831719, 0.9981980818495764, 0.0050928473563753894, 0.9978427501227751, 0.997730797877795, 0.007899098254018903, 0.9952863800063819, 0.9986091708874671, 0.9959710904320166, 0.004016012461419421, 0.995822921786935, 0.006424664011528613, 0.00562824140817241, 0.9961987292465166], \"Term\": [\"\\uac08\\uc218\\ub85d\", \"\\uac08\\uc218\\ub85d\", \"\\uac11\\uc790\\uae30\", \"\\uac11\\uc790\\uae30\", \"\\uacf5\\ud3ec\\uc601\\ud654\", \"\\uacf5\\ud3ec\\uc601\\ud654\", \"\\uadf8\\ub300\\ub85c\", \"\\uadf8\\ub300\\ub85c\", \"\\uadf8\\ub798\\ud53d\", \"\\uadf9\\uc7a5\\ud310\", \"\\uadf9\\uc7a5\\ud310\", \"\\uae34\\uc7a5\\uac10\", \"\\uae34\\uc7a5\\uac10\", \"\\ub124\\uc774\\ubc84\", \"\\ub3c4\\ub300\\uccb4\", \"\\ub3c4\\ub300\\uccb4\", \"\\ub3c4\\uc800\\ud788\", \"\\ub3c4\\uc800\\ud788\", \"\\ub4dc\\ub77c\\ub9c8\", \"\\ub4dc\\ub77c\\ub9c8\", \"\\ub85c\\ub9e8\\uc2a4\", \"\\ub85c\\ub9e8\\uc2a4\", \"\\ub9ac\\uba54\\uc774\\ud06c\", \"\\ub9c8\\ubb34\\ub9ac\", \"\\ub9c8\\ubb34\\ub9ac\", \"\\ub9c8\\uc9c0\\ub9c9\", \"\\ub9c8\\uc9c0\\ub9c9\", \"\\uba54\\uc138\\uc9c0\", \"\\uba54\\uc138\\uc9c0\", \"\\ubaa9\\uc18c\\ub9ac\", \"\\ubaa9\\uc18c\\ub9ac\", \"\\ubab0\\uc785\\ub3c4\", \"\\ubab0\\uc785\\ub3c4\", \"\\ubb34\\uc870\\uac74\", \"\\ubb34\\uc870\\uac74\", \"\\ubc1c\\uc5f0\\uae30\", \"\\ubc1c\\uc5f0\\uae30\", \"\\ubd84\\uc704\\uae30\", \"\\ubd84\\uc704\\uae30\", \"\\ube44\\ub514\\uc624\", \"\\uc0c1\\uc0c1\\ub825\", \"\\uc2a4\\ub9b4\\ub7ec\", \"\\uc2a4\\ub9b4\\ub7ec\", \"\\uc2a4\\ucf00\\uc77c\", \"\\uc2a4\\ucf00\\uc77c\", \"\\uc2a4\\ud0c0\\uc77c\", \"\\uc2a4\\ud0c0\\uc77c\", \"\\uc2a4\\ud1a0\\ub9ac\", \"\\uc2a4\\ud1a0\\ub9ac\", \"\\uc2dc\\ub098\\ub9ac\\uc624\", \"\\uc2dc\\ub098\\ub9ac\\uc624\", \"\\uc2dc\\ub9ac\\uc988\", \"\\uc2dc\\uccad\\ub960\", \"\\uc2dc\\uccad\\ub960\", \"\\uc4f0\\ub808\\uae30\", \"\\uc4f0\\ub808\\uae30\", \"\\uc544\\ubc84\\uc9c0\", \"\\uc544\\uc26c\\uc6c0\", \"\\uc544\\uc26c\\uc6c0\", \"\\uc544\\uc800\\uc528\", \"\\uc560\\ub2c8\\uba54\\uc774\\uc158\", \"\\uc560\\ub2c8\\uba54\\uc774\\uc158\", \"\\uc561\\uc158\\uc601\\ud654\", \"\\uc561\\uc158\\uc601\\ud654\", \"\\uc5b5\\uc9c0\\ub85c\", \"\\uc5b5\\uc9c0\\ub85c\", \"\\uc5bc\\ub9c8\\ub098\", \"\\uc5bc\\ub9c8\\ub098\", \"\\uc5ec\\ubc30\\uc6b0\", \"\\uc5f0\\uae30\\ub825\", \"\\uc5f0\\uae30\\ub825\", \"\\uc601\\ud654\\uad00\", \"\\uc601\\ud654\\ub85c\", \"\\uc601\\ud654\\ub85c\", \"\\uc601\\ud654\\uc778\", \"\\uc601\\ud654\\uc778\", \"\\uc608\\uace0\\ud3b8\", \"\\uc6b0\\ub9ac\\ub098\\ub77c\", \"\\uc6b0\\ub9ac\\ub098\\ub77c\", \"\\uc774\\uc57c\\uae30\", \"\\uc774\\uc57c\\uae30\", \"\\uc774\\uc601\\ud654\", \"\\uc774\\uc601\\ud654\", \"\\uc7ac\\ubc0b\\ub2e4\", \"\\uc81c\\ub300\\ub85c\", \"\\uc81c\\ub300\\ub85c\", \"\\uc81c\\uc791\\ube44\", \"\\uc81c\\uc791\\ube44\", \"\\uc8fc\\uc778\\uacf5\", \"\\uc8fc\\uc778\\uacf5\", \"\\uc904\\uac70\\ub9ac\", \"\\uc904\\uac70\\ub9ac\", \"\\uc9c0\\ub8e8\\ud568\", \"\\ucc28\\ub77c\\ub9ac\", \"\\ucc28\\ub77c\\ub9ac\", \"\\ucd5c\\uace0\\ub2e4\", \"\\uce90\\ub9ad\\ud130\", \"\\uce90\\ub9ad\\ud130\", \"\\uce90\\uc2a4\\ud305\", \"\\uce90\\uc2a4\\ud305\", \"\\ucf00\\uc774\\ube14\", \"\\ucf54\\ubbf8\\ub514\", \"\\ucf54\\ubbf8\\ub514\", \"\\ud0ac\\ub9c1\\ud0c0\\uc784\", \"\\ud310\\ud0c0\\uc9c0\", \"\\ud310\\ud0c0\\uc9c0\", \"\\ud3c9\\ub860\\uac00\", \"\\ud3c9\\ub860\\uac00\", \"\\ud3ec\\uc2a4\\ud130\", \"\\ud504\\ub791\\uc2a4\", \"\\ud504\\ub85c\\uadf8\\ub7a8\", \"\\ud504\\ub85c\\uadf8\\ub7a8\", \"\\ud55c\\uad6d\\uc601\", \"\\ud55c\\ub9c8\\ub514\", \"\\ud55c\\ub9c8\\ub514\", \"\\ud654\\uc774\\ud305\", \"\\ud654\\uc774\\ud305\", \"\\ud765\\ubbf8\\uc9c4\\uc9c4\", \"\\ud765\\ubbf8\\uc9c4\\uc9c4\"]}, \"R\": 30, \"lambda.step\": 0.01, \"plot.opts\": {\"xlab\": \"PC1\", \"ylab\": \"PC2\"}, \"topic.order\": [1, 2]};\n",
              "\n",
              "function LDAvis_load_lib(url, callback){\n",
              "  var s = document.createElement('script');\n",
              "  s.src = url;\n",
              "  s.async = true;\n",
              "  s.onreadystatechange = s.onload = callback;\n",
              "  s.onerror = function(){console.warn(\"failed to load library \" + url);};\n",
              "  document.getElementsByTagName(\"head\")[0].appendChild(s);\n",
              "}\n",
              "\n",
              "if(typeof(LDAvis) !== \"undefined\"){\n",
              "   // already loaded: just create the visualization\n",
              "   !function(LDAvis){\n",
              "       new LDAvis(\"#\" + \"ldavis_el371811406300823169926892494119\", ldavis_el371811406300823169926892494119_data);\n",
              "   }(LDAvis);\n",
              "}else if(typeof define === \"function\" && define.amd){\n",
              "   // require.js is available: use it to load d3/LDAvis\n",
              "   require.config({paths: {d3: \"https://d3js.org/d3.v5\"}});\n",
              "   require([\"d3\"], function(d3){\n",
              "      window.d3 = d3;\n",
              "      LDAvis_load_lib(\"https://cdn.jsdelivr.net/gh/bmabey/pyLDAvis@3.3.1/pyLDAvis/js/ldavis.v3.0.0.js\", function(){\n",
              "        new LDAvis(\"#\" + \"ldavis_el371811406300823169926892494119\", ldavis_el371811406300823169926892494119_data);\n",
              "      });\n",
              "    });\n",
              "}else{\n",
              "    // require.js not available: dynamically load d3 & LDAvis\n",
              "    LDAvis_load_lib(\"https://d3js.org/d3.v5.js\", function(){\n",
              "         LDAvis_load_lib(\"https://cdn.jsdelivr.net/gh/bmabey/pyLDAvis@3.3.1/pyLDAvis/js/ldavis.v3.0.0.js\", function(){\n",
              "                 new LDAvis(\"#\" + \"ldavis_el371811406300823169926892494119\", ldavis_el371811406300823169926892494119_data);\n",
              "            })\n",
              "         });\n",
              "}\n",
              "</script>"
            ]
          },
          "metadata": {},
          "execution_count": 33
        }
      ]
    },
    {
      "cell_type": "markdown",
      "source": [
        "## **3) 추가 LDA** (토픽 3개)\n",
        "\n",
        "\n"
      ],
      "metadata": {
        "id": "Q-B0NIaGEwJ2"
      }
    },
    {
      "cell_type": "code",
      "source": [
        "# 사이킷런 패키지 활용\n",
        "from sklearn.decomposition import LatentDirichletAllocation\n",
        "\n",
        "# LDA 모델링 객체를 생성 (토픽 갯수를 3으로 설정)\n",
        "lda2 = LatentDirichletAllocation(n_components=3)  \n",
        "\n",
        "# TF-IDF 벡터를 입력하여 모델 학습 \n",
        "lda2.fit(review_tfid)"
      ],
      "metadata": {
        "colab": {
          "base_uri": "https://localhost:8080/"
        },
        "id": "VToqSkyJE3Le",
        "outputId": "d0a3c5cc-e8fa-421c-820f-584248cc13b4"
      },
      "execution_count": null,
      "outputs": [
        {
          "output_type": "execute_result",
          "data": {
            "text/plain": [
              "LatentDirichletAllocation(n_components=3)"
            ]
          },
          "metadata": {},
          "execution_count": 34
        }
      ]
    },
    {
      "cell_type": "code",
      "source": [
        "# 토픽 모델링 결과를 담고 있는 배열의 형태 : (3개의 토픽)\n",
        "print(lda2.components_.shape)"
      ],
      "metadata": {
        "colab": {
          "base_uri": "https://localhost:8080/"
        },
        "id": "7Iofh0JXFF53",
        "outputId": "5d5260dd-7717-47e4-eb44-4ed13342d3cd"
      },
      "execution_count": null,
      "outputs": [
        {
          "output_type": "stream",
          "name": "stdout",
          "text": [
            "(3, 17190)\n"
          ]
        }
      ]
    },
    {
      "cell_type": "code",
      "source": [
        "# 토픽 별로 가장 중요도가 높은 단어를 10개씩 출력\n",
        "\n",
        "for idx, topic in enumerate(lda2.components_):\n",
        "    print(f\"토픽 유형 {idx+1}:\", [(index_to_word[i], topic[i].round(3)) for i in topic.argsort()[:-11:-1]])"
      ],
      "metadata": {
        "colab": {
          "base_uri": "https://localhost:8080/"
        },
        "id": "ppNwGc3dFNWr",
        "outputId": "89250fef-9a7b-46bd-af03-da85377318ba"
      },
      "execution_count": null,
      "outputs": [
        {
          "output_type": "stream",
          "name": "stdout",
          "text": [
            "토픽 유형 1: [('드라마', 2778.469), ('이영화', 1168.65), ('공포영화', 491.871), ('킬링타임', 433.706), ('우리나라', 411.522), ('포스터', 402.967), ('몰입도', 361.821), ('캐스팅', 358.416), ('줄거리', 246.465), ('목소리', 211.486)]\n",
            "토픽 유형 2: [('이야기', 1388.336), ('주인공', 1344.326), ('코미디', 741.633), ('캐릭터', 615.842), ('시리즈', 607.997), ('스릴러', 564.461), ('긴장감', 563.923), ('지루함', 475.526), ('영화로', 467.37), ('한국영', 465.243)]\n",
            "토픽 유형 3: [('스토리', 3082.476), ('쓰레기', 2272.806), ('마지막', 1690.039), ('연기력', 623.037), ('제대로', 490.673), ('도대체', 480.631), ('최고다', 446.526), ('애니메이션', 387.304), ('갈수록', 354.442), ('비디오', 321.021)]\n"
          ]
        }
      ]
    },
    {
      "cell_type": "code",
      "source": [
        "# LDA2 토픽 모델링 결과를 시각화\n",
        "pyLDAvis.enable_notebook()\n",
        "visualization = pyLDAvis.sklearn.prepare(lda2, review_tfid, tfid)\n",
        "pyLDAvis.display(visualization)"
      ],
      "metadata": {
        "colab": {
          "base_uri": "https://localhost:8080/",
          "height": 882
        },
        "id": "khsFdTGcFUdC",
        "outputId": "73d6ca51-1a60-4702-f99a-3335c19f98ca"
      },
      "execution_count": null,
      "outputs": [
        {
          "output_type": "execute_result",
          "data": {
            "text/plain": [
              "<IPython.core.display.HTML object>"
            ],
            "text/html": [
              "\n",
              "<link rel=\"stylesheet\" type=\"text/css\" href=\"https://cdn.jsdelivr.net/gh/bmabey/pyLDAvis@3.3.1/pyLDAvis/js/ldavis.v1.0.0.css\">\n",
              "\n",
              "\n",
              "<div id=\"ldavis_el371811406300823153126466847953\"></div>\n",
              "<script type=\"text/javascript\">\n",
              "\n",
              "var ldavis_el371811406300823153126466847953_data = {\"mdsDat\": {\"x\": [-0.2785763002758551, 0.2224612785986816, 0.056115021677173485], \"y\": [-0.09375293579276263, -0.18863240206398882, 0.2823853378567515], \"topics\": [1, 2, 3], \"cluster\": [1, 1, 1], \"Freq\": [34.10043606764833, 33.598153333846135, 32.30141059850553]}, \"tinfo\": {\"Term\": [\"\\uc2a4\\ud1a0\\ub9ac\", \"\\ub4dc\\ub77c\\ub9c8\", \"\\uc4f0\\ub808\\uae30\", \"\\ub9c8\\uc9c0\\ub9c9\", \"\\uc774\\uc57c\\uae30\", \"\\uc8fc\\uc778\\uacf5\", \"\\uc774\\uc601\\ud654\", \"\\ucf54\\ubbf8\\ub514\", \"\\uce90\\ub9ad\\ud130\", \"\\uc2dc\\ub9ac\\uc988\", \"\\uc5f0\\uae30\\ub825\", \"\\uc2a4\\ub9b4\\ub7ec\", \"\\uae34\\uc7a5\\uac10\", \"\\uacf5\\ud3ec\\uc601\\ud654\", \"\\uc81c\\ub300\\ub85c\", \"\\uc9c0\\ub8e8\\ud568\", \"\\ub3c4\\ub300\\uccb4\", \"\\uc601\\ud654\\ub85c\", \"\\ud55c\\uad6d\\uc601\", \"\\ud0ac\\ub9c1\\ud0c0\\uc784\", \"\\ucc28\\ub77c\\ub9ac\", \"\\uc6b0\\ub9ac\\ub098\\ub77c\", \"\\ucd5c\\uace0\\ub2e4\", \"\\uc601\\ud654\\uad00\", \"\\ud3ec\\uc2a4\\ud130\", \"\\ubd84\\uc704\\uae30\", \"\\uc2dc\\ub098\\ub9ac\\uc624\", \"\\ubab0\\uc785\\ub3c4\", \"\\uce90\\uc2a4\\ud305\", \"\\uc560\\ub2c8\\uba54\\uc774\\uc158\", \"\\uc4f0\\ub808\\uae30\", \"\\uc2a4\\ud1a0\\ub9ac\", \"\\ub9c8\\uc9c0\\ub9c9\", \"\\uc5f0\\uae30\\ub825\", \"\\ub3c4\\ub300\\uccb4\", \"\\uc81c\\ub300\\ub85c\", \"\\ucd5c\\uace0\\ub2e4\", \"\\uc560\\ub2c8\\uba54\\uc774\\uc158\", \"\\uac08\\uc218\\ub85d\", \"\\ube44\\ub514\\uc624\", \"\\ub124\\uc774\\ubc84\", \"\\ub85c\\ub9e8\\uc2a4\", \"\\ud3c9\\ub860\\uac00\", \"\\uc544\\ubc84\\uc9c0\", \"\\ubc1c\\uc5f0\\uae30\", \"\\uac11\\uc790\\uae30\", \"\\uadf9\\uc7a5\\ud310\", \"\\uadf8\\ub798\\ud53d\", \"\\ubb34\\uc870\\uac74\", \"\\uc608\\uace0\\ud3b8\", \"\\ud654\\uc774\\ud305\", \"\\uc5b5\\uc9c0\\ub85c\", \"\\uba54\\uc138\\uc9c0\", \"\\uc544\\uc800\\uc528\", \"\\uadf8\\ub2e4\\uc9c0\", \"\\uc2a4\\ucf00\\uc77c\", \"\\uce74\\uba54\\ub77c\", \"\\ubba4\\uc9c0\\uceec\", \"\\ubcfc\\uac70\\ub9ac\", \"\\ud004\\ub9ac\\ud2f0\", \"\\uc774\\uc57c\\uae30\", \"\\uc8fc\\uc778\\uacf5\", \"\\ucf54\\ubbf8\\ub514\", \"\\uc2dc\\ub9ac\\uc988\", \"\\uc2a4\\ub9b4\\ub7ec\", \"\\uae34\\uc7a5\\uac10\", \"\\uce90\\ub9ad\\ud130\", \"\\uc9c0\\ub8e8\\ud568\", \"\\ud55c\\uad6d\\uc601\", \"\\uc601\\ud654\\ub85c\", \"\\uc601\\ud654\\uad00\", \"\\ubd84\\uc704\\uae30\", \"\\uc2dc\\ub098\\ub9ac\\uc624\", \"\\uc601\\ud654\\uc778\", \"\\ud55c\\ub9c8\\ub514\", \"\\uc5bc\\ub9c8\\ub098\", \"\\uadf8\\ub300\\ub85c\", \"\\uc5ec\\ubc30\\uc6b0\", \"\\ucc28\\ub77c\\ub9ac\", \"\\ud310\\ud0c0\\uc9c0\", \"\\uc2a4\\ud0c0\\uc77c\", \"\\uc561\\uc158\\uc601\\ud654\", \"\\ub9c8\\ubb34\\ub9ac\", \"\\uc544\\uc26c\\uc6c0\", \"\\uc0c1\\uc0c1\\ub825\", \"\\uc624\\ud788\\ub824\", \"\\ub300\\ud55c\\ubbfc\\uad6d\", \"\\ud504\\ub85c\\uadf8\\ub7a8\", \"\\uc5b4\\ub9b0\\uc774\", \"\\ud574\\ud53c\\uc5d4\\ub529\", \"\\ub4dc\\ub77c\\ub9c8\", \"\\uc774\\uc601\\ud654\", \"\\uacf5\\ud3ec\\uc601\\ud654\", \"\\ud0ac\\ub9c1\\ud0c0\\uc784\", \"\\uc6b0\\ub9ac\\ub098\\ub77c\", \"\\ud3ec\\uc2a4\\ud130\", \"\\uce90\\uc2a4\\ud305\", \"\\ubab0\\uc785\\ub3c4\", \"\\uc904\\uac70\\ub9ac\", \"\\ud504\\ub791\\uc2a4\", \"\\uc2dc\\uccad\\ub960\", \"\\ub3c4\\uc800\\ud788\", \"\\ud765\\ubbf8\\uc9c4\\uc9c4\", \"\\ucf00\\uc774\\ube14\", \"\\uc81c\\uc791\\ube44\", \"\\uc5f0\\uae30\\uc790\", \"\\ub9ac\\uba54\\uc774\\ud06c\", \"\\uba54\\uc2dc\\uc9c0\", \"\\ub3c5\\ub9bd\\uc601\\ud654\", \"\\uc774\\uc5f0\\uac78\", \"\\ub2e4\\ud050\\uba58\\ud130\\ub9ac\", \"\\ub290\\uc640\\ub974\", \"\\uc7ac\\ubc0b\\ub2e4\", \"\\ubb34\\uc5b8\\uac00\", \"\\ub514\\uc988\\ub2c8\", \"\\ub098\\uba38\\uc9c0\", \"\\ub4f1\\uc7a5\\uc778\\ubb3c\", \"\\uccad\\uc18c\\ub144\", \"\\uacac\\uc790\\ub2e8\", \"\\uc5b4\\uba38\\ub2c8\", \"\\ubaa9\\uc18c\\ub9ac\"], \"Freq\": [2590.0, 2413.0, 1910.0, 1420.0, 1179.0, 1141.0, 1015.0, 630.0, 523.0, 516.0, 524.0, 479.0, 479.0, 427.0, 412.0, 404.0, 404.0, 397.0, 395.0, 377.0, 374.0, 357.0, 375.0, 369.0, 350.0, 346.0, 338.0, 314.0, 311.0, 325.0, 1909.5442440706731, 2589.805177342936, 1419.921287882617, 523.4571521387651, 403.8116401433106, 412.24869302497444, 375.1576194370064, 325.4012732851986, 297.7919166264185, 269.71201397045553, 252.43842887517215, 237.21582583490581, 195.56271214330695, 189.1547867047857, 214.48165230079857, 176.26094390513688, 164.73862115226373, 157.72528075917324, 158.82126800115958, 148.81361289284104, 154.8664669408453, 143.82804601958438, 140.13679376791006, 135.49812761965492, 114.51210950857899, 115.9681362701878, 106.62594655725633, 97.64681551481834, 97.14448652616885, 96.0445477571678, 1178.615662054808, 1141.2533663448464, 629.6029147747979, 516.1534400934361, 479.19427521258586, 478.7371448872591, 522.8132246032892, 403.6935867942534, 394.9635642644822, 396.7696475858951, 368.451316492854, 345.90838514435086, 337.65233877180736, 299.12243195708885, 250.7476139618477, 298.3355616866721, 245.8148042334959, 232.8778331349695, 373.8248125663249, 200.27268584648712, 179.99703149358342, 163.3162099188423, 152.94970309842708, 142.13137618128232, 133.44865548212826, 134.1460197535208, 126.76465365264463, 123.8062712300536, 118.62535443891548, 105.40010063693002, 2412.919239596712, 1014.8963434667204, 427.1580375084713, 376.6457244637034, 357.37981917970893, 349.95066838228684, 311.26087127711577, 314.218141547843, 214.03908768388257, 180.50589545634296, 179.60379754972425, 177.65868018640657, 178.00648608436285, 135.96117434168016, 136.609444422092, 135.51816588558654, 132.99024553026055, 124.45831737534847, 123.7286073544702, 112.6930593670486, 105.2811247492671, 103.62254761490294, 99.07623525060934, 95.71116931150301, 92.53190548102312, 93.72662032358568, 93.27852835372703, 88.04325883440987, 86.52083298903163, 84.01709545001606, 183.66202596077653], \"Total\": [2590.0, 2413.0, 1910.0, 1420.0, 1179.0, 1141.0, 1015.0, 630.0, 523.0, 516.0, 524.0, 479.0, 479.0, 427.0, 412.0, 404.0, 404.0, 397.0, 395.0, 377.0, 374.0, 357.0, 375.0, 369.0, 350.0, 346.0, 338.0, 314.0, 311.0, 325.0, 1910.1408580310997, 2590.95035099853, 1420.6581609600578, 524.0920897553325, 404.4104424677092, 412.87218995941504, 375.7512817292883, 325.99814862465456, 298.39580728750974, 270.3025204674271, 253.03426508778995, 237.82289368441295, 196.159832959448, 189.76366739658658, 215.19835464249087, 176.89322806372792, 165.34621077648964, 158.31816060006577, 159.4194447692561, 149.40634256436604, 155.49764899615573, 144.42549118639502, 140.73487421036353, 136.10539969290846, 115.10092984149362, 116.56949021366015, 107.23156517254702, 98.24848231569796, 97.74387170593145, 96.65829054616634, 1179.2103864622031, 1141.8688785796921, 630.1939798187531, 516.7516416466611, 479.7903456611265, 479.3429559858466, 523.5350035894295, 404.2816261502207, 395.55614306813766, 397.376026082528, 369.04042595904514, 346.5071916163281, 338.26538058677323, 299.71602697432104, 251.34575976177473, 299.06521851143697, 246.4168034151419, 233.47799466199075, 374.84417844375895, 200.86824101569024, 180.59520467779436, 163.90776682720556, 153.54376838947928, 142.72996587115045, 134.03593922011953, 134.75779139464495, 127.37876470660652, 124.4063082587762, 119.21535097830127, 105.9904052503702, 2413.510755420082, 1015.4935109651228, 427.7415533315877, 377.2265422655478, 357.97326126070294, 350.53584095295844, 311.86513983787165, 314.84918327651036, 214.62752015753327, 181.0906785196609, 180.18878961304262, 178.2405304616401, 178.5902522666629, 136.5405991744851, 137.19358891998232, 136.1094836170015, 133.5778542329537, 125.04466271149283, 124.31671470867849, 113.27098308975101, 105.86435601534447, 104.21023295156827, 99.64978458960698, 96.28848700456119, 93.11660003799706, 94.31926951601511, 93.87662025871035, 88.6277495252482, 87.10046483650724, 84.60051640085214, 186.8478089103331], \"Category\": [\"Default\", \"Default\", \"Default\", \"Default\", \"Default\", \"Default\", \"Default\", \"Default\", \"Default\", \"Default\", \"Default\", \"Default\", \"Default\", \"Default\", \"Default\", \"Default\", \"Default\", \"Default\", \"Default\", \"Default\", \"Default\", \"Default\", \"Default\", \"Default\", \"Default\", \"Default\", \"Default\", \"Default\", \"Default\", \"Default\", \"Topic1\", \"Topic1\", \"Topic1\", \"Topic1\", \"Topic1\", \"Topic1\", \"Topic1\", \"Topic1\", \"Topic1\", \"Topic1\", \"Topic1\", \"Topic1\", \"Topic1\", \"Topic1\", \"Topic1\", \"Topic1\", \"Topic1\", \"Topic1\", \"Topic1\", \"Topic1\", \"Topic1\", \"Topic1\", \"Topic1\", \"Topic1\", \"Topic1\", \"Topic1\", \"Topic1\", \"Topic1\", \"Topic1\", \"Topic1\", \"Topic2\", \"Topic2\", \"Topic2\", \"Topic2\", \"Topic2\", \"Topic2\", \"Topic2\", \"Topic2\", \"Topic2\", \"Topic2\", \"Topic2\", \"Topic2\", \"Topic2\", \"Topic2\", \"Topic2\", \"Topic2\", \"Topic2\", \"Topic2\", \"Topic2\", \"Topic2\", \"Topic2\", \"Topic2\", \"Topic2\", \"Topic2\", \"Topic2\", \"Topic2\", \"Topic2\", \"Topic2\", \"Topic2\", \"Topic2\", \"Topic3\", \"Topic3\", \"Topic3\", \"Topic3\", \"Topic3\", \"Topic3\", \"Topic3\", \"Topic3\", \"Topic3\", \"Topic3\", \"Topic3\", \"Topic3\", \"Topic3\", \"Topic3\", \"Topic3\", \"Topic3\", \"Topic3\", \"Topic3\", \"Topic3\", \"Topic3\", \"Topic3\", \"Topic3\", \"Topic3\", \"Topic3\", \"Topic3\", \"Topic3\", \"Topic3\", \"Topic3\", \"Topic3\", \"Topic3\", \"Topic3\"], \"logprob\": [30.0, 29.0, 28.0, 27.0, 26.0, 25.0, 24.0, 23.0, 22.0, 21.0, 20.0, 19.0, 18.0, 17.0, 16.0, 15.0, 14.0, 13.0, 12.0, 11.0, 10.0, 9.0, 8.0, 7.0, 6.0, 5.0, 4.0, 3.0, 2.0, 1.0, -2.8727, -2.5679, -3.1689, -4.1668, -4.4263, -4.4057, -4.4999, -4.6422, -4.7309, -4.8299, -4.8961, -4.9583, -5.1514, -5.1847, -5.0591, -5.2553, -5.3229, -5.3664, -5.3595, -5.4246, -5.3847, -5.4587, -5.4847, -5.5183, -5.6866, -5.674, -5.758, -5.8459, -5.8511, -5.8625, -3.3403, -3.3726, -3.9674, -4.166, -4.2403, -4.2413, -4.1532, -4.4118, -4.4336, -4.4291, -4.5031, -4.5663, -4.5904, -4.7116, -4.888, -4.7142, -4.9079, -4.9619, -4.4887, -5.1128, -5.2195, -5.3168, -5.3823, -5.4557, -5.5187, -5.5135, -5.5701, -5.5937, -5.6365, -5.7547, -2.5845, -3.4505, -4.3159, -4.4418, -4.4943, -4.5153, -4.6324, -4.623, -5.0069, -5.1773, -5.1823, -5.1932, -5.1913, -5.4607, -5.456, -5.464, -5.4828, -5.5491, -5.555, -5.6484, -5.7164, -5.7323, -5.7772, -5.8117, -5.8455, -5.8327, -5.8375, -5.8953, -5.9127, -5.9421, -5.16], \"loglift\": [30.0, 29.0, 28.0, 27.0, 26.0, 25.0, 24.0, 23.0, 22.0, 21.0, 20.0, 19.0, 18.0, 17.0, 16.0, 15.0, 14.0, 13.0, 12.0, 11.0, 10.0, 9.0, 8.0, 7.0, 6.0, 5.0, 4.0, 3.0, 2.0, 1.0, 1.0755, 1.0754, 1.0753, 1.0746, 1.0744, 1.0743, 1.0743, 1.074, 1.0738, 1.0737, 1.0735, 1.0733, 1.0728, 1.0726, 1.0725, 1.0723, 1.0722, 1.0721, 1.0721, 1.0719, 1.0718, 1.0717, 1.0716, 1.0714, 1.0707, 1.0707, 1.0702, 1.0697, 1.0697, 1.0695, 1.0902, 1.0902, 1.0898, 1.0895, 1.0895, 1.0894, 1.0893, 1.0892, 1.0892, 1.0892, 1.0891, 1.089, 1.0889, 1.0887, 1.0883, 1.0883, 1.0883, 1.0881, 1.088, 1.0877, 1.0874, 1.0871, 1.0868, 1.0865, 1.0863, 1.0861, 1.0859, 1.0859, 1.0857, 1.0851, 1.1298, 1.1295, 1.1287, 1.1285, 1.1284, 1.1284, 1.1281, 1.1281, 1.1273, 1.1268, 1.1268, 1.1268, 1.1268, 1.1258, 1.1258, 1.1257, 1.1257, 1.1254, 1.1253, 1.1249, 1.1245, 1.1244, 1.1243, 1.124, 1.1238, 1.1238, 1.1237, 1.1234, 1.1234, 1.1231, 1.1129]}, \"token.table\": {\"Topic\": [1, 1, 3, 3, 1, 2, 1, 1, 2, 3, 1, 3, 3, 2, 1, 3, 3, 3, 3, 3, 1, 3, 2, 1, 1, 3, 1, 2, 3, 3, 3, 1, 1, 1, 1, 2, 1, 2, 2, 1, 2, 1, 2, 3, 2, 2, 3, 1, 1, 2, 1, 1, 2, 2, 3, 1, 2, 2, 1, 3, 2, 2, 2, 1, 2, 3, 2, 3, 3, 3, 1, 3, 2, 3, 2, 1, 2, 3, 1, 1, 2, 3, 3, 2, 1, 3, 2, 1, 3, 3, 2, 2, 2, 2, 1, 3], \"Freq\": [0.998673549433862, 0.9949504677284416, 0.9988465637158674, 0.9982663518991506, 0.9991231187998862, 0.9983085430483419, 0.9979903720529606, 0.9979061462922931, 0.9992845289962774, 0.9966150128425146, 0.9959125492848524, 0.997982607411827, 0.9918352498623881, 0.9970264689920731, 0.9989850843979086, 0.9986505288049966, 0.9974523561902301, 0.9997883765717906, 0.9906619959656141, 0.998747806106006, 0.996539888689165, 0.9956740266844984, 0.9964585447186631, 0.9995367210929806, 0.994778307690352, 0.9916456833195423, 0.005351949299442375, 0.01070389859888475, 0.984758671097397, 0.9973028887428792, 0.9970039304434442, 0.9973689234091663, 0.9974708788386215, 0.994431394958936, 0.9923895821502811, 0.9985362739111929, 0.9988808078189432, 0.9922711831905153, 0.9983527270436477, 0.9951145860497774, 0.996704205524968, 0.9996332037014279, 0.00038595876590788724, 0.00038595876590788724, 0.9992154663113533, 0.9985454489428113, 0.998952267710727, 0.9999262577780547, 0.9959756922541416, 0.9948856859406143, 0.9918783553378298, 0.9969381770146069, 0.9944617217061925, 0.9981935969106825, 0.992901740717435, 0.9970539052150712, 0.9964381731960039, 0.9979527207149318, 0.9979162254560218, 0.9991956209509282, 0.9971807263219434, 0.9990537273065137, 0.9976109820300588, 0.9972802857134998, 0.9943766413295857, 0.9972811900607456, 0.9998215870004042, 0.9976076565916595, 0.9995140185931333, 0.9934793176695462, 0.9978875061565644, 0.9985889361047677, 0.9992390732456314, 0.9970762362763513, 0.9993033911708962, 0.0026677751916855193, 0.9977479216903842, 0.9929170093045252, 0.9980005877136846, 0.9978405129853845, 0.9989780939464192, 0.9972259168231454, 0.9960407440881794, 0.999692190301772, 0.9931895076723716, 0.9993994530072374, 0.9956775595221027, 0.9991851901735609, 0.998471366147605, 0.999499264565122, 0.9967340220567349, 0.9985940224216368, 0.9986243660441997, 0.9906557084291671, 0.9967996365258999, 0.996694935702417], \"Term\": [\"\\uac08\\uc218\\ub85d\", \"\\uac11\\uc790\\uae30\", \"\\uacac\\uc790\\ub2e8\", \"\\uacf5\\ud3ec\\uc601\\ud654\", \"\\uadf8\\ub2e4\\uc9c0\", \"\\uadf8\\ub300\\ub85c\", \"\\uadf8\\ub798\\ud53d\", \"\\uadf9\\uc7a5\\ud310\", \"\\uae34\\uc7a5\\uac10\", \"\\ub098\\uba38\\uc9c0\", \"\\ub124\\uc774\\ubc84\", \"\\ub290\\uc640\\ub974\", \"\\ub2e4\\ud050\\uba58\\ud130\\ub9ac\", \"\\ub300\\ud55c\\ubbfc\\uad6d\", \"\\ub3c4\\ub300\\uccb4\", \"\\ub3c4\\uc800\\ud788\", \"\\ub3c5\\ub9bd\\uc601\\ud654\", \"\\ub4dc\\ub77c\\ub9c8\", \"\\ub4f1\\uc7a5\\uc778\\ubb3c\", \"\\ub514\\uc988\\ub2c8\", \"\\ub85c\\ub9e8\\uc2a4\", \"\\ub9ac\\uba54\\uc774\\ud06c\", \"\\ub9c8\\ubb34\\ub9ac\", \"\\ub9c8\\uc9c0\\ub9c9\", \"\\uba54\\uc138\\uc9c0\", \"\\uba54\\uc2dc\\uc9c0\", \"\\ubaa9\\uc18c\\ub9ac\", \"\\ubaa9\\uc18c\\ub9ac\", \"\\ubaa9\\uc18c\\ub9ac\", \"\\ubab0\\uc785\\ub3c4\", \"\\ubb34\\uc5b8\\uac00\", \"\\ubb34\\uc870\\uac74\", \"\\ubba4\\uc9c0\\uceec\", \"\\ubc1c\\uc5f0\\uae30\", \"\\ubcfc\\uac70\\ub9ac\", \"\\ubd84\\uc704\\uae30\", \"\\ube44\\ub514\\uc624\", \"\\uc0c1\\uc0c1\\ub825\", \"\\uc2a4\\ub9b4\\ub7ec\", \"\\uc2a4\\ucf00\\uc77c\", \"\\uc2a4\\ud0c0\\uc77c\", \"\\uc2a4\\ud1a0\\ub9ac\", \"\\uc2a4\\ud1a0\\ub9ac\", \"\\uc2a4\\ud1a0\\ub9ac\", \"\\uc2dc\\ub098\\ub9ac\\uc624\", \"\\uc2dc\\ub9ac\\uc988\", \"\\uc2dc\\uccad\\ub960\", \"\\uc4f0\\ub808\\uae30\", \"\\uc544\\ubc84\\uc9c0\", \"\\uc544\\uc26c\\uc6c0\", \"\\uc544\\uc800\\uc528\", \"\\uc560\\ub2c8\\uba54\\uc774\\uc158\", \"\\uc561\\uc158\\uc601\\ud654\", \"\\uc5b4\\ub9b0\\uc774\", \"\\uc5b4\\uba38\\ub2c8\", \"\\uc5b5\\uc9c0\\ub85c\", \"\\uc5bc\\ub9c8\\ub098\", \"\\uc5ec\\ubc30\\uc6b0\", \"\\uc5f0\\uae30\\ub825\", \"\\uc5f0\\uae30\\uc790\", \"\\uc601\\ud654\\uad00\", \"\\uc601\\ud654\\ub85c\", \"\\uc601\\ud654\\uc778\", \"\\uc608\\uace0\\ud3b8\", \"\\uc624\\ud788\\ub824\", \"\\uc6b0\\ub9ac\\ub098\\ub77c\", \"\\uc774\\uc57c\\uae30\", \"\\uc774\\uc5f0\\uac78\", \"\\uc774\\uc601\\ud654\", \"\\uc7ac\\ubc0b\\ub2e4\", \"\\uc81c\\ub300\\ub85c\", \"\\uc81c\\uc791\\ube44\", \"\\uc8fc\\uc778\\uacf5\", \"\\uc904\\uac70\\ub9ac\", \"\\uc9c0\\ub8e8\\ud568\", \"\\ucc28\\ub77c\\ub9ac\", \"\\ucc28\\ub77c\\ub9ac\", \"\\uccad\\uc18c\\ub144\", \"\\ucd5c\\uace0\\ub2e4\", \"\\uce74\\uba54\\ub77c\", \"\\uce90\\ub9ad\\ud130\", \"\\uce90\\uc2a4\\ud305\", \"\\ucf00\\uc774\\ube14\", \"\\ucf54\\ubbf8\\ub514\", \"\\ud004\\ub9ac\\ud2f0\", \"\\ud0ac\\ub9c1\\ud0c0\\uc784\", \"\\ud310\\ud0c0\\uc9c0\", \"\\ud3c9\\ub860\\uac00\", \"\\ud3ec\\uc2a4\\ud130\", \"\\ud504\\ub791\\uc2a4\", \"\\ud504\\ub85c\\uadf8\\ub7a8\", \"\\ud55c\\uad6d\\uc601\", \"\\ud55c\\ub9c8\\ub514\", \"\\ud574\\ud53c\\uc5d4\\ub529\", \"\\ud654\\uc774\\ud305\", \"\\ud765\\ubbf8\\uc9c4\\uc9c4\"]}, \"R\": 30, \"lambda.step\": 0.01, \"plot.opts\": {\"xlab\": \"PC1\", \"ylab\": \"PC2\"}, \"topic.order\": [3, 2, 1]};\n",
              "\n",
              "function LDAvis_load_lib(url, callback){\n",
              "  var s = document.createElement('script');\n",
              "  s.src = url;\n",
              "  s.async = true;\n",
              "  s.onreadystatechange = s.onload = callback;\n",
              "  s.onerror = function(){console.warn(\"failed to load library \" + url);};\n",
              "  document.getElementsByTagName(\"head\")[0].appendChild(s);\n",
              "}\n",
              "\n",
              "if(typeof(LDAvis) !== \"undefined\"){\n",
              "   // already loaded: just create the visualization\n",
              "   !function(LDAvis){\n",
              "       new LDAvis(\"#\" + \"ldavis_el371811406300823153126466847953\", ldavis_el371811406300823153126466847953_data);\n",
              "   }(LDAvis);\n",
              "}else if(typeof define === \"function\" && define.amd){\n",
              "   // require.js is available: use it to load d3/LDAvis\n",
              "   require.config({paths: {d3: \"https://d3js.org/d3.v5\"}});\n",
              "   require([\"d3\"], function(d3){\n",
              "      window.d3 = d3;\n",
              "      LDAvis_load_lib(\"https://cdn.jsdelivr.net/gh/bmabey/pyLDAvis@3.3.1/pyLDAvis/js/ldavis.v3.0.0.js\", function(){\n",
              "        new LDAvis(\"#\" + \"ldavis_el371811406300823153126466847953\", ldavis_el371811406300823153126466847953_data);\n",
              "      });\n",
              "    });\n",
              "}else{\n",
              "    // require.js not available: dynamically load d3 & LDAvis\n",
              "    LDAvis_load_lib(\"https://d3js.org/d3.v5.js\", function(){\n",
              "         LDAvis_load_lib(\"https://cdn.jsdelivr.net/gh/bmabey/pyLDAvis@3.3.1/pyLDAvis/js/ldavis.v3.0.0.js\", function(){\n",
              "                 new LDAvis(\"#\" + \"ldavis_el371811406300823153126466847953\", ldavis_el371811406300823153126466847953_data);\n",
              "            })\n",
              "         });\n",
              "}\n",
              "</script>"
            ]
          },
          "metadata": {},
          "execution_count": 37
        }
      ]
    },
    {
      "cell_type": "markdown",
      "source": [
        "# **Sentimental Analysis (감성 분석)**\n",
        "\n",
        "감성 분석은 문장(텍스트)에 드러나는 사람들의 생각이나 느낌, 성향과 같이 주관적인 감성을 분석하는 자연어 처리 기법입니다. 머신러닝 분류 모델을 활용하여 문장이 갖는 긍정 또는 부정의 감성을 예측하세요."
      ],
      "metadata": {
        "id": "PmZFh1yXATNM"
      }
    },
    {
      "cell_type": "markdown",
      "source": [
        "## 1) 머신러닝 알고리즘을 활용하여, 긍정/부정 감성을 분류"
      ],
      "metadata": {
        "id": "hBFkRZTDAkQx"
      }
    },
    {
      "cell_type": "code",
      "source": [
        "labels = data['label'].iloc[:149995].values\n",
        "print(labels.shape)\n",
        "print(labels[:5])"
      ],
      "metadata": {
        "id": "JGusVZlCAiVY",
        "colab": {
          "base_uri": "https://localhost:8080/"
        },
        "outputId": "4c0f3a67-a10c-4493-cbd5-3a77e04d9195"
      },
      "execution_count": null,
      "outputs": [
        {
          "output_type": "stream",
          "name": "stdout",
          "text": [
            "(149995,)\n",
            "[0 1 0 0 1]\n"
          ]
        }
      ]
    },
    {
      "cell_type": "code",
      "source": [
        "# 사이킷런 패키지 활용\n",
        "from sklearn.linear_model import LogisticRegression\n",
        "\n",
        "# 로지스틱 분류 모델링 객체를 생성 \n",
        "lr = LogisticRegression()\n",
        "\n",
        "# TF-IDF 벡터를 입력하여 모델 학습 \n",
        "lr.fit(review_tfid, labels)"
      ],
      "metadata": {
        "colab": {
          "base_uri": "https://localhost:8080/"
        },
        "id": "Tm96TTl2Au9C",
        "outputId": "1a7947aa-aa64-4f52-c862-a7d7754e60de"
      },
      "execution_count": null,
      "outputs": [
        {
          "output_type": "execute_result",
          "data": {
            "text/plain": [
              "LogisticRegression()"
            ]
          },
          "metadata": {},
          "execution_count": 39
        }
      ]
    },
    {
      "cell_type": "code",
      "source": [
        "# 첫 번째 샘플을 이용하여 모델 예측\n",
        "pred = lr.predict(review_tfid[0])\n",
        "print(pred)"
      ],
      "metadata": {
        "colab": {
          "base_uri": "https://localhost:8080/"
        },
        "id": "ZsdRPzMfAw94",
        "outputId": "f9dd2fe9-308b-4ebe-d201-2c94b1341097"
      },
      "execution_count": null,
      "outputs": [
        {
          "output_type": "stream",
          "name": "stdout",
          "text": [
            "[0]\n"
          ]
        }
      ]
    },
    {
      "cell_type": "markdown",
      "source": [
        "## 2) Part 1에서 수집한 리뷰를 긍정, 부정으로 감성 분류 예측 - test\n"
      ],
      "metadata": {
        "id": "pflAwVWSA0-i"
      }
    },
    {
      "cell_type": "code",
      "source": [
        "# 판다스 데이터프레임로 읽어오기\n",
        "test = pd.read_csv('/content/drive/MyDrive/HUFS Data Analysis/naver_review_Avatar.csv')\n",
        "\n",
        "test.head()"
      ],
      "metadata": {
        "colab": {
          "base_uri": "https://localhost:8080/",
          "height": 206
        },
        "id": "vQgnGrwaA5fo",
        "outputId": "6ca8a214-7868-4823-d785-378b39556b89"
      },
      "execution_count": null,
      "outputs": [
        {
          "output_type": "execute_result",
          "data": {
            "text/plain": [
              "   Unnamed: 0                                     title      user  \\\n",
              "0           0  <아바타 2> 주인공 \"네이티리\" 캐릭터 컨셉 아트 이미지 대공개...   insu****   \n",
              "1           1                      2014년에 이글을 읽는사람들에게..  xnzm****   \n",
              "2           2          [필독, 스압] 위대한 지휘관, 쿼리치대령을 추모하며...  alwa****   \n",
              "3           3                          아바타2 3,4 제작소식 모음  soqu****   \n",
              "4           4                                  아바타2 스토리  doub****   \n",
              "\n",
              "                                              review  \n",
              "0  \\n\\n\\n\\n\\n아바타 2\\n\\n감독\\n제임스 카메론\\n출연\\n시고니 위버, 스티...  \n",
              "1  \\n2014년에 아바타2가 개봉하다니ㅋ\\n \\n아바타1,, 정말 재밌게 봤었는데\\n...  \n",
              "2  \\n영화 아바타는.끝까지 우리 인류의 번영과 이익을 위해 사투를 벌이다 죽어간 위대...  \n",
              "3  \\n \\n \\n \\n<<  아바타 속편 제작소식 모음  >>\\n \\n\\n \\n \\n...  \n",
              "4  \\n전작의 경우 cg는 혁명적이었지만제임스 카메론이 14년동안 구상한거 치곤 스토리...  "
            ],
            "text/html": [
              "\n",
              "  <div id=\"df-6e2ec329-192c-46b5-b8a1-386266c26865\">\n",
              "    <div class=\"colab-df-container\">\n",
              "      <div>\n",
              "<style scoped>\n",
              "    .dataframe tbody tr th:only-of-type {\n",
              "        vertical-align: middle;\n",
              "    }\n",
              "\n",
              "    .dataframe tbody tr th {\n",
              "        vertical-align: top;\n",
              "    }\n",
              "\n",
              "    .dataframe thead th {\n",
              "        text-align: right;\n",
              "    }\n",
              "</style>\n",
              "<table border=\"1\" class=\"dataframe\">\n",
              "  <thead>\n",
              "    <tr style=\"text-align: right;\">\n",
              "      <th></th>\n",
              "      <th>Unnamed: 0</th>\n",
              "      <th>title</th>\n",
              "      <th>user</th>\n",
              "      <th>review</th>\n",
              "    </tr>\n",
              "  </thead>\n",
              "  <tbody>\n",
              "    <tr>\n",
              "      <th>0</th>\n",
              "      <td>0</td>\n",
              "      <td>&lt;아바타 2&gt; 주인공 \"네이티리\" 캐릭터 컨셉 아트 이미지 대공개...</td>\n",
              "      <td>insu****</td>\n",
              "      <td>\\n\\n\\n\\n\\n아바타 2\\n\\n감독\\n제임스 카메론\\n출연\\n시고니 위버, 스티...</td>\n",
              "    </tr>\n",
              "    <tr>\n",
              "      <th>1</th>\n",
              "      <td>1</td>\n",
              "      <td>2014년에 이글을 읽는사람들에게..</td>\n",
              "      <td>xnzm****</td>\n",
              "      <td>\\n2014년에 아바타2가 개봉하다니ㅋ\\n \\n아바타1,, 정말 재밌게 봤었는데\\n...</td>\n",
              "    </tr>\n",
              "    <tr>\n",
              "      <th>2</th>\n",
              "      <td>2</td>\n",
              "      <td>[필독, 스압] 위대한 지휘관, 쿼리치대령을 추모하며...</td>\n",
              "      <td>alwa****</td>\n",
              "      <td>\\n영화 아바타는.끝까지 우리 인류의 번영과 이익을 위해 사투를 벌이다 죽어간 위대...</td>\n",
              "    </tr>\n",
              "    <tr>\n",
              "      <th>3</th>\n",
              "      <td>3</td>\n",
              "      <td>아바타2 3,4 제작소식 모음</td>\n",
              "      <td>soqu****</td>\n",
              "      <td>\\n \\n \\n \\n&lt;&lt;  아바타 속편 제작소식 모음  &gt;&gt;\\n \\n\\n \\n \\n...</td>\n",
              "    </tr>\n",
              "    <tr>\n",
              "      <th>4</th>\n",
              "      <td>4</td>\n",
              "      <td>아바타2 스토리</td>\n",
              "      <td>doub****</td>\n",
              "      <td>\\n전작의 경우 cg는 혁명적이었지만제임스 카메론이 14년동안 구상한거 치곤 스토리...</td>\n",
              "    </tr>\n",
              "  </tbody>\n",
              "</table>\n",
              "</div>\n",
              "      <button class=\"colab-df-convert\" onclick=\"convertToInteractive('df-6e2ec329-192c-46b5-b8a1-386266c26865')\"\n",
              "              title=\"Convert this dataframe to an interactive table.\"\n",
              "              style=\"display:none;\">\n",
              "        \n",
              "  <svg xmlns=\"http://www.w3.org/2000/svg\" height=\"24px\"viewBox=\"0 0 24 24\"\n",
              "       width=\"24px\">\n",
              "    <path d=\"M0 0h24v24H0V0z\" fill=\"none\"/>\n",
              "    <path d=\"M18.56 5.44l.94 2.06.94-2.06 2.06-.94-2.06-.94-.94-2.06-.94 2.06-2.06.94zm-11 1L8.5 8.5l.94-2.06 2.06-.94-2.06-.94L8.5 2.5l-.94 2.06-2.06.94zm10 10l.94 2.06.94-2.06 2.06-.94-2.06-.94-.94-2.06-.94 2.06-2.06.94z\"/><path d=\"M17.41 7.96l-1.37-1.37c-.4-.4-.92-.59-1.43-.59-.52 0-1.04.2-1.43.59L10.3 9.45l-7.72 7.72c-.78.78-.78 2.05 0 2.83L4 21.41c.39.39.9.59 1.41.59.51 0 1.02-.2 1.41-.59l7.78-7.78 2.81-2.81c.8-.78.8-2.07 0-2.86zM5.41 20L4 18.59l7.72-7.72 1.47 1.35L5.41 20z\"/>\n",
              "  </svg>\n",
              "      </button>\n",
              "      \n",
              "  <style>\n",
              "    .colab-df-container {\n",
              "      display:flex;\n",
              "      flex-wrap:wrap;\n",
              "      gap: 12px;\n",
              "    }\n",
              "\n",
              "    .colab-df-convert {\n",
              "      background-color: #E8F0FE;\n",
              "      border: none;\n",
              "      border-radius: 50%;\n",
              "      cursor: pointer;\n",
              "      display: none;\n",
              "      fill: #1967D2;\n",
              "      height: 32px;\n",
              "      padding: 0 0 0 0;\n",
              "      width: 32px;\n",
              "    }\n",
              "\n",
              "    .colab-df-convert:hover {\n",
              "      background-color: #E2EBFA;\n",
              "      box-shadow: 0px 1px 2px rgba(60, 64, 67, 0.3), 0px 1px 3px 1px rgba(60, 64, 67, 0.15);\n",
              "      fill: #174EA6;\n",
              "    }\n",
              "\n",
              "    [theme=dark] .colab-df-convert {\n",
              "      background-color: #3B4455;\n",
              "      fill: #D2E3FC;\n",
              "    }\n",
              "\n",
              "    [theme=dark] .colab-df-convert:hover {\n",
              "      background-color: #434B5C;\n",
              "      box-shadow: 0px 1px 3px 1px rgba(0, 0, 0, 0.15);\n",
              "      filter: drop-shadow(0px 1px 2px rgba(0, 0, 0, 0.3));\n",
              "      fill: #FFFFFF;\n",
              "    }\n",
              "  </style>\n",
              "\n",
              "      <script>\n",
              "        const buttonEl =\n",
              "          document.querySelector('#df-6e2ec329-192c-46b5-b8a1-386266c26865 button.colab-df-convert');\n",
              "        buttonEl.style.display =\n",
              "          google.colab.kernel.accessAllowed ? 'block' : 'none';\n",
              "\n",
              "        async function convertToInteractive(key) {\n",
              "          const element = document.querySelector('#df-6e2ec329-192c-46b5-b8a1-386266c26865');\n",
              "          const dataTable =\n",
              "            await google.colab.kernel.invokeFunction('convertToInteractive',\n",
              "                                                     [key], {});\n",
              "          if (!dataTable) return;\n",
              "\n",
              "          const docLinkHtml = 'Like what you see? Visit the ' +\n",
              "            '<a target=\"_blank\" href=https://colab.research.google.com/notebooks/data_table.ipynb>data table notebook</a>'\n",
              "            + ' to learn more about interactive tables.';\n",
              "          element.innerHTML = '';\n",
              "          dataTable['output_type'] = 'display_data';\n",
              "          await google.colab.output.renderOutput(dataTable, element);\n",
              "          const docLink = document.createElement('div');\n",
              "          docLink.innerHTML = docLinkHtml;\n",
              "          element.appendChild(docLink);\n",
              "        }\n",
              "      </script>\n",
              "    </div>\n",
              "  </div>\n",
              "  "
            ]
          },
          "metadata": {},
          "execution_count": 41
        }
      ]
    },
    {
      "cell_type": "code",
      "source": [
        "# 첫 번째 리뷰를 선택\n",
        "test_sample = test['review'][0]\n",
        "test_sample"
      ],
      "metadata": {
        "colab": {
          "base_uri": "https://localhost:8080/",
          "height": 105
        },
        "id": "M0e8IIUfCgJW",
        "outputId": "d34fe95c-d062-420d-c332-7e7cbfa86700"
      },
      "execution_count": null,
      "outputs": [
        {
          "output_type": "execute_result",
          "data": {
            "text/plain": [
              "'\\n\\n\\n\\n\\n아바타 2\\n\\n감독\\n제임스 카메론\\n출연\\n시고니 위버, 스티븐 랭, 조 샐다나, 샘 워싱턴\\n개봉\\n2017 미국\\n\\n리뷰보기\\n\\n\\n\\u200b*** 아바타 2 (2017) ***장르: Sci-Fi, 판타지, 모험, 액션감독: 제임스 카메론주연: 조 셀다나 (네이티리 역), 샘 워싱턴 (제이크 설리 역), 시고니 위버 (그레이스 어거스틴 역), 스티븐 랭 (마일즈 쿼리치 역)...국적: 미국북미 개봉일: 2017년 12월 25일2017년 12월 25일 북미 개봉작으로 기대를 모으고 있는 영화 아바타 2...특히나 주인공 \"네이티리\" 의 캐릭터 이미지가 공개가 되어서 올려봅니다.배우 조 샐다나와 샘 워싱턴, 시고니 위버 그리고 스티븐 랭까지 전편에서 출연했었던 배우들이 그대로 출연을 하고 있어서더욱 기대가 되는 영화인 것 같습니다. 아무튼 제임스 카메론 감독의 영화 아바타 2편을 시작으로2018년 아바타 3와 2019년 아바타 4까지 진행되고 있어서 앞으로 더욱 기대되는 영화 아바타인 것 같습니다.\\n'"
            ],
            "application/vnd.google.colaboratory.intrinsic+json": {
              "type": "string"
            }
          },
          "metadata": {},
          "execution_count": 42
        }
      ]
    },
    {
      "cell_type": "code",
      "source": [
        "# 한글을 제외하고 전부 제거\n",
        "test_sample = re.sub(r\"[^가-힣]\", \"\", test_sample)\n",
        "test_sample"
      ],
      "metadata": {
        "colab": {
          "base_uri": "https://localhost:8080/",
          "height": 88
        },
        "id": "M0u7Q3bHCjl8",
        "outputId": "fb0aa412-beb4-4ab9-920d-1ef1a221ddad"
      },
      "execution_count": null,
      "outputs": [
        {
          "output_type": "execute_result",
          "data": {
            "text/plain": [
              "'아바타감독제임스카메론출연시고니위버스티븐랭조샐다나샘워싱턴개봉미국리뷰보기아바타장르판타지모험액션감독제임스카메론주연조셀다나네이티리역샘워싱턴제이크설리역시고니위버그레이스어거스틴역스티븐랭마일즈쿼리치역국적미국북미개봉일년월일년월일북미개봉작으로기대를모으고있는영화아바타특히나주인공네이티리의캐릭터이미지가공개가되어서올려봅니다배우조샐다나와샘워싱턴시고니위버그리고스티븐랭까지전편에서출연했었던배우들이그대로출연을하고있어서더욱기대가되는영화인것같습니다아무튼제임스카메론감독의영화아바타편을시작으로년아바타와년아바타까지진행되고있어서앞으로더욱기대되는영화아바타인것같습니다'"
            ],
            "application/vnd.google.colaboratory.intrinsic+json": {
              "type": "string"
            }
          },
          "metadata": {},
          "execution_count": 43
        }
      ]
    },
    {
      "cell_type": "code",
      "source": [
        "# 세 글자 이상의 명사만을 추출\n",
        "\n",
        "tokens = okt.nouns(test_sample)\n",
        "cleaned_tokens = []\n",
        "for word in tokens:\n",
        "    if len(word) > 2:\n",
        "        cleaned_tokens.append(word)\n",
        "    else:\n",
        "        pass\n",
        "cleaned_test_review = \" \".join(cleaned_tokens)\n",
        "\n",
        "cleaned_test_review"
      ],
      "metadata": {
        "colab": {
          "base_uri": "https://localhost:8080/",
          "height": 53
        },
        "id": "MhxvGH_MCmRz",
        "outputId": "2c71bc5e-11d6-4d95-9cac-9fddd6259815"
      },
      "execution_count": null,
      "outputs": [
        {
          "output_type": "execute_result",
          "data": {
            "text/plain": [
              "'아바타 제임스 카메론 워싱턴 아바타 판타지 제임스 카메론 네이티 리역샘 워싱턴 제이크 레이스 어거스틴 스티븐 개봉일 아바타 네이티 캐릭터 이미지 워싱턴 스티븐 영화인 제임스 카메론 아바타 아바타 아바타 아바타'"
            ],
            "application/vnd.google.colaboratory.intrinsic+json": {
              "type": "string"
            }
          },
          "metadata": {},
          "execution_count": 44
        }
      ]
    },
    {
      "cell_type": "code",
      "source": [
        "# TF-IDF 변환기에 데이터를 입력하여 변환\n",
        "test_review_tfid = tfid.transform([cleaned_test_review])\n",
        "\n",
        "# 배열을 출력\n",
        "print(test_review_tfid)"
      ],
      "metadata": {
        "colab": {
          "base_uri": "https://localhost:8080/"
        },
        "id": "uv_Xw7WvDycF",
        "outputId": "bb0c9372-77bf-4211-fd3f-cbd0434d21f6"
      },
      "execution_count": null,
      "outputs": [
        {
          "output_type": "stream",
          "name": "stdout",
          "text": [
            "  (0, 15568)\t0.0808074257302683\n",
            "  (0, 14642)\t0.0684315678085225\n",
            "  (0, 14553)\t0.31364617325609667\n",
            "  (0, 13166)\t0.2919564730016513\n",
            "  (0, 13165)\t0.12011378206990456\n",
            "  (0, 11515)\t0.09148665090248491\n",
            "  (0, 10958)\t0.3197320119039558\n",
            "  (0, 10285)\t0.07656065146130983\n",
            "  (0, 8968)\t0.7282077153097543\n",
            "  (0, 8253)\t0.19797040447251155\n",
            "  (0, 3880)\t0.1173603983808489\n",
            "  (0, 2403)\t0.279154297914368\n",
            "  (0, 322)\t0.11449110353079545\n"
          ]
        }
      ]
    },
    {
      "cell_type": "code",
      "source": [
        "# 로지스틱 회귀 모델을 활용하여 분류 예측\n",
        "test_pred = lr.predict(test_review_tfid)[0]\n",
        "print(\"분석 결과 {}적인 리뷰로 예측됩니다. \".format(\"긍정\" if test_pred > 0 else \"부정\"))"
      ],
      "metadata": {
        "colab": {
          "base_uri": "https://localhost:8080/"
        },
        "id": "NKJgGVUcD1FD",
        "outputId": "10837565-5fe8-4075-e9e7-cc8192602c9b"
      },
      "execution_count": null,
      "outputs": [
        {
          "output_type": "stream",
          "name": "stdout",
          "text": [
            "분석 결과 긍정적인 리뷰로 예측됩니다. \n"
          ]
        }
      ]
    },
    {
      "cell_type": "markdown",
      "source": [
        "## 3) Part1에서 수집한 전체 리뷰 - 감성 분류 예측"
      ],
      "metadata": {
        "id": "rSXJvkNDlKjC"
      }
    },
    {
      "cell_type": "code",
      "source": [
        "# 판다스 데이터프레임로 읽어오기\n",
        "df = pd.read_csv('/content/drive/MyDrive/HUFS Data Analysis/naver_review_Avatar.csv')\n",
        "\n",
        "df.info()\n",
        "df.head()"
      ],
      "metadata": {
        "colab": {
          "base_uri": "https://localhost:8080/",
          "height": 397
        },
        "id": "5nrHlr1YqOTA",
        "outputId": "662c75ee-e14e-4c8b-d0d5-1f313c30a099"
      },
      "execution_count": null,
      "outputs": [
        {
          "output_type": "stream",
          "name": "stdout",
          "text": [
            "<class 'pandas.core.frame.DataFrame'>\n",
            "RangeIndex: 71 entries, 0 to 70\n",
            "Data columns (total 4 columns):\n",
            " #   Column      Non-Null Count  Dtype \n",
            "---  ------      --------------  ----- \n",
            " 0   Unnamed: 0  71 non-null     int64 \n",
            " 1   title       71 non-null     object\n",
            " 2   user        71 non-null     object\n",
            " 3   review      71 non-null     object\n",
            "dtypes: int64(1), object(3)\n",
            "memory usage: 2.3+ KB\n"
          ]
        },
        {
          "output_type": "execute_result",
          "data": {
            "text/plain": [
              "   Unnamed: 0                                     title      user  \\\n",
              "0           0  <아바타 2> 주인공 \"네이티리\" 캐릭터 컨셉 아트 이미지 대공개...   insu****   \n",
              "1           1                      2014년에 이글을 읽는사람들에게..  xnzm****   \n",
              "2           2          [필독, 스압] 위대한 지휘관, 쿼리치대령을 추모하며...  alwa****   \n",
              "3           3                          아바타2 3,4 제작소식 모음  soqu****   \n",
              "4           4                                  아바타2 스토리  doub****   \n",
              "\n",
              "                                              review  \n",
              "0  \\n\\n\\n\\n\\n아바타 2\\n\\n감독\\n제임스 카메론\\n출연\\n시고니 위버, 스티...  \n",
              "1  \\n2014년에 아바타2가 개봉하다니ㅋ\\n \\n아바타1,, 정말 재밌게 봤었는데\\n...  \n",
              "2  \\n영화 아바타는.끝까지 우리 인류의 번영과 이익을 위해 사투를 벌이다 죽어간 위대...  \n",
              "3  \\n \\n \\n \\n<<  아바타 속편 제작소식 모음  >>\\n \\n\\n \\n \\n...  \n",
              "4  \\n전작의 경우 cg는 혁명적이었지만제임스 카메론이 14년동안 구상한거 치곤 스토리...  "
            ],
            "text/html": [
              "\n",
              "  <div id=\"df-37229733-7585-498a-9fde-ef5145ede553\">\n",
              "    <div class=\"colab-df-container\">\n",
              "      <div>\n",
              "<style scoped>\n",
              "    .dataframe tbody tr th:only-of-type {\n",
              "        vertical-align: middle;\n",
              "    }\n",
              "\n",
              "    .dataframe tbody tr th {\n",
              "        vertical-align: top;\n",
              "    }\n",
              "\n",
              "    .dataframe thead th {\n",
              "        text-align: right;\n",
              "    }\n",
              "</style>\n",
              "<table border=\"1\" class=\"dataframe\">\n",
              "  <thead>\n",
              "    <tr style=\"text-align: right;\">\n",
              "      <th></th>\n",
              "      <th>Unnamed: 0</th>\n",
              "      <th>title</th>\n",
              "      <th>user</th>\n",
              "      <th>review</th>\n",
              "    </tr>\n",
              "  </thead>\n",
              "  <tbody>\n",
              "    <tr>\n",
              "      <th>0</th>\n",
              "      <td>0</td>\n",
              "      <td>&lt;아바타 2&gt; 주인공 \"네이티리\" 캐릭터 컨셉 아트 이미지 대공개...</td>\n",
              "      <td>insu****</td>\n",
              "      <td>\\n\\n\\n\\n\\n아바타 2\\n\\n감독\\n제임스 카메론\\n출연\\n시고니 위버, 스티...</td>\n",
              "    </tr>\n",
              "    <tr>\n",
              "      <th>1</th>\n",
              "      <td>1</td>\n",
              "      <td>2014년에 이글을 읽는사람들에게..</td>\n",
              "      <td>xnzm****</td>\n",
              "      <td>\\n2014년에 아바타2가 개봉하다니ㅋ\\n \\n아바타1,, 정말 재밌게 봤었는데\\n...</td>\n",
              "    </tr>\n",
              "    <tr>\n",
              "      <th>2</th>\n",
              "      <td>2</td>\n",
              "      <td>[필독, 스압] 위대한 지휘관, 쿼리치대령을 추모하며...</td>\n",
              "      <td>alwa****</td>\n",
              "      <td>\\n영화 아바타는.끝까지 우리 인류의 번영과 이익을 위해 사투를 벌이다 죽어간 위대...</td>\n",
              "    </tr>\n",
              "    <tr>\n",
              "      <th>3</th>\n",
              "      <td>3</td>\n",
              "      <td>아바타2 3,4 제작소식 모음</td>\n",
              "      <td>soqu****</td>\n",
              "      <td>\\n \\n \\n \\n&lt;&lt;  아바타 속편 제작소식 모음  &gt;&gt;\\n \\n\\n \\n \\n...</td>\n",
              "    </tr>\n",
              "    <tr>\n",
              "      <th>4</th>\n",
              "      <td>4</td>\n",
              "      <td>아바타2 스토리</td>\n",
              "      <td>doub****</td>\n",
              "      <td>\\n전작의 경우 cg는 혁명적이었지만제임스 카메론이 14년동안 구상한거 치곤 스토리...</td>\n",
              "    </tr>\n",
              "  </tbody>\n",
              "</table>\n",
              "</div>\n",
              "      <button class=\"colab-df-convert\" onclick=\"convertToInteractive('df-37229733-7585-498a-9fde-ef5145ede553')\"\n",
              "              title=\"Convert this dataframe to an interactive table.\"\n",
              "              style=\"display:none;\">\n",
              "        \n",
              "  <svg xmlns=\"http://www.w3.org/2000/svg\" height=\"24px\"viewBox=\"0 0 24 24\"\n",
              "       width=\"24px\">\n",
              "    <path d=\"M0 0h24v24H0V0z\" fill=\"none\"/>\n",
              "    <path d=\"M18.56 5.44l.94 2.06.94-2.06 2.06-.94-2.06-.94-.94-2.06-.94 2.06-2.06.94zm-11 1L8.5 8.5l.94-2.06 2.06-.94-2.06-.94L8.5 2.5l-.94 2.06-2.06.94zm10 10l.94 2.06.94-2.06 2.06-.94-2.06-.94-.94-2.06-.94 2.06-2.06.94z\"/><path d=\"M17.41 7.96l-1.37-1.37c-.4-.4-.92-.59-1.43-.59-.52 0-1.04.2-1.43.59L10.3 9.45l-7.72 7.72c-.78.78-.78 2.05 0 2.83L4 21.41c.39.39.9.59 1.41.59.51 0 1.02-.2 1.41-.59l7.78-7.78 2.81-2.81c.8-.78.8-2.07 0-2.86zM5.41 20L4 18.59l7.72-7.72 1.47 1.35L5.41 20z\"/>\n",
              "  </svg>\n",
              "      </button>\n",
              "      \n",
              "  <style>\n",
              "    .colab-df-container {\n",
              "      display:flex;\n",
              "      flex-wrap:wrap;\n",
              "      gap: 12px;\n",
              "    }\n",
              "\n",
              "    .colab-df-convert {\n",
              "      background-color: #E8F0FE;\n",
              "      border: none;\n",
              "      border-radius: 50%;\n",
              "      cursor: pointer;\n",
              "      display: none;\n",
              "      fill: #1967D2;\n",
              "      height: 32px;\n",
              "      padding: 0 0 0 0;\n",
              "      width: 32px;\n",
              "    }\n",
              "\n",
              "    .colab-df-convert:hover {\n",
              "      background-color: #E2EBFA;\n",
              "      box-shadow: 0px 1px 2px rgba(60, 64, 67, 0.3), 0px 1px 3px 1px rgba(60, 64, 67, 0.15);\n",
              "      fill: #174EA6;\n",
              "    }\n",
              "\n",
              "    [theme=dark] .colab-df-convert {\n",
              "      background-color: #3B4455;\n",
              "      fill: #D2E3FC;\n",
              "    }\n",
              "\n",
              "    [theme=dark] .colab-df-convert:hover {\n",
              "      background-color: #434B5C;\n",
              "      box-shadow: 0px 1px 3px 1px rgba(0, 0, 0, 0.15);\n",
              "      filter: drop-shadow(0px 1px 2px rgba(0, 0, 0, 0.3));\n",
              "      fill: #FFFFFF;\n",
              "    }\n",
              "  </style>\n",
              "\n",
              "      <script>\n",
              "        const buttonEl =\n",
              "          document.querySelector('#df-37229733-7585-498a-9fde-ef5145ede553 button.colab-df-convert');\n",
              "        buttonEl.style.display =\n",
              "          google.colab.kernel.accessAllowed ? 'block' : 'none';\n",
              "\n",
              "        async function convertToInteractive(key) {\n",
              "          const element = document.querySelector('#df-37229733-7585-498a-9fde-ef5145ede553');\n",
              "          const dataTable =\n",
              "            await google.colab.kernel.invokeFunction('convertToInteractive',\n",
              "                                                     [key], {});\n",
              "          if (!dataTable) return;\n",
              "\n",
              "          const docLinkHtml = 'Like what you see? Visit the ' +\n",
              "            '<a target=\"_blank\" href=https://colab.research.google.com/notebooks/data_table.ipynb>data table notebook</a>'\n",
              "            + ' to learn more about interactive tables.';\n",
              "          element.innerHTML = '';\n",
              "          dataTable['output_type'] = 'display_data';\n",
              "          await google.colab.output.renderOutput(dataTable, element);\n",
              "          const docLink = document.createElement('div');\n",
              "          docLink.innerHTML = docLinkHtml;\n",
              "          element.appendChild(docLink);\n",
              "        }\n",
              "      </script>\n",
              "    </div>\n",
              "  </div>\n",
              "  "
            ]
          },
          "metadata": {},
          "execution_count": 47
        }
      ]
    },
    {
      "cell_type": "code",
      "source": [
        "cleaned_tokens = []\n",
        "\n",
        "for review in tqdm(df[\"review\"]):\n",
        "\n",
        "    # 한글을 제외하고 전부 제거\n",
        "    text = re.sub(r\"[^가-힣]\", \"\", review)\n",
        "\n",
        "    # 세글자 이상의 명사만을 추출\n",
        "    tokens = okt.nouns(text)\n",
        "\n",
        "    for word in tokens:\n",
        "        if len(word) > 2:\n",
        "            cleaned_tokens.append(word)\n",
        "        else:\n",
        "            pass\n",
        "    cleaned_review = \" \".join(cleaned_tokens)\n",
        "\n",
        "    cleaned_review"
      ],
      "metadata": {
        "id": "7pPxv33vuqmp",
        "colab": {
          "base_uri": "https://localhost:8080/"
        },
        "outputId": "530a951b-9279-43f0-9476-6eff44050fdb"
      },
      "execution_count": null,
      "outputs": [
        {
          "output_type": "stream",
          "name": "stderr",
          "text": [
            "100%|██████████| 71/71 [39:24<00:00, 33.30s/it]\n"
          ]
        }
      ]
    },
    {
      "cell_type": "code",
      "source": [
        "# TF-IDF 변환기에 데이터를 입력하여 변환\n",
        "review_tfid = tfid.transform([cleaned_review])\n",
        "\n",
        "# 배열을 출력\n",
        "print(review_tfid)"
      ],
      "metadata": {
        "colab": {
          "base_uri": "https://localhost:8080/"
        },
        "id": "iDy5lhPr1tt1",
        "outputId": "76c6f27f-392f-44d5-c690-18b89eeca8e9"
      },
      "execution_count": null,
      "outputs": [
        {
          "output_type": "stream",
          "name": "stdout",
          "text": [
            "  (0, 17165)\t0.005110557507557496\n",
            "  (0, 17164)\t0.0025892651637636076\n",
            "  (0, 17157)\t0.0022707059680844824\n",
            "  (0, 17137)\t0.0019547778258255676\n",
            "  (0, 17133)\t0.002503388839186343\n",
            "  (0, 17128)\t0.0025892651637636076\n",
            "  (0, 17127)\t0.0025892651637636076\n",
            "  (0, 17122)\t0.00308679503390338\n",
            "  (0, 17065)\t0.00209125075821024\n",
            "  (0, 17002)\t0.002356582292661747\n",
            "  (0, 16984)\t0.014208643104428403\n",
            "  (0, 16978)\t0.005006777678372686\n",
            "  (0, 16929)\t0.0019394605211222548\n",
            "  (0, 16865)\t0.00552717694040231\n",
            "  (0, 16808)\t0.007069746877985242\n",
            "  (0, 16793)\t0.005178530327527215\n",
            "  (0, 16786)\t0.018342207872843602\n",
            "  (0, 16771)\t0.0025892651637636076\n",
            "  (0, 16761)\t0.0018724611997744734\n",
            "  (0, 16757)\t0.004162795909786946\n",
            "  (0, 16748)\t0.0036786006608551334\n",
            "  (0, 16707)\t0.0022097757461371514\n",
            "  (0, 16697)\t0.0024424586172390114\n",
            "  (0, 16644)\t0.0022282045014180686\n",
            "  (0, 16631)\t0.0020460163881208643\n",
            "  :\t:\n",
            "  (0, 628)\t0.0025892651637636076\n",
            "  (0, 571)\t0.002015708047772899\n",
            "  (0, 564)\t0.0034235226811675677\n",
            "  (0, 549)\t0.003806645070829536\n",
            "  (0, 498)\t0.0033357780285331257\n",
            "  (0, 394)\t0.007767795491290823\n",
            "  (0, 331)\t0.0022956520707144157\n",
            "  (0, 322)\t0.053097485538997166\n",
            "  (0, 277)\t0.004456409002836137\n",
            "  (0, 266)\t0.0022707059680844824\n",
            "  (0, 260)\t0.002356582292661747\n",
            "  (0, 256)\t0.002356582292661747\n",
            "  (0, 220)\t0.0019298317231956346\n",
            "  (0, 166)\t0.0015002758534244196\n",
            "  (0, 110)\t0.002503388839186343\n",
            "  (0, 106)\t0.004385645869290921\n",
            "  (0, 97)\t0.0020020389776652233\n",
            "  (0, 87)\t0.002503388839186343\n",
            "  (0, 76)\t0.0023239336293121005\n",
            "  (0, 67)\t0.007069746877985242\n",
            "  (0, 65)\t0.014109956334410291\n",
            "  (0, 64)\t0.002503388839186343\n",
            "  (0, 42)\t0.005178530327527215\n",
            "  (0, 8)\t0.007394860335166448\n",
            "  (0, 4)\t0.001895175489586186\n"
          ]
        }
      ]
    },
    {
      "cell_type": "code",
      "source": [
        "# 로지스틱 회귀 모델을 활용하여 분류 예측\n",
        "review_pred = lr.predict(review_tfid)\n",
        "print(\"분석 결과 {}적인 리뷰로 예측됩니다. \".format(\"긍정\" if review_pred > 0 else \"부정\"))"
      ],
      "metadata": {
        "colab": {
          "base_uri": "https://localhost:8080/"
        },
        "id": "g-6sXA_yAoh2",
        "outputId": "1a054e73-de7e-4e6a-90bc-4c42720095a3"
      },
      "execution_count": null,
      "outputs": [
        {
          "output_type": "stream",
          "name": "stdout",
          "text": [
            "분석 결과 긍정적인 리뷰로 예측됩니다. \n"
          ]
        }
      ]
    }
  ]
}