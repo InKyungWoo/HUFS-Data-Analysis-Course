{
  "nbformat": 4,
  "nbformat_minor": 0,
  "metadata": {
    "colab": {
      "provenance": [],
      "toc_visible": true
    },
    "kernelspec": {
      "name": "python3",
      "display_name": "Python 3"
    },
    "language_info": {
      "name": "python"
    }
  },
  "cells": [
    {
      "cell_type": "markdown",
      "source": [
        "1. 네이버 영화 리뷰 데이터셋을 활용하여, 자연어 모델링을 위한 형태소 분석 등 전처리 기법을 학습합니다.\n",
        "\n",
        "2. 전처리된 자연어 데이터를 벡터화하는 TF-IDF 기법을 이해합니다.\n",
        "\n",
        "3. 벡터화된 데이터를 활용하여 토픽 모델링과 감성분석 모델링을 실습해봅니다."
      ],
      "metadata": {
        "id": "obLIfI8e7yX0"
      }
    },
    {
      "cell_type": "code",
      "source": [
        "# (구글 코랩에서 실습할 경우) 아래 코드를 실행하여 한글 폰트를 설치합니다. \n",
        "# 설치가 완료되면, 커널을 재시작합니다. (상단 메뉴에서 [런타임] - [런타임 다시 시작] 을 선택)\n",
        "\n",
        "!sudo apt-get install -y fonts-nanum\n",
        "!sudo fc-cache -fv\n",
        "!rm ~/.cache/matplotlib -rf"
      ],
      "metadata": {
        "colab": {
          "base_uri": "https://localhost:8080/"
        },
        "id": "u-HZrsz07z49",
        "outputId": "d42f5205-3f27-4758-daa8-23945ef07961"
      },
      "execution_count": 10,
      "outputs": [
        {
          "output_type": "stream",
          "name": "stdout",
          "text": [
            "Reading package lists... Done\n",
            "Building dependency tree       \n",
            "Reading state information... Done\n",
            "The following package was automatically installed and is no longer required:\n",
            "  libnvidia-common-460\n",
            "Use 'sudo apt autoremove' to remove it.\n",
            "The following NEW packages will be installed:\n",
            "  fonts-nanum\n",
            "0 upgraded, 1 newly installed, 0 to remove and 21 not upgraded.\n",
            "Need to get 9,604 kB of archives.\n",
            "After this operation, 29.5 MB of additional disk space will be used.\n",
            "Get:1 http://archive.ubuntu.com/ubuntu bionic/universe amd64 fonts-nanum all 20170925-1 [9,604 kB]\n",
            "Fetched 9,604 kB in 1s (7,779 kB/s)\n",
            "debconf: unable to initialize frontend: Dialog\n",
            "debconf: (No usable dialog-like program is installed, so the dialog based frontend cannot be used. at /usr/share/perl5/Debconf/FrontEnd/Dialog.pm line 76, <> line 1.)\n",
            "debconf: falling back to frontend: Readline\n",
            "debconf: unable to initialize frontend: Readline\n",
            "debconf: (This frontend requires a controlling tty.)\n",
            "debconf: falling back to frontend: Teletype\n",
            "dpkg-preconfigure: unable to re-open stdin: \n",
            "Selecting previously unselected package fonts-nanum.\n",
            "(Reading database ... 124016 files and directories currently installed.)\n",
            "Preparing to unpack .../fonts-nanum_20170925-1_all.deb ...\n",
            "Unpacking fonts-nanum (20170925-1) ...\n",
            "Setting up fonts-nanum (20170925-1) ...\n",
            "Processing triggers for fontconfig (2.12.6-0ubuntu2) ...\n",
            "/usr/share/fonts: caching, new cache contents: 0 fonts, 1 dirs\n",
            "/usr/share/fonts/truetype: caching, new cache contents: 0 fonts, 3 dirs\n",
            "/usr/share/fonts/truetype/humor-sans: caching, new cache contents: 1 fonts, 0 dirs\n",
            "/usr/share/fonts/truetype/liberation: caching, new cache contents: 16 fonts, 0 dirs\n",
            "/usr/share/fonts/truetype/nanum: caching, new cache contents: 10 fonts, 0 dirs\n",
            "/usr/local/share/fonts: caching, new cache contents: 0 fonts, 0 dirs\n",
            "/root/.local/share/fonts: skipping, no such directory\n",
            "/root/.fonts: skipping, no such directory\n",
            "/var/cache/fontconfig: cleaning cache directory\n",
            "/root/.cache/fontconfig: not cleaning non-existent cache directory\n",
            "/root/.fontconfig: not cleaning non-existent cache directory\n",
            "fc-cache: succeeded\n"
          ]
        }
      ]
    },
    {
      "cell_type": "markdown",
      "source": [
        "# 라이브러리 불러오기\n"
      ],
      "metadata": {
        "id": "rWr0K8YI8Xfy"
      }
    },
    {
      "cell_type": "code",
      "source": [
        "import pandas as pd\n",
        "import numpy as np\n",
        "\n",
        "import os, re\n",
        "from tqdm import tqdm\n",
        "\n",
        "# 경고문구 미표시\n",
        "import warnings\n",
        "warnings.filterwarnings('ignore')\n",
        "\n",
        "# 한글 폰트 지정\n",
        "import matplotlib.pyplot as plt\n",
        "plt.rc('font', family='NanumBarunGothic')"
      ],
      "metadata": {
        "id": "_dNc4FbL8Z37"
      },
      "execution_count": 11,
      "outputs": []
    },
    {
      "cell_type": "markdown",
      "source": [
        "# 네이버 영화 리뷰 데이터 - 다운로드\n",
        "-  출처: https://github.com/e9t/nsmc"
      ],
      "metadata": {
        "id": "D4qVs2qQ8dhN"
      }
    },
    {
      "cell_type": "code",
      "source": [
        "# 다운로드 받을 폴더를 준비\n",
        "DATA_DIR = \"./data\"\n",
        "os.makedirs(DATA_DIR, exist_ok=True)"
      ],
      "metadata": {
        "id": "xEly7huk8c_Q"
      },
      "execution_count": 13,
      "outputs": []
    },
    {
      "cell_type": "code",
      "source": [
        "# 데이터 다운로드 \n",
        "import torchtext \n",
        "torchtext.utils.download_from_url(url='https://raw.githubusercontent.com/e9t/nsmc/master/ratings_train.txt', \n",
        "                                  path=os.path.join(DATA_DIR, 'review.txt'))"
      ],
      "metadata": {
        "colab": {
          "base_uri": "https://localhost:8080/",
          "height": 53
        },
        "id": "I7qdRkZS9xFW",
        "outputId": "334a4270-930c-4b26-c6c3-5130f1314c00"
      },
      "execution_count": 15,
      "outputs": [
        {
          "output_type": "stream",
          "name": "stderr",
          "text": [
            "14.6MB [00:00, 19.3MB/s]\n"
          ]
        },
        {
          "output_type": "execute_result",
          "data": {
            "text/plain": [
              "'/content/data/review.txt'"
            ],
            "application/vnd.google.colaboratory.intrinsic+json": {
              "type": "string"
            }
          },
          "metadata": {},
          "execution_count": 15
        }
      ]
    },
    {
      "cell_type": "code",
      "source": [
        "# txt 파일을 판다스 데이터프레임으로 읽어오기\n",
        "data = pd.read_csv(os.path.join(DATA_DIR, 'review.txt'), sep='\\t')\n",
        "\n",
        "# 데이터프레임의 크기\n",
        "print(data.shape)\n",
        "\n",
        "# 첫 5행을 출력\n",
        "data.head()"
      ],
      "metadata": {
        "colab": {
          "base_uri": "https://localhost:8080/",
          "height": 224
        },
        "id": "Nq3d7HKa95xx",
        "outputId": "76fd1435-8f32-4cd5-b22e-1399ba210d0b"
      },
      "execution_count": 16,
      "outputs": [
        {
          "output_type": "stream",
          "name": "stdout",
          "text": [
            "(150000, 3)\n"
          ]
        },
        {
          "output_type": "execute_result",
          "data": {
            "text/plain": [
              "         id                                           document  label\n",
              "0   9976970                                아 더빙.. 진짜 짜증나네요 목소리      0\n",
              "1   3819312                  흠...포스터보고 초딩영화줄....오버연기조차 가볍지 않구나      1\n",
              "2  10265843                                  너무재밓었다그래서보는것을추천한다      0\n",
              "3   9045019                      교도소 이야기구먼 ..솔직히 재미는 없다..평점 조정      0\n",
              "4   6483659  사이몬페그의 익살스런 연기가 돋보였던 영화!스파이더맨에서 늙어보이기만 했던 커스틴 ...      1"
            ],
            "text/html": [
              "\n",
              "  <div id=\"df-6e6e2368-e0e1-4845-91ae-32841afea4a0\">\n",
              "    <div class=\"colab-df-container\">\n",
              "      <div>\n",
              "<style scoped>\n",
              "    .dataframe tbody tr th:only-of-type {\n",
              "        vertical-align: middle;\n",
              "    }\n",
              "\n",
              "    .dataframe tbody tr th {\n",
              "        vertical-align: top;\n",
              "    }\n",
              "\n",
              "    .dataframe thead th {\n",
              "        text-align: right;\n",
              "    }\n",
              "</style>\n",
              "<table border=\"1\" class=\"dataframe\">\n",
              "  <thead>\n",
              "    <tr style=\"text-align: right;\">\n",
              "      <th></th>\n",
              "      <th>id</th>\n",
              "      <th>document</th>\n",
              "      <th>label</th>\n",
              "    </tr>\n",
              "  </thead>\n",
              "  <tbody>\n",
              "    <tr>\n",
              "      <th>0</th>\n",
              "      <td>9976970</td>\n",
              "      <td>아 더빙.. 진짜 짜증나네요 목소리</td>\n",
              "      <td>0</td>\n",
              "    </tr>\n",
              "    <tr>\n",
              "      <th>1</th>\n",
              "      <td>3819312</td>\n",
              "      <td>흠...포스터보고 초딩영화줄....오버연기조차 가볍지 않구나</td>\n",
              "      <td>1</td>\n",
              "    </tr>\n",
              "    <tr>\n",
              "      <th>2</th>\n",
              "      <td>10265843</td>\n",
              "      <td>너무재밓었다그래서보는것을추천한다</td>\n",
              "      <td>0</td>\n",
              "    </tr>\n",
              "    <tr>\n",
              "      <th>3</th>\n",
              "      <td>9045019</td>\n",
              "      <td>교도소 이야기구먼 ..솔직히 재미는 없다..평점 조정</td>\n",
              "      <td>0</td>\n",
              "    </tr>\n",
              "    <tr>\n",
              "      <th>4</th>\n",
              "      <td>6483659</td>\n",
              "      <td>사이몬페그의 익살스런 연기가 돋보였던 영화!스파이더맨에서 늙어보이기만 했던 커스틴 ...</td>\n",
              "      <td>1</td>\n",
              "    </tr>\n",
              "  </tbody>\n",
              "</table>\n",
              "</div>\n",
              "      <button class=\"colab-df-convert\" onclick=\"convertToInteractive('df-6e6e2368-e0e1-4845-91ae-32841afea4a0')\"\n",
              "              title=\"Convert this dataframe to an interactive table.\"\n",
              "              style=\"display:none;\">\n",
              "        \n",
              "  <svg xmlns=\"http://www.w3.org/2000/svg\" height=\"24px\"viewBox=\"0 0 24 24\"\n",
              "       width=\"24px\">\n",
              "    <path d=\"M0 0h24v24H0V0z\" fill=\"none\"/>\n",
              "    <path d=\"M18.56 5.44l.94 2.06.94-2.06 2.06-.94-2.06-.94-.94-2.06-.94 2.06-2.06.94zm-11 1L8.5 8.5l.94-2.06 2.06-.94-2.06-.94L8.5 2.5l-.94 2.06-2.06.94zm10 10l.94 2.06.94-2.06 2.06-.94-2.06-.94-.94-2.06-.94 2.06-2.06.94z\"/><path d=\"M17.41 7.96l-1.37-1.37c-.4-.4-.92-.59-1.43-.59-.52 0-1.04.2-1.43.59L10.3 9.45l-7.72 7.72c-.78.78-.78 2.05 0 2.83L4 21.41c.39.39.9.59 1.41.59.51 0 1.02-.2 1.41-.59l7.78-7.78 2.81-2.81c.8-.78.8-2.07 0-2.86zM5.41 20L4 18.59l7.72-7.72 1.47 1.35L5.41 20z\"/>\n",
              "  </svg>\n",
              "      </button>\n",
              "      \n",
              "  <style>\n",
              "    .colab-df-container {\n",
              "      display:flex;\n",
              "      flex-wrap:wrap;\n",
              "      gap: 12px;\n",
              "    }\n",
              "\n",
              "    .colab-df-convert {\n",
              "      background-color: #E8F0FE;\n",
              "      border: none;\n",
              "      border-radius: 50%;\n",
              "      cursor: pointer;\n",
              "      display: none;\n",
              "      fill: #1967D2;\n",
              "      height: 32px;\n",
              "      padding: 0 0 0 0;\n",
              "      width: 32px;\n",
              "    }\n",
              "\n",
              "    .colab-df-convert:hover {\n",
              "      background-color: #E2EBFA;\n",
              "      box-shadow: 0px 1px 2px rgba(60, 64, 67, 0.3), 0px 1px 3px 1px rgba(60, 64, 67, 0.15);\n",
              "      fill: #174EA6;\n",
              "    }\n",
              "\n",
              "    [theme=dark] .colab-df-convert {\n",
              "      background-color: #3B4455;\n",
              "      fill: #D2E3FC;\n",
              "    }\n",
              "\n",
              "    [theme=dark] .colab-df-convert:hover {\n",
              "      background-color: #434B5C;\n",
              "      box-shadow: 0px 1px 3px 1px rgba(0, 0, 0, 0.15);\n",
              "      filter: drop-shadow(0px 1px 2px rgba(0, 0, 0, 0.3));\n",
              "      fill: #FFFFFF;\n",
              "    }\n",
              "  </style>\n",
              "\n",
              "      <script>\n",
              "        const buttonEl =\n",
              "          document.querySelector('#df-6e6e2368-e0e1-4845-91ae-32841afea4a0 button.colab-df-convert');\n",
              "        buttonEl.style.display =\n",
              "          google.colab.kernel.accessAllowed ? 'block' : 'none';\n",
              "\n",
              "        async function convertToInteractive(key) {\n",
              "          const element = document.querySelector('#df-6e6e2368-e0e1-4845-91ae-32841afea4a0');\n",
              "          const dataTable =\n",
              "            await google.colab.kernel.invokeFunction('convertToInteractive',\n",
              "                                                     [key], {});\n",
              "          if (!dataTable) return;\n",
              "\n",
              "          const docLinkHtml = 'Like what you see? Visit the ' +\n",
              "            '<a target=\"_blank\" href=https://colab.research.google.com/notebooks/data_table.ipynb>data table notebook</a>'\n",
              "            + ' to learn more about interactive tables.';\n",
              "          element.innerHTML = '';\n",
              "          dataTable['output_type'] = 'display_data';\n",
              "          await google.colab.output.renderOutput(dataTable, element);\n",
              "          const docLink = document.createElement('div');\n",
              "          docLink.innerHTML = docLinkHtml;\n",
              "          element.appendChild(docLink);\n",
              "        }\n",
              "      </script>\n",
              "    </div>\n",
              "  </div>\n",
              "  "
            ]
          },
          "metadata": {},
          "execution_count": 16
        }
      ]
    },
    {
      "cell_type": "markdown",
      "source": [
        "# 한글 형태소 분석\n",
        "\n",
        "한국어 정보처리를 위한 파이썬 패키지인 KoNLPy(코엔엘파이)를 활용하여\n",
        "\n",
        "분석 대상이 되는 문장(텍스트)를 최소 의미 단어를 뜻하는 형태소를 기준으로 토큰(token)으로 분리"
      ],
      "metadata": {
        "id": "z6HONxeF98VD"
      }
    },
    {
      "cell_type": "markdown",
      "source": [
        "## **1) KoNLPy 설치**"
      ],
      "metadata": {
        "id": "IJoi3DJR-IUL"
      }
    },
    {
      "cell_type": "code",
      "source": [
        "# 코랩에 konlpy 패키지를 설치합니다.\n",
        "! pip install konlpy"
      ],
      "metadata": {
        "colab": {
          "base_uri": "https://localhost:8080/"
        },
        "id": "TmvyOQJo-CHA",
        "outputId": "b242e364-f4de-4c57-c1d6-a4f802f6d4f5"
      },
      "execution_count": 17,
      "outputs": [
        {
          "output_type": "stream",
          "name": "stdout",
          "text": [
            "Looking in indexes: https://pypi.org/simple, https://us-python.pkg.dev/colab-wheels/public/simple/\n",
            "Collecting konlpy\n",
            "  Downloading konlpy-0.6.0-py2.py3-none-any.whl (19.4 MB)\n",
            "\u001b[2K     \u001b[90m━━━━━━━━━━━━━━━━━━━━━━━━━━━━━━━━━━━━━━━━\u001b[0m \u001b[32m19.4/19.4 MB\u001b[0m \u001b[31m5.4 MB/s\u001b[0m eta \u001b[36m0:00:00\u001b[0m\n",
            "\u001b[?25hRequirement already satisfied: lxml>=4.1.0 in /usr/local/lib/python3.8/dist-packages (from konlpy) (4.9.2)\n",
            "Requirement already satisfied: numpy>=1.6 in /usr/local/lib/python3.8/dist-packages (from konlpy) (1.21.6)\n",
            "Collecting JPype1>=0.7.0\n",
            "  Downloading JPype1-1.4.1-cp38-cp38-manylinux_2_12_x86_64.manylinux2010_x86_64.whl (465 kB)\n",
            "\u001b[2K     \u001b[90m━━━━━━━━━━━━━━━━━━━━━━━━━━━━━━━━━━━━━━━\u001b[0m \u001b[32m465.6/465.6 KB\u001b[0m \u001b[31m6.1 MB/s\u001b[0m eta \u001b[36m0:00:00\u001b[0m\n",
            "\u001b[?25hRequirement already satisfied: packaging in /usr/local/lib/python3.8/dist-packages (from JPype1>=0.7.0->konlpy) (21.3)\n",
            "Requirement already satisfied: pyparsing!=3.0.5,>=2.0.2 in /usr/local/lib/python3.8/dist-packages (from packaging->JPype1>=0.7.0->konlpy) (3.0.9)\n",
            "Installing collected packages: JPype1, konlpy\n",
            "Successfully installed JPype1-1.4.1 konlpy-0.6.0\n"
          ]
        }
      ]
    },
    {
      "cell_type": "markdown",
      "source": [
        "## **2) KoNLPy 한글 형태소 분석**\n",
        "\n",
        "형태소 분석기의 한 종류인 Okt tagger의 다양한 분석 함수를 적용하고, 각 함수의 기능과 차이를 이해합니다."
      ],
      "metadata": {
        "id": "Buss4JOI-PKB"
      }
    },
    {
      "cell_type": "code",
      "source": [
        "# 긍정 리뷰를 하나 선택\n",
        "sample_text = data['document'].iloc[149978]\n",
        "print(type(sample_text))\n",
        "print(sample_text)"
      ],
      "metadata": {
        "colab": {
          "base_uri": "https://localhost:8080/"
        },
        "id": "J1tzv7G5-QH7",
        "outputId": "aa51214a-3583-4f07-fc06-db69a3c2bac4"
      },
      "execution_count": 18,
      "outputs": [
        {
          "output_type": "stream",
          "name": "stdout",
          "text": [
            "<class 'str'>\n",
            "그리 만족스럽진못했어도 7점은 나와야되는것같아 10점줌. 주인공들연기도 훌륭했고 내용도 이정도면 괜찮았다. 해피엔딩으로끝났으면 그저 진부한영화가 되버릴뻔. 그래도 엔딩이 섭섭한건 없지않아있었음. 킬러들의도시도그렇고 콜린파렐을 너무 축축하게 끝내버리는듯\n"
          ]
        }
      ]
    },
    {
      "cell_type": "code",
      "source": [
        "# 트위터 형태소 분석기(Okt)를 활용\n",
        "from konlpy.utils import pprint\n",
        "from konlpy.tag import Okt\n",
        "okt = Okt()\n",
        "print(okt)"
      ],
      "metadata": {
        "colab": {
          "base_uri": "https://localhost:8080/"
        },
        "id": "jamLKJMi-Ufw",
        "outputId": "69e0b913-128b-47df-b22b-47fd7aa1b000"
      },
      "execution_count": 19,
      "outputs": [
        {
          "output_type": "stream",
          "name": "stdout",
          "text": [
            "<konlpy.tag._okt.Okt object at 0x7fdad13dd100>\n"
          ]
        }
      ]
    },
    {
      "cell_type": "code",
      "source": [
        "# (단어, 품사) 추출\n",
        "tokens = okt.pos(sample_text)\n",
        "pprint(tokens)"
      ],
      "metadata": {
        "colab": {
          "base_uri": "https://localhost:8080/"
        },
        "id": "ufGkArSJ-XL-",
        "outputId": "0880c966-7e7f-4773-a2cb-8a17e533bd74"
      },
      "execution_count": 20,
      "outputs": [
        {
          "output_type": "stream",
          "name": "stdout",
          "text": [
            "[('그리', 'Verb'),\n",
            " ('만족스럽진못', 'Adjective'),\n",
            " ('했어도', 'Verb'),\n",
            " ('7', 'Number'),\n",
            " ('점', 'Noun'),\n",
            " ('은', 'Josa'),\n",
            " ('나와야', 'Verb'),\n",
            " ('되는것', 'Verb'),\n",
            " ('같아', 'Adjective'),\n",
            " ('10', 'Number'),\n",
            " ('점줌', 'Noun'),\n",
            " ('.', 'Punctuation'),\n",
            " ('주인공', 'Noun'),\n",
            " ('들', 'Suffix'),\n",
            " ('연', 'Modifier'),\n",
            " ('기도', 'Noun'),\n",
            " ('훌륭했고', 'Adjective'),\n",
            " ('내용', 'Noun'),\n",
            " ('도', 'Josa'),\n",
            " ('이', 'Determiner'),\n",
            " ('정도', 'Noun'),\n",
            " ('면', 'Josa'),\n",
            " ('괜찮았다', 'Adjective'),\n",
            " ('.', 'Punctuation'),\n",
            " ('해피엔딩', 'Noun'),\n",
            " ('으로', 'Josa'),\n",
            " ('끝났으면', 'Verb'),\n",
            " ('그저', 'Adverb'),\n",
            " ('진부한', 'Adjective'),\n",
            " ('영화', 'Noun'),\n",
            " ('가', 'Josa'),\n",
            " ('되', 'Verb'),\n",
            " ('버릴', 'Verb'),\n",
            " ('뻔', 'Noun'),\n",
            " ('.', 'Punctuation'),\n",
            " ('그래도', 'Adverb'),\n",
            " ('엔딩', 'Noun'),\n",
            " ('이', 'Josa'),\n",
            " ('섭섭한건', 'Adjective'),\n",
            " ('없지', 'Adjective'),\n",
            " ('않아있었음', 'Verb'),\n",
            " ('.', 'Punctuation'),\n",
            " ('킬러', 'Noun'),\n",
            " ('들', 'Suffix'),\n",
            " ('의', 'Josa'),\n",
            " ('도시', 'Noun'),\n",
            " ('도', 'Josa'),\n",
            " ('그렇고', 'Adjective'),\n",
            " ('콜린파렐', 'Noun'),\n",
            " ('을', 'Josa'),\n",
            " ('너무', 'Adverb'),\n",
            " ('축축하게', 'Adjective'),\n",
            " ('끝내', 'Noun'),\n",
            " ('버리는듯', 'Verb')]\n"
          ]
        }
      ]
    },
    {
      "cell_type": "code",
      "source": [
        "# 단어 ONLY 추출\n",
        "tokens = okt.morphs(sample_text)\n",
        "pprint(tokens)"
      ],
      "metadata": {
        "colab": {
          "base_uri": "https://localhost:8080/"
        },
        "id": "er0ynULh-dFu",
        "outputId": "10dffd96-1334-4c4e-a3f2-8fac7ec3ec40"
      },
      "execution_count": 21,
      "outputs": [
        {
          "output_type": "stream",
          "name": "stdout",
          "text": [
            "['그리',\n",
            " '만족스럽진못',\n",
            " '했어도',\n",
            " '7',\n",
            " '점',\n",
            " '은',\n",
            " '나와야',\n",
            " '되는것',\n",
            " '같아',\n",
            " '10',\n",
            " '점줌',\n",
            " '.',\n",
            " '주인공',\n",
            " '들',\n",
            " '연',\n",
            " '기도',\n",
            " '훌륭했고',\n",
            " '내용',\n",
            " '도',\n",
            " '이',\n",
            " '정도',\n",
            " '면',\n",
            " '괜찮았다',\n",
            " '.',\n",
            " '해피엔딩',\n",
            " '으로',\n",
            " '끝났으면',\n",
            " '그저',\n",
            " '진부한',\n",
            " '영화',\n",
            " '가',\n",
            " '되',\n",
            " '버릴',\n",
            " '뻔',\n",
            " '.',\n",
            " '그래도',\n",
            " '엔딩',\n",
            " '이',\n",
            " '섭섭한건',\n",
            " '없지',\n",
            " '않아있었음',\n",
            " '.',\n",
            " '킬러',\n",
            " '들',\n",
            " '의',\n",
            " '도시',\n",
            " '도',\n",
            " '그렇고',\n",
            " '콜린파렐',\n",
            " '을',\n",
            " '너무',\n",
            " '축축하게',\n",
            " '끝내',\n",
            " '버리는듯']\n"
          ]
        }
      ]
    },
    {
      "cell_type": "code",
      "source": [
        "# 명사 ONLY 추출\n",
        "tokens = okt.nouns(sample_text)\n",
        "pprint(tokens)"
      ],
      "metadata": {
        "colab": {
          "base_uri": "https://localhost:8080/"
        },
        "id": "Vp4EgeLt-gLa",
        "outputId": "373d27a5-984e-4057-872c-7c9b3ce72129"
      },
      "execution_count": 22,
      "outputs": [
        {
          "output_type": "stream",
          "name": "stdout",
          "text": [
            "['점',\n",
            " '점줌',\n",
            " '주인공',\n",
            " '기도',\n",
            " '내용',\n",
            " '정도',\n",
            " '해피엔딩',\n",
            " '영화',\n",
            " '뻔',\n",
            " '엔딩',\n",
            " '킬러',\n",
            " '도시',\n",
            " '콜린파렐',\n",
            " '끝내']\n"
          ]
        }
      ]
    },
    {
      "cell_type": "markdown",
      "source": [
        "## **3) 텍스트 전처리**\n",
        "\n",
        "Okt 분석 도구 중에서 명사를 추출하는 함수를 사용하여, 각 리뷰 문장에서 명사를 추출하여 토큰화합니다. 이 때, 두 글자 이하의 단어를 분석대상에서 제외하기로 합니다."
      ],
      "metadata": {
        "id": "dOniROQs-isw"
      }
    },
    {
      "cell_type": "code",
      "source": [
        "# 누락 데이터를 제거\n",
        "review_data = data['document'].dropna().values\n",
        "\n",
        "# 학습 속도를 고려하여, 5000개의 샘플을 선택하여 추출\n",
        "review_data = review_data[:5000]\n",
        "\n",
        "# 배열의 크기\n",
        "print(review_data.shape)\n",
        "\n",
        "# 첫번째 데이터\n",
        "print(review_data[0])\n",
        "\n",
        "# 마지막 데이터\n",
        "print(review_data[4999])"
      ],
      "metadata": {
        "colab": {
          "base_uri": "https://localhost:8080/"
        },
        "id": "5uzXuCaR-sCe",
        "outputId": "e128b276-c7f7-4ea9-9834-6d0bf2c5c232"
      },
      "execution_count": 23,
      "outputs": [
        {
          "output_type": "stream",
          "name": "stdout",
          "text": [
            "(5000,)\n",
            "아 더빙.. 진짜 짜증나네요 목소리\n",
            "저두 별주기가 아까움..무슨 내용인지..쩝,ㅠ.ㅠ\n"
          ]
        }
      ]
    },
    {
      "cell_type": "code",
      "source": [
        "# 세 글자 이상의 명사를 사용 (두 글자 이하의 단어는 제거)\n",
        "cleaned_review_data = []\n",
        "\n",
        "for review in tqdm(review_data):\n",
        "    tokens = okt.nouns(review)\n",
        "    cleaned_tokens = []\n",
        "    for word in tokens:\n",
        "        if len(word) > 2:\n",
        "            cleaned_tokens.append(word)\n",
        "        else:\n",
        "            pass\n",
        "    cleaned_review = \" \".join(cleaned_tokens)\n",
        "    cleaned_review_data.append(cleaned_review)\n",
        "\n",
        "print(len(cleaned_review_data))\n",
        "print(cleaned_review_data[0])"
      ],
      "metadata": {
        "colab": {
          "base_uri": "https://localhost:8080/"
        },
        "id": "U0NT35J8_dg3",
        "outputId": "af9c460e-fe16-4c8f-bf14-01165c8b1480"
      },
      "execution_count": 24,
      "outputs": [
        {
          "output_type": "stream",
          "name": "stderr",
          "text": [
            "100%|██████████| 5000/5000 [00:29<00:00, 167.00it/s]"
          ]
        },
        {
          "output_type": "stream",
          "name": "stdout",
          "text": [
            "5000\n",
            "목소리\n"
          ]
        },
        {
          "output_type": "stream",
          "name": "stderr",
          "text": [
            "\n"
          ]
        }
      ]
    },
    {
      "cell_type": "markdown",
      "source": [
        "## 4**) TF-IDF 벡터로 표현**\n",
        "\n",
        "LDA, 로지스틱 회귀 등 머신러닝의 입력값은 수치형태로 표현된 매트릭스입니다. 머신러닝 모델을 활용하기 위해 이 프로젝트에서는 TF-IDF의 형태로 텍스트 문서를 수치화 합니다.\n"
      ],
      "metadata": {
        "id": "fo-k9uhz_pm9"
      }
    },
    {
      "cell_type": "code",
      "source": [
        "# 사이킷런 패키지 활용 \n",
        "from sklearn.feature_extraction.text import TfidfVectorizer\n",
        "\n",
        "# TF-IDF 변환기 객체를 생성\n",
        "tfid = TfidfVectorizer()\n",
        "\n",
        "# TF-IDF 변환기에 데이터를 입력하여 변환\n",
        "review_tfid = tfid.fit_transform(cleaned_review_data)\n",
        "\n",
        "# 배열의 크기\n",
        "print(review_tfid.shape)\n",
        "\n",
        "# 첫 번째 데이터\n",
        "print(review_tfid[0])"
      ],
      "metadata": {
        "colab": {
          "base_uri": "https://localhost:8080/"
        },
        "id": "OteltgOS_q4C",
        "outputId": "d57350b4-8a94-485c-e695-33ac555ca0b5"
      },
      "execution_count": 25,
      "outputs": [
        {
          "output_type": "stream",
          "name": "stdout",
          "text": [
            "(5000, 2138)\n",
            "  (0, 574)\t1.0\n"
          ]
        }
      ]
    },
    {
      "cell_type": "code",
      "source": [
        "# 단어 사전 확인 (딕셔너리 형태)\n",
        "vocab = tfid.vocabulary_\n",
        "\n",
        "# 단어 사전의 크기\n",
        "print(len(vocab))\n",
        "\n",
        "# 단어 사전 출력 (앞에서 5개의 단어만 출력)\n",
        "print({ k:v for i, (k, v) in enumerate(vocab.items()) if i < 5 })"
      ],
      "metadata": {
        "colab": {
          "base_uri": "https://localhost:8080/"
        },
        "id": "6oAF0r8i_u5v",
        "outputId": "088971cd-ef26-460b-e717-9d39f9344926"
      },
      "execution_count": 26,
      "outputs": [
        {
          "output_type": "stream",
          "name": "stdout",
          "text": [
            "2138\n",
            "{'목소리': 574, '포스터': 1958, '교도소': 120, '이야기': 1422, '스파이더맨': 978}\n"
          ]
        }
      ]
    },
    {
      "cell_type": "code",
      "source": [
        "# 단어들의 사전 인덱스를 이용하여 원래 단어를 검색하는 매핑 딕셔너리\n",
        "index_to_word = { v:k for k, v in vocab.items() } \n",
        "\n",
        "# 앞에서 5개의 단어를 출력\n",
        "print({  k:v for i, (k, v) in enumerate(index_to_word.items()) if i < 5 })"
      ],
      "metadata": {
        "colab": {
          "base_uri": "https://localhost:8080/"
        },
        "id": "2cNGu8yJ_yp-",
        "outputId": "88e2fd6a-99e9-4557-a7cd-c64c7e70a8ab"
      },
      "execution_count": 27,
      "outputs": [
        {
          "output_type": "stream",
          "name": "stdout",
          "text": [
            "{574: '목소리', 1958: '포스터', 120: '교도소', 1422: '이야기', 978: '스파이더맨'}\n"
          ]
        }
      ]
    },
    {
      "cell_type": "code",
      "source": [
        "# 첫 번째 리뷰를 구성하는 단어들의 사전 인덱스를 이용하여 원래 단어를 복원 (순서 복원 X)\n",
        "original_text = \" \".join([index_to_word[word_idx] for word_idx in review_tfid[0].indices])\n",
        "original_text"
      ],
      "metadata": {
        "colab": {
          "base_uri": "https://localhost:8080/",
          "height": 35
        },
        "id": "4rgt1i14_3FN",
        "outputId": "8396a9b6-b4bf-4d69-fd62-52077c78df0e"
      },
      "execution_count": 28,
      "outputs": [
        {
          "output_type": "execute_result",
          "data": {
            "text/plain": [
              "'목소리'"
            ],
            "application/vnd.google.colaboratory.intrinsic+json": {
              "type": "string"
            }
          },
          "metadata": {},
          "execution_count": 28
        }
      ]
    },
    {
      "cell_type": "markdown",
      "source": [
        "# **Topic Modeling**\n",
        "\n",
        "문서는 여러 종류의 단어들의 집합체로 구성됩니다. 문서를 구성하는 단어들의 확률분포를 활용하여 문서의 토픽(주제)를 파악할 수 있습니다\n"
      ],
      "metadata": {
        "id": "AxApKGg-_5bQ"
      }
    },
    {
      "cell_type": "markdown",
      "source": [
        "## **1) LDA (LatentDirichletAllocation)**\n",
        "\n",
        "LDA 토픽 모델링을 이용하여, 문서로부터 두 종류의 토픽을 추출합니다. 문서의 감성(긍정, 부정) 형태로 토픽이 추출되는지, 아니면 다른 종류의 토픽이 추출되는지 분석하세요.\n"
      ],
      "metadata": {
        "id": "uXBT7W1X_7AI"
      }
    },
    {
      "cell_type": "code",
      "source": [
        "# 사이킷런 패키지 활용\n",
        "from sklearn.decomposition import LatentDirichletAllocation\n",
        "\n",
        "# LDA 모델링 객체를 생성 (토픽 갯수를 2로 설정: 긍정/부정)\n",
        "lda = LatentDirichletAllocation(n_components=2)  \n",
        "\n",
        "# TF-IDF 벡터를 입력하여 모델 학습 \n",
        "lda.fit(review_tfid)"
      ],
      "metadata": {
        "colab": {
          "base_uri": "https://localhost:8080/"
        },
        "id": "uolaIaBU_882",
        "outputId": "51601f31-51d1-4274-baf2-8b51dff003a1"
      },
      "execution_count": 29,
      "outputs": [
        {
          "output_type": "execute_result",
          "data": {
            "text/plain": [
              "LatentDirichletAllocation(n_components=2)"
            ]
          },
          "metadata": {},
          "execution_count": 29
        }
      ]
    },
    {
      "cell_type": "code",
      "source": [
        "# 토픽 모델링 결과를 담고 있는 배열의 형태 : (2개의 토픽, 2157개의 단어)\n",
        "print(lda.components_.shape)"
      ],
      "metadata": {
        "colab": {
          "base_uri": "https://localhost:8080/"
        },
        "id": "PIkz02GX__RO",
        "outputId": "592756ca-b84b-49a9-fbaa-ffd44a5f0be3"
      },
      "execution_count": 30,
      "outputs": [
        {
          "output_type": "stream",
          "name": "stdout",
          "text": [
            "(2, 2138)\n"
          ]
        }
      ]
    },
    {
      "cell_type": "code",
      "source": [
        "# 2157개의 단어 중에서, 토픽 별로 가장 중요도가 높은 단어를 10개씩 출력\n",
        "\n",
        "for idx, topic in enumerate(lda.components_):\n",
        "    print(f\"토픽 유형 {idx+1}:\", [(index_to_word[i], topic[i].round(3)) for i in topic.argsort()[:-11:-1]])"
      ],
      "metadata": {
        "colab": {
          "base_uri": "https://localhost:8080/"
        },
        "id": "BHJpKVtjACFr",
        "outputId": "09aab193-0b55-4b57-e7a8-1bd7e1bf326e"
      },
      "execution_count": 31,
      "outputs": [
        {
          "output_type": "stream",
          "name": "stdout",
          "text": [
            "토픽 유형 1: [('드라마', 98.809), ('쓰레기', 68.094), ('주인공', 60.34), ('마지막', 54.333), ('이야기', 47.965), ('연기력', 20.031), ('최고다', 19.919), ('긴장감', 17.273), ('로맨스', 16.888), ('공포영화', 16.843)]\n",
            "토픽 유형 2: [('스토리', 103.265), ('이영화', 38.382), ('코미디', 24.195), ('시리즈', 21.756), ('캐릭터', 20.757), ('캐스팅', 19.399), ('스릴러', 19.03), ('우리나라', 18.271), ('한국영', 18.069), ('포스터', 17.51)]\n"
          ]
        }
      ]
    },
    {
      "cell_type": "markdown",
      "source": [
        "## **2) pyLDAvis 시각화**\n",
        "\n",
        "pyLDAvis 패키지를 활용하여, LDA 토픽 모델링 경과를 시각화 합니다."
      ],
      "metadata": {
        "id": "fhE7-w9zAEoX"
      }
    },
    {
      "cell_type": "code",
      "source": [
        "# pyLDAvis 설치\n",
        "!pip install pyLDAvis"
      ],
      "metadata": {
        "colab": {
          "base_uri": "https://localhost:8080/"
        },
        "id": "mGATCeBlAF3u",
        "outputId": "777b511d-fbe4-44d2-a7c1-195bc5d962e5"
      },
      "execution_count": 32,
      "outputs": [
        {
          "output_type": "stream",
          "name": "stdout",
          "text": [
            "Looking in indexes: https://pypi.org/simple, https://us-python.pkg.dev/colab-wheels/public/simple/\n",
            "Collecting pyLDAvis\n",
            "  Downloading pyLDAvis-3.3.1.tar.gz (1.7 MB)\n",
            "\u001b[2K     \u001b[90m━━━━━━━━━━━━━━━━━━━━━━━━━━━━━━━━━━━━━━━━\u001b[0m \u001b[32m1.7/1.7 MB\u001b[0m \u001b[31m22.6 MB/s\u001b[0m eta \u001b[36m0:00:00\u001b[0m\n",
            "\u001b[?25h  Installing build dependencies ... \u001b[?25l\u001b[?25hdone\n",
            "  Getting requirements to build wheel ... \u001b[?25l\u001b[?25hdone\n",
            "  Installing backend dependencies ... \u001b[?25l\u001b[?25hdone\n",
            "  Preparing metadata (pyproject.toml) ... \u001b[?25l\u001b[?25hdone\n",
            "Requirement already satisfied: gensim in /usr/local/lib/python3.8/dist-packages (from pyLDAvis) (3.6.0)\n",
            "Collecting sklearn\n",
            "  Downloading sklearn-0.0.post1.tar.gz (3.6 kB)\n",
            "  Preparing metadata (setup.py) ... \u001b[?25l\u001b[?25hdone\n",
            "Requirement already satisfied: joblib in /usr/local/lib/python3.8/dist-packages (from pyLDAvis) (1.2.0)\n",
            "Requirement already satisfied: scipy in /usr/local/lib/python3.8/dist-packages (from pyLDAvis) (1.7.3)\n",
            "Requirement already satisfied: numexpr in /usr/local/lib/python3.8/dist-packages (from pyLDAvis) (2.8.4)\n",
            "Requirement already satisfied: setuptools in /usr/local/lib/python3.8/dist-packages (from pyLDAvis) (57.4.0)\n",
            "Requirement already satisfied: jinja2 in /usr/local/lib/python3.8/dist-packages (from pyLDAvis) (2.11.3)\n",
            "Requirement already satisfied: scikit-learn in /usr/local/lib/python3.8/dist-packages (from pyLDAvis) (1.0.2)\n",
            "Requirement already satisfied: pandas>=1.2.0 in /usr/local/lib/python3.8/dist-packages (from pyLDAvis) (1.3.5)\n",
            "Requirement already satisfied: numpy>=1.20.0 in /usr/local/lib/python3.8/dist-packages (from pyLDAvis) (1.21.6)\n",
            "Requirement already satisfied: future in /usr/local/lib/python3.8/dist-packages (from pyLDAvis) (0.16.0)\n",
            "Collecting funcy\n",
            "  Downloading funcy-1.18-py2.py3-none-any.whl (33 kB)\n",
            "Requirement already satisfied: pytz>=2017.3 in /usr/local/lib/python3.8/dist-packages (from pandas>=1.2.0->pyLDAvis) (2022.7)\n",
            "Requirement already satisfied: python-dateutil>=2.7.3 in /usr/local/lib/python3.8/dist-packages (from pandas>=1.2.0->pyLDAvis) (2.8.2)\n",
            "Requirement already satisfied: smart-open>=1.2.1 in /usr/local/lib/python3.8/dist-packages (from gensim->pyLDAvis) (6.3.0)\n",
            "Requirement already satisfied: six>=1.5.0 in /usr/local/lib/python3.8/dist-packages (from gensim->pyLDAvis) (1.15.0)\n",
            "Requirement already satisfied: MarkupSafe>=0.23 in /usr/local/lib/python3.8/dist-packages (from jinja2->pyLDAvis) (2.0.1)\n",
            "Requirement already satisfied: threadpoolctl>=2.0.0 in /usr/local/lib/python3.8/dist-packages (from scikit-learn->pyLDAvis) (3.1.0)\n",
            "Building wheels for collected packages: pyLDAvis, sklearn\n",
            "  Building wheel for pyLDAvis (pyproject.toml) ... \u001b[?25l\u001b[?25hdone\n",
            "  Created wheel for pyLDAvis: filename=pyLDAvis-3.3.1-py2.py3-none-any.whl size=136898 sha256=837230f67db8a1314c48cbdcf32071650c4c1b8c6f1e83e3739c00ae65ae96b2\n",
            "  Stored in directory: /root/.cache/pip/wheels/90/61/ec/9dbe9efc3acf9c4e37ba70fbbcc3f3a0ebd121060aa593181a\n",
            "  Building wheel for sklearn (setup.py) ... \u001b[?25l\u001b[?25hdone\n",
            "  Created wheel for sklearn: filename=sklearn-0.0.post1-py3-none-any.whl size=2344 sha256=4ab7cf2aac74adf366c211189e457d3988de07a057c07ab7a4d426686e3c5aee\n",
            "  Stored in directory: /root/.cache/pip/wheels/14/25/f7/1cc0956978ae479e75140219088deb7a36f60459df242b1a72\n",
            "Successfully built pyLDAvis sklearn\n",
            "Installing collected packages: sklearn, funcy, pyLDAvis\n",
            "Successfully installed funcy-1.18 pyLDAvis-3.3.1 sklearn-0.0.post1\n"
          ]
        }
      ]
    },
    {
      "cell_type": "code",
      "source": [
        "# LDA 토픽 모델링 결과를 시각화\n",
        "import pyLDAvis.sklearn\n",
        "pyLDAvis.enable_notebook()\n",
        "visualization = pyLDAvis.sklearn.prepare(lda, review_tfid, tfid)\n",
        "pyLDAvis.display(visualization)"
      ],
      "metadata": {
        "colab": {
          "base_uri": "https://localhost:8080/",
          "height": 951
        },
        "id": "YSjW4h8JAQVe",
        "outputId": "d0f593d9-8e89-4d13-99c5-4ce72b9c9b28"
      },
      "execution_count": 33,
      "outputs": [
        {
          "output_type": "stream",
          "name": "stderr",
          "text": [
            "/usr/local/lib/python3.8/dist-packages/past/types/oldstr.py:5: DeprecationWarning: Using or importing the ABCs from 'collections' instead of from 'collections.abc' is deprecated since Python 3.3, and in 3.10 it will stop working\n",
            "  from collections import Iterable\n",
            "/usr/local/lib/python3.8/dist-packages/past/builtins/misc.py:4: DeprecationWarning: Using or importing the ABCs from 'collections' instead of from 'collections.abc' is deprecated since Python 3.3, and in 3.10 it will stop working\n",
            "  from collections import Mapping\n"
          ]
        },
        {
          "output_type": "execute_result",
          "data": {
            "text/plain": [
              "<IPython.core.display.HTML object>"
            ],
            "text/html": [
              "\n",
              "<link rel=\"stylesheet\" type=\"text/css\" href=\"https://cdn.jsdelivr.net/gh/bmabey/pyLDAvis@3.3.1/pyLDAvis/js/ldavis.v1.0.0.css\">\n",
              "\n",
              "\n",
              "<div id=\"ldavis_el1791405750288176961666599087\"></div>\n",
              "<script type=\"text/javascript\">\n",
              "\n",
              "var ldavis_el1791405750288176961666599087_data = {\"mdsDat\": {\"x\": [0.11365748662883063, -0.11365748662883063], \"y\": [0.0, 0.0], \"topics\": [1, 2], \"cluster\": [1, 1], \"Freq\": [51.70224745312609, 48.2977525468739]}, \"tinfo\": {\"Term\": [\"\\uc2a4\\ud1a0\\ub9ac\", \"\\ub4dc\\ub77c\\ub9c8\", \"\\uc4f0\\ub808\\uae30\", \"\\uc8fc\\uc778\\uacf5\", \"\\ub9c8\\uc9c0\\ub9c9\", \"\\uc774\\uc57c\\uae30\", \"\\uc774\\uc601\\ud654\", \"\\ucf54\\ubbf8\\ub514\", \"\\uc2dc\\ub9ac\\uc988\", \"\\uce90\\ub9ad\\ud130\", \"\\uce90\\uc2a4\\ud305\", \"\\uc2a4\\ub9b4\\ub7ec\", \"\\uc6b0\\ub9ac\\ub098\\ub77c\", \"\\ud55c\\uad6d\\uc601\", \"\\ud3ec\\uc2a4\\ud130\", \"\\ucd5c\\uace0\\ub2e4\", \"\\uc601\\ud654\\uad00\", \"\\uae34\\uc7a5\\uac10\", \"\\uacf5\\ud3ec\\uc601\\ud654\", \"\\ub3c4\\ub300\\uccb4\", \"\\ub85c\\ub9e8\\uc2a4\", \"\\ud55c\\ub9c8\\ub514\", \"\\uc601\\ud654\\uc778\", \"\\uc81c\\ub300\\ub85c\", \"\\uac08\\uc218\\ub85d\", \"\\ud0ac\\ub9c1\\ud0c0\\uc784\", \"\\uc5f0\\uae30\\ub825\", \"\\uc2dc\\uccad\\ub960\", \"\\ud765\\ubbf8\\uc9c4\\uc9c4\", \"\\ucc28\\ub77c\\ub9ac\", \"\\ub4dc\\ub77c\\ub9c8\", \"\\uc4f0\\ub808\\uae30\", \"\\uc8fc\\uc778\\uacf5\", \"\\ub9c8\\uc9c0\\ub9c9\", \"\\uc774\\uc57c\\uae30\", \"\\ucd5c\\uace0\\ub2e4\", \"\\uae34\\uc7a5\\uac10\", \"\\uacf5\\ud3ec\\uc601\\ud654\", \"\\uc81c\\ub300\\ub85c\", \"\\ub85c\\ub9e8\\uc2a4\", \"\\ud55c\\ub9c8\\ub514\", \"\\uac08\\uc218\\ub85d\", \"\\ubb34\\uc870\\uac74\", \"\\ucc28\\ub77c\\ub9ac\", \"\\uc5ec\\ubc30\\uc6b0\", \"\\ud504\\ub791\\uc2a4\", \"\\uadf8\\ub300\\ub85c\", \"\\uadf8\\ub798\\ud53d\", \"\\ub124\\uc774\\ubc84\", \"\\ube44\\ub514\\uc624\", \"\\ubd84\\uc704\\uae30\", \"\\uc544\\uc26c\\uc6c0\", \"\\uc561\\uc158\\uc601\\ud654\", \"\\uc5b4\\ub9b0\\uc774\", \"\\uc904\\uac70\\ub9ac\", \"\\ud3c9\\ub860\\uac00\", \"\\uac11\\uc790\\uae30\", \"\\ub290\\uc640\\ub974\", \"\\ubaa9\\uc18c\\ub9ac\", \"\\uc544\\uc90c\\ub9c8\", \"\\uc5f0\\uae30\\ub825\", \"\\ubab0\\uc785\\ub3c4\", \"\\uc2a4\\ud1a0\\ub9ac\", \"\\uc774\\uc601\\ud654\", \"\\ucf54\\ubbf8\\ub514\", \"\\uc2dc\\ub9ac\\uc988\", \"\\uce90\\uc2a4\\ud305\", \"\\uc6b0\\ub9ac\\ub098\\ub77c\", \"\\ud55c\\uad6d\\uc601\", \"\\uce90\\ub9ad\\ud130\", \"\\uc2a4\\ub9b4\\ub7ec\", \"\\ud3ec\\uc2a4\\ud130\", \"\\uc601\\ud654\\uad00\", \"\\ub3c4\\ub300\\uccb4\", \"\\uc601\\ud654\\uc778\", \"\\ud0ac\\ub9c1\\ud0c0\\uc784\", \"\\uc2dc\\uccad\\ub960\", \"\\uadf9\\uc7a5\\ud310\", \"\\ud765\\ubbf8\\uc9c4\\uc9c4\", \"\\uc9c0\\ub8e8\\ud568\", \"\\uc5bc\\ub9c8\\ub098\", \"\\uc560\\ub2c8\\uba54\\uc774\\uc158\", \"\\ubc1c\\uc5f0\\uae30\", \"\\uc544\\uc800\\uc528\", \"\\ud654\\uc774\\ud305\", \"\\ucf00\\uc774\\ube14\", \"\\uc601\\ud654\\ub85c\", \"\\ud310\\ud0c0\\uc9c0\", \"\\uc544\\ubc84\\uc9c0\", \"\\ub3c4\\uc800\\ud788\", \"\\ud6c4\\uc18d\\uc791\", \"\\ud004\\ub9ac\\ud2f0\", \"\\uc2a4\\ud0c0\\uc77c\", \"\\uc2dc\\ub098\\ub9ac\\uc624\"], \"Freq\": [63.0, 60.0, 41.0, 37.0, 33.0, 29.0, 23.0, 15.0, 13.0, 13.0, 12.0, 11.0, 11.0, 11.0, 11.0, 12.0, 9.0, 10.0, 10.0, 9.0, 10.0, 10.0, 8.0, 9.0, 9.0, 8.0, 13.0, 8.0, 7.0, 8.0, 60.1063201441852, 41.422183373034606, 36.70528261851178, 33.05114032703931, 29.17748332336697, 12.116964105193889, 10.507037606666511, 10.2460206132857, 9.582268669579074, 10.27318629775506, 10.192254772024588, 9.332585481959477, 7.492743378484274, 7.729902279244758, 6.817135175670614, 6.371994405032641, 7.809445896674774, 6.332127228848534, 6.488295643628743, 5.670228472737016, 6.831222899484609, 5.115678036686845, 5.052853185681735, 5.181467188446437, 4.261589443904498, 4.080544191566902, 3.937942299580367, 4.822582612779068, 3.4395345198649085, 3.3400217305761664, 12.184805948388142, 7.90928746482595, 63.15288854678881, 23.472789950453393, 14.796506896487612, 13.305075353076424, 11.863718658497742, 11.174029328441145, 11.050270244385095, 12.694422788354302, 11.637915219800352, 10.708596891544792, 9.668202648120642, 9.048348950620626, 8.650567515817542, 7.856514882410432, 7.642847819321502, 6.648841305022367, 7.019097610943389, 6.609173926332338, 6.140931853943687, 5.84980434432082, 5.915380066496346, 5.92544464652586, 5.718442450248019, 5.4138813335505125, 5.45743214024339, 4.053948952176476, 4.265713370266468, 3.6273262893659552, 3.404963251036047, 4.256479330154302, 3.6178788117893146, 7.717378749423715], \"Total\": [63.0, 60.0, 41.0, 37.0, 33.0, 29.0, 23.0, 15.0, 13.0, 13.0, 12.0, 11.0, 11.0, 11.0, 11.0, 12.0, 9.0, 10.0, 10.0, 9.0, 10.0, 10.0, 8.0, 9.0, 9.0, 8.0, 13.0, 8.0, 7.0, 8.0, 60.47480191905299, 41.75471704524886, 37.065144968525445, 33.416769478134576, 29.546209437506793, 12.45713471769865, 10.837877491280564, 10.583703265423905, 9.905852997625113, 10.629343441773365, 10.56231429026026, 9.67877007455112, 7.817826990387755, 8.086411120855283, 7.160249340005091, 6.694848228477208, 8.205679372335782, 6.656217027513444, 6.860085957499662, 5.996423258373569, 7.236551447269937, 5.442370359678602, 5.380230030150929, 5.5292625587478295, 4.586857582424376, 4.400281113814182, 4.25854098138601, 5.218007004500769, 3.7621856405264813, 3.6573326318182824, 13.501400257199503, 8.89351786111053, 63.516252135731676, 23.80196035405609, 15.141009316442725, 13.648167898492844, 12.19605429194345, 11.501481262735801, 11.374868933347305, 13.06982411335339, 11.98587544877593, 11.030531040645387, 9.985621402122614, 9.387029447568015, 8.97853942495818, 8.181727088466694, 8.000679462050165, 6.979618372065423, 7.36835144790069, 6.945375260403539, 6.465439563256087, 6.174730475779459, 6.244979844786106, 6.267447630381033, 6.050398450432736, 5.743316400907991, 5.791175966634187, 4.384664015293482, 4.625217988750698, 3.943788536074039, 3.720381739486067, 4.651141220827255, 3.9545809005888417, 9.016515613890567], \"Category\": [\"Default\", \"Default\", \"Default\", \"Default\", \"Default\", \"Default\", \"Default\", \"Default\", \"Default\", \"Default\", \"Default\", \"Default\", \"Default\", \"Default\", \"Default\", \"Default\", \"Default\", \"Default\", \"Default\", \"Default\", \"Default\", \"Default\", \"Default\", \"Default\", \"Default\", \"Default\", \"Default\", \"Default\", \"Default\", \"Default\", \"Topic1\", \"Topic1\", \"Topic1\", \"Topic1\", \"Topic1\", \"Topic1\", \"Topic1\", \"Topic1\", \"Topic1\", \"Topic1\", \"Topic1\", \"Topic1\", \"Topic1\", \"Topic1\", \"Topic1\", \"Topic1\", \"Topic1\", \"Topic1\", \"Topic1\", \"Topic1\", \"Topic1\", \"Topic1\", \"Topic1\", \"Topic1\", \"Topic1\", \"Topic1\", \"Topic1\", \"Topic1\", \"Topic1\", \"Topic1\", \"Topic1\", \"Topic1\", \"Topic2\", \"Topic2\", \"Topic2\", \"Topic2\", \"Topic2\", \"Topic2\", \"Topic2\", \"Topic2\", \"Topic2\", \"Topic2\", \"Topic2\", \"Topic2\", \"Topic2\", \"Topic2\", \"Topic2\", \"Topic2\", \"Topic2\", \"Topic2\", \"Topic2\", \"Topic2\", \"Topic2\", \"Topic2\", \"Topic2\", \"Topic2\", \"Topic2\", \"Topic2\", \"Topic2\", \"Topic2\", \"Topic2\", \"Topic2\", \"Topic2\", \"Topic2\"], \"logprob\": [30.0, 29.0, 28.0, 27.0, 26.0, 25.0, 24.0, 23.0, 22.0, 21.0, 20.0, 19.0, 18.0, 17.0, 16.0, 15.0, 14.0, 13.0, 12.0, 11.0, 10.0, 9.0, 8.0, 7.0, 6.0, 5.0, 4.0, 3.0, 2.0, 1.0, -3.3586, -3.7309, -3.8518, -3.9567, -4.0813, -4.9601, -5.1027, -5.1279, -5.1948, -5.1252, -5.1331, -5.2212, -5.4408, -5.4096, -5.5353, -5.6028, -5.3994, -5.6091, -5.5847, -5.7195, -5.5332, -5.8224, -5.8348, -5.8097, -6.0051, -6.0485, -6.0841, -5.8814, -6.2194, -6.2488, -4.9546, -5.3867, -3.2411, -4.2308, -4.6922, -4.7985, -4.9131, -4.973, -4.9842, -4.8455, -4.9324, -5.0156, -5.1178, -5.184, -5.229, -5.3253, -5.3529, -5.4922, -5.438, -5.4982, -5.5717, -5.6202, -5.6091, -5.6074, -5.6429, -5.6977, -5.6896, -5.9869, -5.936, -6.0981, -6.1614, -5.9382, -6.1007, -5.3432], \"loglift\": [30.0, 29.0, 28.0, 27.0, 26.0, 25.0, 24.0, 23.0, 22.0, 21.0, 20.0, 19.0, 18.0, 17.0, 16.0, 15.0, 14.0, 13.0, 12.0, 11.0, 10.0, 9.0, 8.0, 7.0, 6.0, 5.0, 4.0, 3.0, 2.0, 1.0, 0.6536, 0.6517, 0.6499, 0.6487, 0.6471, 0.632, 0.6287, 0.6272, 0.6265, 0.6256, 0.624, 0.6232, 0.6172, 0.6146, 0.6106, 0.6102, 0.6102, 0.6098, 0.6039, 0.6037, 0.602, 0.5978, 0.5969, 0.5947, 0.5861, 0.5842, 0.5814, 0.5809, 0.57, 0.5689, 0.5571, 0.5424, 0.722, 0.7139, 0.7048, 0.7023, 0.7002, 0.6989, 0.6988, 0.6986, 0.6983, 0.6982, 0.6955, 0.691, 0.6906, 0.6872, 0.682, 0.6792, 0.6792, 0.6782, 0.6763, 0.6737, 0.6736, 0.6717, 0.6714, 0.6687, 0.6684, 0.6494, 0.6469, 0.6441, 0.6392, 0.6391, 0.6388, 0.5722]}, \"token.table\": {\"Topic\": [1, 1, 1, 1, 1, 2, 1, 1, 1, 2, 2, 1, 1, 1, 1, 1, 2, 1, 2, 1, 1, 2, 2, 2, 1, 2, 2, 2, 1, 2, 1, 2, 1, 2, 1, 1, 2, 1, 1, 2, 2, 2, 2, 2, 1, 2, 1, 1, 1, 2, 1, 1, 2, 2, 2, 2, 2, 2, 2, 1, 2, 1, 2, 1, 2, 2, 2], \"Freq\": [0.9298702139504436, 0.9392888356561351, 0.9448488633150917, 0.9749345102333392, 0.9014129159549675, 1.002920163660545, 1.0149588799882514, 0.8746246092500649, 0.9582202545315237, 0.9587697631364855, 1.0142531637819299, 0.9921487643781202, 0.940791880023366, 0.9875281337890164, 0.7974088167483886, 0.8995315605068165, 0.11244144506335206, 0.8953894744161904, 0.960771715702071, 0.9673115780363617, 1.0005964791797237, 1.0011784330051179, 1.0114851865603243, 0.99187212534788, 0.11090758812189386, 0.8872607049751509, 0.9525087980076491, 0.9999150744566898, 0.9819249871953153, 0.8648241033673801, 0.9187173362996328, 0.9573275045674735, 0.8202699349521615, 0.9717023315487464, 0.9293282948832835, 0.9042797202837682, 0.9280111493267621, 0.9776195866378897, 0.8887967004460227, 0.07406639170383522, 1.0014399302054782, 0.8633825027606585, 1.0023902078084286, 0.9563985497797945, 0.9815133836825303, 0.9663069620263682, 1.009504179235999, 0.9982424197023709, 0.8720567247012293, 1.0078649083092577, 0.9893140331892817, 0.9633033817119141, 0.994657608798113, 0.983924777042608, 0.8705771458472188, 0.9906869275689836, 0.8600039882875363, 0.9777886641167897, 0.9122705835722432, 0.9090328314348952, 0.9972321332007601, 0.8962115040156398, 0.9670441096469855, 0.9467622080911963, 0.991670226209791, 0.8063688648290214, 0.9500089741232909], \"Term\": [\"\\uac08\\uc218\\ub85d\", \"\\uac11\\uc790\\uae30\", \"\\uacf5\\ud3ec\\uc601\\ud654\", \"\\uadf8\\ub300\\ub85c\", \"\\uadf8\\ub798\\ud53d\", \"\\uadf9\\uc7a5\\ud310\", \"\\uae34\\uc7a5\\uac10\", \"\\ub124\\uc774\\ubc84\", \"\\ub290\\uc640\\ub974\", \"\\ub3c4\\ub300\\uccb4\", \"\\ub3c4\\uc800\\ud788\", \"\\ub4dc\\ub77c\\ub9c8\", \"\\ub85c\\ub9e8\\uc2a4\", \"\\ub9c8\\uc9c0\\ub9c9\", \"\\ubaa9\\uc18c\\ub9ac\", \"\\ubab0\\uc785\\ub3c4\", \"\\ubab0\\uc785\\ub3c4\", \"\\ubb34\\uc870\\uac74\", \"\\ubc1c\\uc5f0\\uae30\", \"\\ubd84\\uc704\\uae30\", \"\\ube44\\ub514\\uc624\", \"\\uc2a4\\ub9b4\\ub7ec\", \"\\uc2a4\\ud0c0\\uc77c\", \"\\uc2a4\\ud1a0\\ub9ac\", \"\\uc2dc\\ub098\\ub9ac\\uc624\", \"\\uc2dc\\ub098\\ub9ac\\uc624\", \"\\uc2dc\\ub9ac\\uc988\", \"\\uc2dc\\uccad\\ub960\", \"\\uc4f0\\ub808\\uae30\", \"\\uc544\\ubc84\\uc9c0\", \"\\uc544\\uc26c\\uc6c0\", \"\\uc544\\uc800\\uc528\", \"\\uc544\\uc90c\\ub9c8\", \"\\uc560\\ub2c8\\uba54\\uc774\\uc158\", \"\\uc561\\uc158\\uc601\\ud654\", \"\\uc5b4\\ub9b0\\uc774\", \"\\uc5bc\\ub9c8\\ub098\", \"\\uc5ec\\ubc30\\uc6b0\", \"\\uc5f0\\uae30\\ub825\", \"\\uc5f0\\uae30\\ub825\", \"\\uc601\\ud654\\uad00\", \"\\uc601\\ud654\\ub85c\", \"\\uc601\\ud654\\uc778\", \"\\uc6b0\\ub9ac\\ub098\\ub77c\", \"\\uc774\\uc57c\\uae30\", \"\\uc774\\uc601\\ud654\", \"\\uc81c\\ub300\\ub85c\", \"\\uc8fc\\uc778\\uacf5\", \"\\uc904\\uac70\\ub9ac\", \"\\uc9c0\\ub8e8\\ud568\", \"\\ucc28\\ub77c\\ub9ac\", \"\\ucd5c\\uace0\\ub2e4\", \"\\uce90\\ub9ad\\ud130\", \"\\uce90\\uc2a4\\ud305\", \"\\ucf00\\uc774\\ube14\", \"\\ucf54\\ubbf8\\ub514\", \"\\ud004\\ub9ac\\ud2f0\", \"\\ud0ac\\ub9c1\\ud0c0\\uc784\", \"\\ud310\\ud0c0\\uc9c0\", \"\\ud3c9\\ub860\\uac00\", \"\\ud3ec\\uc2a4\\ud130\", \"\\ud504\\ub791\\uc2a4\", \"\\ud55c\\uad6d\\uc601\", \"\\ud55c\\ub9c8\\ub514\", \"\\ud654\\uc774\\ud305\", \"\\ud6c4\\uc18d\\uc791\", \"\\ud765\\ubbf8\\uc9c4\\uc9c4\"]}, \"R\": 30, \"lambda.step\": 0.01, \"plot.opts\": {\"xlab\": \"PC1\", \"ylab\": \"PC2\"}, \"topic.order\": [1, 2]};\n",
              "\n",
              "function LDAvis_load_lib(url, callback){\n",
              "  var s = document.createElement('script');\n",
              "  s.src = url;\n",
              "  s.async = true;\n",
              "  s.onreadystatechange = s.onload = callback;\n",
              "  s.onerror = function(){console.warn(\"failed to load library \" + url);};\n",
              "  document.getElementsByTagName(\"head\")[0].appendChild(s);\n",
              "}\n",
              "\n",
              "if(typeof(LDAvis) !== \"undefined\"){\n",
              "   // already loaded: just create the visualization\n",
              "   !function(LDAvis){\n",
              "       new LDAvis(\"#\" + \"ldavis_el1791405750288176961666599087\", ldavis_el1791405750288176961666599087_data);\n",
              "   }(LDAvis);\n",
              "}else if(typeof define === \"function\" && define.amd){\n",
              "   // require.js is available: use it to load d3/LDAvis\n",
              "   require.config({paths: {d3: \"https://d3js.org/d3.v5\"}});\n",
              "   require([\"d3\"], function(d3){\n",
              "      window.d3 = d3;\n",
              "      LDAvis_load_lib(\"https://cdn.jsdelivr.net/gh/bmabey/pyLDAvis@3.3.1/pyLDAvis/js/ldavis.v3.0.0.js\", function(){\n",
              "        new LDAvis(\"#\" + \"ldavis_el1791405750288176961666599087\", ldavis_el1791405750288176961666599087_data);\n",
              "      });\n",
              "    });\n",
              "}else{\n",
              "    // require.js not available: dynamically load d3 & LDAvis\n",
              "    LDAvis_load_lib(\"https://d3js.org/d3.v5.js\", function(){\n",
              "         LDAvis_load_lib(\"https://cdn.jsdelivr.net/gh/bmabey/pyLDAvis@3.3.1/pyLDAvis/js/ldavis.v3.0.0.js\", function(){\n",
              "                 new LDAvis(\"#\" + \"ldavis_el1791405750288176961666599087\", ldavis_el1791405750288176961666599087_data);\n",
              "            })\n",
              "         });\n",
              "}\n",
              "</script>"
            ]
          },
          "metadata": {},
          "execution_count": 33
        }
      ]
    },
    {
      "cell_type": "markdown",
      "source": [
        "## **3) 추가 LDA** (토픽 3개)\n",
        "\n",
        "\n"
      ],
      "metadata": {
        "id": "Q-B0NIaGEwJ2"
      }
    },
    {
      "cell_type": "code",
      "source": [
        "# 사이킷런 패키지 활용\n",
        "from sklearn.decomposition import LatentDirichletAllocation\n",
        "\n",
        "# LDA 모델링 객체를 생성 (토픽 갯수를 3으로 설정)\n",
        "lda2 = LatentDirichletAllocation(n_components=3)  \n",
        "\n",
        "# TF-IDF 벡터를 입력하여 모델 학습 \n",
        "lda2.fit(review_tfid)"
      ],
      "metadata": {
        "colab": {
          "base_uri": "https://localhost:8080/"
        },
        "id": "VToqSkyJE3Le",
        "outputId": "5dacdec9-cbcc-4900-a5eb-6fe56e9e69a2"
      },
      "execution_count": 43,
      "outputs": [
        {
          "output_type": "execute_result",
          "data": {
            "text/plain": [
              "LatentDirichletAllocation(n_components=3)"
            ]
          },
          "metadata": {},
          "execution_count": 43
        }
      ]
    },
    {
      "cell_type": "code",
      "source": [
        "# 토픽 모델링 결과를 담고 있는 배열의 형태 : (3개의 토픽)\n",
        "print(lda2.components_.shape)"
      ],
      "metadata": {
        "colab": {
          "base_uri": "https://localhost:8080/"
        },
        "id": "7Iofh0JXFF53",
        "outputId": "aaacef41-7432-4b5d-d852-3d2e8dd9f9ab"
      },
      "execution_count": 44,
      "outputs": [
        {
          "output_type": "stream",
          "name": "stdout",
          "text": [
            "(3, 2138)\n"
          ]
        }
      ]
    },
    {
      "cell_type": "code",
      "source": [
        "# 토픽 별로 가장 중요도가 높은 단어를 10개씩 출력\n",
        "\n",
        "for idx, topic in enumerate(lda2.components_):\n",
        "    print(f\"토픽 유형 {idx+1}:\", [(index_to_word[i], topic[i].round(3)) for i in topic.argsort()[:-11:-1]])"
      ],
      "metadata": {
        "colab": {
          "base_uri": "https://localhost:8080/"
        },
        "id": "ppNwGc3dFNWr",
        "outputId": "b3b58780-4ec2-423c-e71f-261125401749"
      },
      "execution_count": 46,
      "outputs": [
        {
          "output_type": "stream",
          "name": "stdout",
          "text": [
            "토픽 유형 1: [('스토리', 103.155), ('드라마', 98.649), ('쓰레기', 67.951), ('이야기', 47.874), ('최고다', 19.786), ('스릴러', 18.901), ('한국영', 17.928), ('캐릭터', 15.872), ('갈수록', 15.209), ('도대체', 14.622)]\n",
            "토픽 유형 2: [('주인공', 60.23), ('마지막', 54.229), ('연기력', 21.461), ('캐스팅', 19.251), ('로맨스', 16.779), ('영화관', 15.647), ('그대로', 12.797), ('무조건', 12.164), ('극장판', 10.731), ('프랑스', 10.321)]\n",
            "토픽 유형 3: [('이영화', 38.229), ('코미디', 24.061), ('시리즈', 21.619), ('우리나라', 18.116), ('포스터', 17.362), ('공포영화', 16.713), ('한마디', 16.663), ('제대로', 15.596), ('영화인', 13.987), ('몰입도', 13.817)]\n"
          ]
        }
      ]
    },
    {
      "cell_type": "code",
      "source": [
        "# LDA2 토픽 모델링 결과를 시각화\n",
        "pyLDAvis.enable_notebook()\n",
        "visualization = pyLDAvis.sklearn.prepare(lda2, review_tfid, tfid)\n",
        "pyLDAvis.display(visualization)"
      ],
      "metadata": {
        "colab": {
          "base_uri": "https://localhost:8080/",
          "height": 881
        },
        "id": "khsFdTGcFUdC",
        "outputId": "f82fb961-35f4-4f00-86de-563dfdf89355"
      },
      "execution_count": 47,
      "outputs": [
        {
          "output_type": "execute_result",
          "data": {
            "text/plain": [
              "<IPython.core.display.HTML object>"
            ],
            "text/html": [
              "\n",
              "<link rel=\"stylesheet\" type=\"text/css\" href=\"https://cdn.jsdelivr.net/gh/bmabey/pyLDAvis@3.3.1/pyLDAvis/js/ldavis.v1.0.0.css\">\n",
              "\n",
              "\n",
              "<div id=\"ldavis_el1791405750065080808089118612\"></div>\n",
              "<script type=\"text/javascript\">\n",
              "\n",
              "var ldavis_el1791405750065080808089118612_data = {\"mdsDat\": {\"x\": [-0.15621440605070064, 0.08697076054350135, 0.0692436455071992], \"y\": [-0.009113066606650939, -0.1159023471470331, 0.1250154137536841], \"topics\": [1, 2, 3], \"cluster\": [1, 1, 1], \"Freq\": [35.69977027410637, 32.80839618453486, 31.491833541358773]}, \"tinfo\": {\"Term\": [\"\\uc2a4\\ud1a0\\ub9ac\", \"\\ub4dc\\ub77c\\ub9c8\", \"\\uc8fc\\uc778\\uacf5\", \"\\uc4f0\\ub808\\uae30\", \"\\ub9c8\\uc9c0\\ub9c9\", \"\\uc774\\uc57c\\uae30\", \"\\uc774\\uc601\\ud654\", \"\\ucf54\\ubbf8\\ub514\", \"\\uc5f0\\uae30\\ub825\", \"\\uc2dc\\ub9ac\\uc988\", \"\\uce90\\uc2a4\\ud305\", \"\\uc6b0\\ub9ac\\ub098\\ub77c\", \"\\ucd5c\\uace0\\ub2e4\", \"\\ub85c\\ub9e8\\uc2a4\", \"\\ud3ec\\uc2a4\\ud130\", \"\\uc2a4\\ub9b4\\ub7ec\", \"\\uacf5\\ud3ec\\uc601\\ud654\", \"\\ud55c\\ub9c8\\ub514\", \"\\uc601\\ud654\\uad00\", \"\\ud55c\\uad6d\\uc601\", \"\\uc81c\\ub300\\ub85c\", \"\\uc601\\ud654\\uc778\", \"\\ubab0\\uc785\\ub3c4\", \"\\uac08\\uc218\\ub85d\", \"\\uadf8\\ub300\\ub85c\", \"\\ub3c4\\ub300\\uccb4\", \"\\ubb34\\uc870\\uac74\", \"\\uc2dc\\uccad\\ub960\", \"\\ud0ac\\ub9c1\\ud0c0\\uc784\", \"\\uadf9\\uc7a5\\ud310\", \"\\uc2a4\\ud1a0\\ub9ac\", \"\\ub4dc\\ub77c\\ub9c8\", \"\\uc4f0\\ub808\\uae30\", \"\\uc774\\uc57c\\uae30\", \"\\ucd5c\\uace0\\ub2e4\", \"\\uc2a4\\ub9b4\\ub7ec\", \"\\ud55c\\uad6d\\uc601\", \"\\uac08\\uc218\\ub85d\", \"\\ub3c4\\ub300\\uccb4\", \"\\ud0ac\\ub9c1\\ud0c0\\uc784\", \"\\ucc28\\ub77c\\ub9ac\", \"\\ud765\\ubbf8\\uc9c4\\uc9c4\", \"\\uc5ec\\ubc30\\uc6b0\", \"\\uc601\\ud654\\ub85c\", \"\\uc5b4\\ub9b0\\uc774\", \"\\uc544\\uc26c\\uc6c0\", \"\\uc561\\uc158\\uc601\\ud654\", \"\\uc904\\uac70\\ub9ac\", \"\\ud3c9\\ub860\\uac00\", \"\\uccad\\uc18c\\ub144\", \"\\ub3c4\\uc800\\ud788\", \"\\ud6c4\\uc18d\\uc791\", \"\\uc9dc\\uc784\\uc0c8\", \"\\ub3c5\\ub9bd\\uc601\\ud654\", \"\\ucd08\\ub4f1\\ud559\\uad50\", \"\\ub9e4\\ub2c8\\uc544\", \"\\ud504\\ub85c\\uadf8\\ub7a8\", \"\\uc77c\\ubd80\\ub7ec\", \"\\uc544\\ubb34\\ub098\", \"\\ucd08\\ub4f1\\ud559\\uc0dd\", \"\\uce90\\ub9ad\\ud130\", \"\\uae34\\uc7a5\\uac10\", \"\\ubd84\\uc704\\uae30\", \"\\uc774\\uc601\\ud654\", \"\\ucf54\\ubbf8\\ub514\", \"\\uc2dc\\ub9ac\\uc988\", \"\\uc6b0\\ub9ac\\ub098\\ub77c\", \"\\ud3ec\\uc2a4\\ud130\", \"\\uacf5\\ud3ec\\uc601\\ud654\", \"\\ud55c\\ub9c8\\ub514\", \"\\uc81c\\ub300\\ub85c\", \"\\uc601\\ud654\\uc778\", \"\\uc2dc\\uccad\\ub960\", \"\\ubab0\\uc785\\ub3c4\", \"\\uc9c0\\ub8e8\\ud568\", \"\\uadf8\\ub798\\ud53d\", \"\\ub124\\uc774\\ubc84\", \"\\ubc1c\\uc5f0\\uae30\", \"\\ube44\\ub514\\uc624\", \"\\uc560\\ub2c8\\uba54\\uc774\\uc158\", \"\\ud654\\uc774\\ud305\", \"\\ucf00\\uc774\\ube14\", \"\\ub290\\uc640\\ub974\", \"\\ud004\\ub9ac\\ud2f0\", \"\\ud310\\ud0c0\\uc9c0\", \"\\ub4f1\\uc7a5\\uc778\\ubb3c\", \"\\uacac\\uc790\\ub2e8\", \"\\uc544\\uc90c\\ub9c8\", \"\\ub204\\uad70\\uac00\", \"\\uc911\\ud559\\uad50\", \"\\ub9cc\\ud654\\ucc45\", \"\\ub098\\uc640\\ub77c\", \"\\uc2a4\\ucf00\\uc77c\", \"\\uc2dc\\ub098\\ub9ac\\uc624\", \"\\uae34\\uc7a5\\uac10\", \"\\uc8fc\\uc778\\uacf5\", \"\\ub9c8\\uc9c0\\ub9c9\", \"\\uc5f0\\uae30\\ub825\", \"\\uce90\\uc2a4\\ud305\", \"\\ub85c\\ub9e8\\uc2a4\", \"\\uc601\\ud654\\uad00\", \"\\uadf8\\ub300\\ub85c\", \"\\ubb34\\uc870\\uac74\", \"\\uadf9\\uc7a5\\ud310\", \"\\ud504\\ub791\\uc2a4\", \"\\uc5bc\\ub9c8\\ub098\", \"\\uc544\\uc800\\uc528\", \"\\uc544\\ubc84\\uc9c0\", \"\\ub300\\ud55c\\ubbfc\\uad6d\", \"\\ub9c8\\ubb34\\ub9ac\", \"\\uc120\\uc0dd\\ub2d8\", \"\\uc81c\\uc791\\ube44\", \"\\uc774\\uc5f0\\uac78\", \"\\ub098\\uba38\\uc9c0\", \"\\ub9c8\\uc774\\ub108\\uc2a4\", \"\\uc808\\ub300\\ub85c\", \"\\uc784\\uad8c\\ud0dd\", \"\\uc601\\ud654\\uac10\\ub3c5\", \"\\uc5f0\\uae30\\uc790\", \"\\ucc9c\\ub140\\uc720\\ud63c\", \"\\ud328\\ub7ec\\ub514\", \"\\uc5d0\\ud53c\\uc18c\\ub4dc\", \"\\ub808\\uc804\\ub4dc\", \"\\ud574\\ud53c\\uc5d4\\ub529\", \"\\ube14\\ub85d\\ubc84\\uc2a4\\ud130\", \"\\ubaa9\\uc18c\\ub9ac\", \"\\uc2dc\\ub098\\ub9ac\\uc624\", \"\\uce90\\ub9ad\\ud130\"], \"Freq\": [62.0, 60.0, 37.0, 41.0, 33.0, 29.0, 23.0, 15.0, 13.0, 13.0, 12.0, 11.0, 12.0, 10.0, 11.0, 11.0, 10.0, 10.0, 10.0, 11.0, 9.0, 8.0, 8.0, 9.0, 8.0, 9.0, 7.0, 8.0, 8.0, 6.0, 62.48004646750951, 59.75092362598516, 41.157079821503075, 28.996955942737305, 11.98425936994472, 11.448244232856398, 10.858717984374021, 9.211896308772664, 8.856403261683244, 7.690600668431072, 7.6220638266866, 6.885951047145692, 6.69954529598113, 5.311464743712679, 5.093477447602808, 5.004937363023831, 4.942418564144695, 4.155820664383296, 3.9622775584357353, 3.5199071463018115, 3.4914055815769784, 3.2675071216576486, 2.903186129329708, 2.838255759647358, 2.7989055390673956, 2.706832854890861, 2.7606051825736935, 2.692386972432233, 2.5533421383516517, 2.484313415694106, 9.613597839059674, 6.99828446321577, 4.579494401431946, 23.38550062829494, 14.71883160874728, 13.224503058603155, 11.081869106918056, 10.62076065707372, 10.223875396485774, 10.19333116849084, 9.540199543320421, 8.55601466680186, 7.577883239485039, 8.452114663675705, 6.533060236476221, 6.27963874388669, 6.470722466410436, 5.826241150630411, 5.617462625055617, 5.754781650059824, 5.630266204843477, 5.317535941392018, 4.818897540420941, 4.218606631196525, 3.964779425686312, 3.712100245276746, 3.4723938155636027, 3.264572868502729, 3.228450626407829, 3.1293216238533867, 3.004395833553083, 2.9460670712439283, 2.927009881768804, 4.6147515531413, 3.6177793578028354, 36.905966481390195, 33.22909167916733, 13.149982819437682, 11.795899351228197, 10.281077316759461, 9.587613509705797, 7.84111314290877, 7.453315646671437, 6.575384670021117, 6.324231207347799, 6.058861626313337, 5.867430007643309, 4.212072756358642, 3.4254314151083176, 3.230079650185636, 3.0395624045525174, 2.987225246157837, 2.865831891435994, 2.739202490442783, 2.7674900720369315, 2.7090659092993126, 2.659045554909781, 2.588622556995323, 2.650496059638602, 2.570970341450655, 2.599954042381008, 2.608724817214022, 2.6691793160485915, 2.352772807687994, 2.2534683433383482, 3.069665065381372, 4.19468472744836, 3.1548254159083875], \"Total\": [62.0, 60.0, 37.0, 41.0, 33.0, 29.0, 23.0, 15.0, 13.0, 13.0, 12.0, 11.0, 12.0, 10.0, 11.0, 11.0, 10.0, 10.0, 10.0, 11.0, 9.0, 8.0, 8.0, 9.0, 8.0, 9.0, 7.0, 8.0, 8.0, 6.0, 62.91302194909943, 60.21777053876379, 41.57786246477891, 29.421723808891166, 12.40625957087025, 11.87724057464931, 11.271801195483373, 9.639887757834767, 9.303465161859194, 8.109375396711643, 8.05435855914684, 7.303926674229562, 7.132243289969329, 5.741951212589346, 5.508069932216778, 5.421688744042622, 5.3598105351422545, 4.569830650021725, 4.384172537609139, 3.941698421597426, 3.9120925835452636, 3.6908541093115845, 3.317845996013295, 3.2642228875616257, 3.224524545716528, 3.123024062864376, 3.18900160006685, 3.1150812704331106, 2.9642529914494418, 2.896903636883819, 12.984817583297039, 10.827589696476698, 7.230327943075814, 23.80806250883033, 15.144967802060886, 13.65169938760154, 11.504399502257007, 11.033367159393267, 10.639505335026719, 10.617786513886074, 9.957923921107593, 8.980896620797225, 8.002881359305631, 8.93583748382111, 6.947244473561639, 6.6901064766206, 6.894771818908196, 6.246645547137571, 6.026614653803092, 6.17628702223135, 6.052015677858581, 5.74473308542205, 5.243424274517832, 4.6525216320107665, 4.385793724590546, 4.1310630352478155, 3.882265249320033, 3.6744548743709085, 3.6425034755704817, 3.542809595010345, 3.418829167455837, 3.354835463047344, 3.3536274389780103, 9.03063004710868, 10.827589696476698, 37.33111797864372, 33.65606914056271, 13.589935075083147, 12.218718590466091, 10.702261654434249, 10.003983575165998, 8.260720718930198, 7.870389915127088, 6.992213032392106, 6.73926428094343, 6.477007189630803, 6.2787420443658535, 4.633337077723809, 3.8372649428142083, 3.6467972639629713, 3.4627078850420268, 3.4043725542761, 3.281804595501308, 3.1473466497936817, 3.1850970033561783, 3.1272883367734328, 3.074663531383981, 2.9965546776492955, 3.071718373689087, 2.982305453275282, 3.0165531796049003, 3.0268862107388523, 3.1062616142008297, 2.7666613300076865, 2.671468506106391, 3.784646851635686, 9.03063004710868, 12.984817583297039], \"Category\": [\"Default\", \"Default\", \"Default\", \"Default\", \"Default\", \"Default\", \"Default\", \"Default\", \"Default\", \"Default\", \"Default\", \"Default\", \"Default\", \"Default\", \"Default\", \"Default\", \"Default\", \"Default\", \"Default\", \"Default\", \"Default\", \"Default\", \"Default\", \"Default\", \"Default\", \"Default\", \"Default\", \"Default\", \"Default\", \"Default\", \"Topic1\", \"Topic1\", \"Topic1\", \"Topic1\", \"Topic1\", \"Topic1\", \"Topic1\", \"Topic1\", \"Topic1\", \"Topic1\", \"Topic1\", \"Topic1\", \"Topic1\", \"Topic1\", \"Topic1\", \"Topic1\", \"Topic1\", \"Topic1\", \"Topic1\", \"Topic1\", \"Topic1\", \"Topic1\", \"Topic1\", \"Topic1\", \"Topic1\", \"Topic1\", \"Topic1\", \"Topic1\", \"Topic1\", \"Topic1\", \"Topic1\", \"Topic1\", \"Topic1\", \"Topic2\", \"Topic2\", \"Topic2\", \"Topic2\", \"Topic2\", \"Topic2\", \"Topic2\", \"Topic2\", \"Topic2\", \"Topic2\", \"Topic2\", \"Topic2\", \"Topic2\", \"Topic2\", \"Topic2\", \"Topic2\", \"Topic2\", \"Topic2\", \"Topic2\", \"Topic2\", \"Topic2\", \"Topic2\", \"Topic2\", \"Topic2\", \"Topic2\", \"Topic2\", \"Topic2\", \"Topic2\", \"Topic2\", \"Topic2\", \"Topic2\", \"Topic2\", \"Topic3\", \"Topic3\", \"Topic3\", \"Topic3\", \"Topic3\", \"Topic3\", \"Topic3\", \"Topic3\", \"Topic3\", \"Topic3\", \"Topic3\", \"Topic3\", \"Topic3\", \"Topic3\", \"Topic3\", \"Topic3\", \"Topic3\", \"Topic3\", \"Topic3\", \"Topic3\", \"Topic3\", \"Topic3\", \"Topic3\", \"Topic3\", \"Topic3\", \"Topic3\", \"Topic3\", \"Topic3\", \"Topic3\", \"Topic3\", \"Topic3\", \"Topic3\", \"Topic3\"], \"logprob\": [30.0, 29.0, 28.0, 27.0, 26.0, 25.0, 24.0, 23.0, 22.0, 21.0, 20.0, 19.0, 18.0, 17.0, 16.0, 15.0, 14.0, 13.0, 12.0, 11.0, 10.0, 9.0, 8.0, 7.0, 6.0, 5.0, 4.0, 3.0, 2.0, 1.0, -2.9495, -2.9942, -3.367, -3.7172, -4.6008, -4.6466, -4.6994, -4.8639, -4.9032, -5.0444, -5.0533, -5.1549, -5.1823, -5.4145, -5.4564, -5.474, -5.4865, -5.6599, -5.7076, -5.826, -5.8341, -5.9004, -6.0186, -6.0412, -6.0552, -6.0886, -6.0689, -6.094, -6.147, -6.1744, -4.8212, -5.1387, -5.5628, -3.8478, -4.3108, -4.4179, -4.5946, -4.6371, -4.6752, -4.6782, -4.7444, -4.8533, -4.9747, -4.8655, -5.1231, -5.1626, -5.1326, -5.2376, -5.274, -5.2499, -5.2718, -5.3289, -5.4274, -5.5604, -5.6225, -5.6883, -5.7551, -5.8168, -5.8279, -5.8591, -5.8999, -5.9195, -5.9259, -5.4707, -5.7141, -3.3506, -3.4555, -4.3826, -4.4912, -4.6287, -4.6985, -4.8996, -4.9503, -5.0756, -5.1146, -5.1574, -5.1896, -5.521, -5.7277, -5.7865, -5.8473, -5.8646, -5.9061, -5.9513, -5.941, -5.9624, -5.981, -6.0078, -5.9842, -6.0147, -6.0035, -6.0001, -5.9772, -6.1034, -6.1465, -5.8374, -5.5252, -5.81], \"loglift\": [30.0, 29.0, 28.0, 27.0, 26.0, 25.0, 24.0, 23.0, 22.0, 21.0, 20.0, 19.0, 18.0, 17.0, 16.0, 15.0, 14.0, 13.0, 12.0, 11.0, 10.0, 9.0, 8.0, 7.0, 6.0, 5.0, 4.0, 3.0, 2.0, 1.0, 1.0231, 1.0222, 1.0199, 1.0155, 0.9954, 0.9932, 0.9927, 0.9846, 0.9808, 0.977, 0.9749, 0.9711, 0.9674, 0.9521, 0.9518, 0.95, 0.949, 0.9351, 0.9288, 0.9168, 0.9163, 0.9082, 0.8965, 0.8902, 0.8885, 0.887, 0.8858, 0.8842, 0.8808, 0.8764, 0.7294, 0.5936, 0.5733, 1.0966, 1.0859, 1.0827, 1.0771, 1.0764, 1.0746, 1.0737, 1.0716, 1.066, 1.0599, 1.0588, 1.053, 1.0512, 1.051, 1.0448, 1.0442, 1.0438, 1.0423, 1.0372, 1.0301, 1.0166, 1.0136, 1.0075, 1.0029, 0.9962, 0.9938, 0.9904, 0.9853, 0.9846, 0.9784, 0.4431, 0.0182, 1.144, 1.1427, 1.1225, 1.1202, 1.1153, 1.1129, 1.1033, 1.101, 1.094, 1.0919, 1.0887, 1.0877, 1.0601, 1.0419, 1.0341, 1.0251, 1.0247, 1.0199, 1.0165, 1.0149, 1.0119, 1.0102, 1.0091, 1.008, 1.007, 1.0068, 1.0068, 1.0038, 0.9934, 0.9853, 0.9461, 0.3886, -0.2594]}, \"token.table\": {\"Topic\": [1, 2, 2, 3, 2, 3, 1, 2, 3, 2, 2, 2, 2, 3, 1, 1, 1, 1, 2, 3, 3, 3, 3, 3, 2, 1, 2, 3, 2, 3, 2, 1, 2, 3, 3, 2, 3, 1, 2, 1, 2, 3, 2, 2, 1, 1, 3, 1, 3, 2, 2, 1, 1, 3, 3, 1, 3, 3, 3, 3, 1, 2, 2, 1, 3, 2, 1, 3, 3, 2, 3, 3, 1, 2, 2, 1, 1, 3, 1, 1, 1, 1, 1, 3, 3, 2, 2, 2, 1, 2, 3, 1, 2, 3, 1, 1, 2, 3, 2, 1, 1], \"Freq\": [0.933620829006572, 0.772744726941427, 0.9398933207052983, 0.9684385021838673, 0.8968467125250903, 1.0011136628091593, 0.6464966069297771, 0.36942663253130115, 0.9531838509738542, 0.8942316346194125, 0.8702245930091005, 0.8236093719938444, 0.9535753237248351, 0.7818068454246041, 0.9673814910273121, 0.7668530168785791, 0.9190548878973763, 0.996383616716205, 0.9682737750236354, 0.9657911575396497, 0.9343819393405242, 0.8226396431864992, 0.9418865412384178, 0.9805066617309742, 0.8774933911753439, 0.9606073919419178, 0.2642254453854288, 0.7926763361562864, 0.8952714297327472, 0.8894095560050745, 0.9605155206460222, 0.6915315652851256, 0.27661262611405024, 0.13830631305702512, 0.7486519101492077, 0.9955838135782753, 0.8663739765514725, 0.9261410452086248, 0.8945537495107759, 0.985487552166257, 0.553671224921991, 0.4429369799375928, 0.9522623983213832, 0.9996399597624572, 0.986101679342741, 1.0120593649238687, 0.8633086548421501, 0.9222218825258135, 0.9556054314070795, 0.8164476371515164, 0.9714574433479515, 0.9328687958682285, 0.9077589902689742, 0.9263537656103802, 0.9911175350287484, 0.9814583876919463, 0.9565902948156992, 0.9766520348013042, 1.0011497612162403, 0.9996018011089215, 0.8707841315400585, 1.0021271126936855, 0.956155946935079, 0.9856662440436709, 0.9141312082116024, 0.9660592915307317, 0.9630567357823349, 0.9757165196705693, 0.9592975373339696, 1.0042253866594844, 0.8812196527174491, 0.9911302420990139, 0.8753059590908437, 0.8467855580568506, 1.007593733981743, 0.904201100233339, 0.9932510380873089, 1.0059331772019815, 1.014790978955449, 0.9303697203934181, 0.6903923121693435, 0.9672536618672608, 0.7701301874940049, 0.23103905624820148, 0.9820997112875035, 0.8703624564713198, 0.9904279887580111, 0.8597488236226095, 0.9865124758244642, 0.9120355974729378, 0.9945125517041048, 0.9123728515897681, 0.9969757954293346, 0.8903048982610992, 0.940733300333594, 0.9758866226639727, 0.9418158847818117, 0.7228929606626061, 0.9914052308144407, 0.812819989939824, 0.9583885918102237], \"Term\": [\"\\uac08\\uc218\\ub85d\", \"\\uacac\\uc790\\ub2e8\", \"\\uacf5\\ud3ec\\uc601\\ud654\", \"\\uadf8\\ub300\\ub85c\", \"\\uadf8\\ub798\\ud53d\", \"\\uadf9\\uc7a5\\ud310\", \"\\uae34\\uc7a5\\uac10\", \"\\uae34\\uc7a5\\uac10\", \"\\ub098\\uba38\\uc9c0\", \"\\ub098\\uc640\\ub77c\", \"\\ub124\\uc774\\ubc84\", \"\\ub204\\uad70\\uac00\", \"\\ub290\\uc640\\ub974\", \"\\ub300\\ud55c\\ubbfc\\uad6d\", \"\\ub3c4\\ub300\\uccb4\", \"\\ub3c4\\uc800\\ud788\", \"\\ub3c5\\ub9bd\\uc601\\ud654\", \"\\ub4dc\\ub77c\\ub9c8\", \"\\ub4f1\\uc7a5\\uc778\\ubb3c\", \"\\ub808\\uc804\\ub4dc\", \"\\ub85c\\ub9e8\\uc2a4\", \"\\ub9c8\\ubb34\\ub9ac\", \"\\ub9c8\\uc774\\ub108\\uc2a4\", \"\\ub9c8\\uc9c0\\ub9c9\", \"\\ub9cc\\ud654\\ucc45\", \"\\ub9e4\\ub2c8\\uc544\", \"\\ubaa9\\uc18c\\ub9ac\", \"\\ubaa9\\uc18c\\ub9ac\", \"\\ubab0\\uc785\\ub3c4\", \"\\ubb34\\uc870\\uac74\", \"\\ubc1c\\uc5f0\\uae30\", \"\\ubd84\\uc704\\uae30\", \"\\ubd84\\uc704\\uae30\", \"\\ubd84\\uc704\\uae30\", \"\\ube14\\ub85d\\ubc84\\uc2a4\\ud130\", \"\\ube44\\ub514\\uc624\", \"\\uc120\\uc0dd\\ub2d8\", \"\\uc2a4\\ub9b4\\ub7ec\", \"\\uc2a4\\ucf00\\uc77c\", \"\\uc2a4\\ud1a0\\ub9ac\", \"\\uc2dc\\ub098\\ub9ac\\uc624\", \"\\uc2dc\\ub098\\ub9ac\\uc624\", \"\\uc2dc\\ub9ac\\uc988\", \"\\uc2dc\\uccad\\ub960\", \"\\uc4f0\\ub808\\uae30\", \"\\uc544\\ubb34\\ub098\", \"\\uc544\\ubc84\\uc9c0\", \"\\uc544\\uc26c\\uc6c0\", \"\\uc544\\uc800\\uc528\", \"\\uc544\\uc90c\\ub9c8\", \"\\uc560\\ub2c8\\uba54\\uc774\\uc158\", \"\\uc561\\uc158\\uc601\\ud654\", \"\\uc5b4\\ub9b0\\uc774\", \"\\uc5bc\\ub9c8\\ub098\", \"\\uc5d0\\ud53c\\uc18c\\ub4dc\", \"\\uc5ec\\ubc30\\uc6b0\", \"\\uc5f0\\uae30\\ub825\", \"\\uc5f0\\uae30\\uc790\", \"\\uc601\\ud654\\uac10\\ub3c5\", \"\\uc601\\ud654\\uad00\", \"\\uc601\\ud654\\ub85c\", \"\\uc601\\ud654\\uc778\", \"\\uc6b0\\ub9ac\\ub098\\ub77c\", \"\\uc774\\uc57c\\uae30\", \"\\uc774\\uc5f0\\uac78\", \"\\uc774\\uc601\\ud654\", \"\\uc77c\\ubd80\\ub7ec\", \"\\uc784\\uad8c\\ud0dd\", \"\\uc808\\ub300\\ub85c\", \"\\uc81c\\ub300\\ub85c\", \"\\uc81c\\uc791\\ube44\", \"\\uc8fc\\uc778\\uacf5\", \"\\uc904\\uac70\\ub9ac\", \"\\uc911\\ud559\\uad50\", \"\\uc9c0\\ub8e8\\ud568\", \"\\uc9dc\\uc784\\uc0c8\", \"\\ucc28\\ub77c\\ub9ac\", \"\\ucc9c\\ub140\\uc720\\ud63c\", \"\\uccad\\uc18c\\ub144\", \"\\ucd08\\ub4f1\\ud559\\uad50\", \"\\ucd08\\ub4f1\\ud559\\uc0dd\", \"\\ucd5c\\uace0\\ub2e4\", \"\\uce90\\ub9ad\\ud130\", \"\\uce90\\ub9ad\\ud130\", \"\\uce90\\uc2a4\\ud305\", \"\\ucf00\\uc774\\ube14\", \"\\ucf54\\ubbf8\\ub514\", \"\\ud004\\ub9ac\\ud2f0\", \"\\ud0ac\\ub9c1\\ud0c0\\uc784\", \"\\ud310\\ud0c0\\uc9c0\", \"\\ud328\\ub7ec\\ub514\", \"\\ud3c9\\ub860\\uac00\", \"\\ud3ec\\uc2a4\\ud130\", \"\\ud504\\ub791\\uc2a4\", \"\\ud504\\ub85c\\uadf8\\ub7a8\", \"\\ud55c\\uad6d\\uc601\", \"\\ud55c\\ub9c8\\ub514\", \"\\ud574\\ud53c\\uc5d4\\ub529\", \"\\ud654\\uc774\\ud305\", \"\\ud6c4\\uc18d\\uc791\", \"\\ud765\\ubbf8\\uc9c4\\uc9c4\"]}, \"R\": 30, \"lambda.step\": 0.01, \"plot.opts\": {\"xlab\": \"PC1\", \"ylab\": \"PC2\"}, \"topic.order\": [1, 3, 2]};\n",
              "\n",
              "function LDAvis_load_lib(url, callback){\n",
              "  var s = document.createElement('script');\n",
              "  s.src = url;\n",
              "  s.async = true;\n",
              "  s.onreadystatechange = s.onload = callback;\n",
              "  s.onerror = function(){console.warn(\"failed to load library \" + url);};\n",
              "  document.getElementsByTagName(\"head\")[0].appendChild(s);\n",
              "}\n",
              "\n",
              "if(typeof(LDAvis) !== \"undefined\"){\n",
              "   // already loaded: just create the visualization\n",
              "   !function(LDAvis){\n",
              "       new LDAvis(\"#\" + \"ldavis_el1791405750065080808089118612\", ldavis_el1791405750065080808089118612_data);\n",
              "   }(LDAvis);\n",
              "}else if(typeof define === \"function\" && define.amd){\n",
              "   // require.js is available: use it to load d3/LDAvis\n",
              "   require.config({paths: {d3: \"https://d3js.org/d3.v5\"}});\n",
              "   require([\"d3\"], function(d3){\n",
              "      window.d3 = d3;\n",
              "      LDAvis_load_lib(\"https://cdn.jsdelivr.net/gh/bmabey/pyLDAvis@3.3.1/pyLDAvis/js/ldavis.v3.0.0.js\", function(){\n",
              "        new LDAvis(\"#\" + \"ldavis_el1791405750065080808089118612\", ldavis_el1791405750065080808089118612_data);\n",
              "      });\n",
              "    });\n",
              "}else{\n",
              "    // require.js not available: dynamically load d3 & LDAvis\n",
              "    LDAvis_load_lib(\"https://d3js.org/d3.v5.js\", function(){\n",
              "         LDAvis_load_lib(\"https://cdn.jsdelivr.net/gh/bmabey/pyLDAvis@3.3.1/pyLDAvis/js/ldavis.v3.0.0.js\", function(){\n",
              "                 new LDAvis(\"#\" + \"ldavis_el1791405750065080808089118612\", ldavis_el1791405750065080808089118612_data);\n",
              "            })\n",
              "         });\n",
              "}\n",
              "</script>"
            ]
          },
          "metadata": {},
          "execution_count": 47
        }
      ]
    },
    {
      "cell_type": "markdown",
      "source": [
        "# **Sentimental Analysis (감성 분석)**\n",
        "\n",
        "감성 분석은 문장(텍스트)에 드러나는 사람들의 생각이나 느낌, 성향과 같이 주관적인 감성을 분석하는 자연어 처리 기법입니다. 머신러닝 분류 모델을 활용하여 문장이 갖는 긍정 또는 부정의 감성을 예측하세요."
      ],
      "metadata": {
        "id": "PmZFh1yXATNM"
      }
    },
    {
      "cell_type": "markdown",
      "source": [
        "## 1) 머신러닝 알고리즘을 활용하여, 긍정/부정 감성을 분류"
      ],
      "metadata": {
        "id": "hBFkRZTDAkQx"
      }
    },
    {
      "cell_type": "code",
      "source": [
        "labels = data['label'].iloc[:5000].values\n",
        "print(labels.shape)\n",
        "print(labels[:5])"
      ],
      "metadata": {
        "colab": {
          "base_uri": "https://localhost:8080/"
        },
        "id": "JGusVZlCAiVY",
        "outputId": "fcd37807-11fd-48f8-d1fb-06e71eb5d253"
      },
      "execution_count": 34,
      "outputs": [
        {
          "output_type": "stream",
          "name": "stdout",
          "text": [
            "(5000,)\n",
            "[0 1 0 0 1]\n"
          ]
        }
      ]
    },
    {
      "cell_type": "code",
      "source": [
        "# 사이킷런 패키지 활용\n",
        "from sklearn.linear_model import LogisticRegression\n",
        "\n",
        "# 로지스틱 분류 모델링 객체를 생성 \n",
        "lr = LogisticRegression()\n",
        "\n",
        "# TF-IDF 벡터를 입력하여 모델 학습 \n",
        "lr.fit(review_tfid, labels)"
      ],
      "metadata": {
        "colab": {
          "base_uri": "https://localhost:8080/"
        },
        "id": "Tm96TTl2Au9C",
        "outputId": "fec0558a-ecc1-4cf9-c8e9-ffa2a47c71fc"
      },
      "execution_count": 35,
      "outputs": [
        {
          "output_type": "execute_result",
          "data": {
            "text/plain": [
              "LogisticRegression()"
            ]
          },
          "metadata": {},
          "execution_count": 35
        }
      ]
    },
    {
      "cell_type": "code",
      "source": [
        "# 첫 번째 샘플을 이용하여 모델 예측\n",
        "pred = lr.predict(review_tfid[0])\n",
        "print(pred)"
      ],
      "metadata": {
        "colab": {
          "base_uri": "https://localhost:8080/"
        },
        "id": "ZsdRPzMfAw94",
        "outputId": "ac46149a-0956-4ede-b0e3-8904bd9da792"
      },
      "execution_count": 36,
      "outputs": [
        {
          "output_type": "stream",
          "name": "stdout",
          "text": [
            "[0]\n"
          ]
        }
      ]
    },
    {
      "cell_type": "markdown",
      "source": [
        "## 2) Part 1에서 수집한 리뷰를 긍정, 부정으로 감성 분류 예측\n"
      ],
      "metadata": {
        "id": "pflAwVWSA0-i"
      }
    },
    {
      "cell_type": "code",
      "source": [
        "# 판다스 데이터프레임로 읽어오기\n",
        "test = pd.read_csv('/content/drive/MyDrive/HUFS Data Analysis/naver_review_Avatar.csv')\n",
        "\n",
        "test.head()"
      ],
      "metadata": {
        "colab": {
          "base_uri": "https://localhost:8080/",
          "height": 320
        },
        "id": "vQgnGrwaA5fo",
        "outputId": "ae6c5770-e128-4198-abab-204dae337793"
      },
      "execution_count": 37,
      "outputs": [
        {
          "output_type": "execute_result",
          "data": {
            "text/plain": [
              "   Unnamed: 0                                     title      user  \\\n",
              "0           0  <아바타 2> 주인공 \"네이티리\" 캐릭터 컨셉 아트 이미지 대공개...   insu****   \n",
              "1           1                      2014년에 이글을 읽는사람들에게..  xnzm****   \n",
              "2           2          [필독, 스압] 위대한 지휘관, 쿼리치대령을 추모하며...  alwa****   \n",
              "3           3                          아바타2 3,4 제작소식 모음  soqu****   \n",
              "4           4                                  아바타2 스토리  doub****   \n",
              "\n",
              "                                              review  \n",
              "0  \\n\\n\\n\\n\\n아바타 2\\n\\n감독\\n제임스 카메론\\n출연\\n시고니 위버, 스티...  \n",
              "1  \\n2014년에 아바타2가 개봉하다니ㅋ\\n \\n아바타1,, 정말 재밌게 봤었는데\\n...  \n",
              "2  \\n영화 아바타는.끝까지 우리 인류의 번영과 이익을 위해 사투를 벌이다 죽어간 위대...  \n",
              "3  \\n \\n \\n \\n<<  아바타 속편 제작소식 모음  >>\\n \\n\\n \\n \\n...  \n",
              "4  \\n전작의 경우 cg는 혁명적이었지만제임스 카메론이 14년동안 구상한거 치곤 스토리...  "
            ],
            "text/html": [
              "\n",
              "  <div id=\"df-06dec16e-6320-4835-abdc-661d1ac050ca\">\n",
              "    <div class=\"colab-df-container\">\n",
              "      <div>\n",
              "<style scoped>\n",
              "    .dataframe tbody tr th:only-of-type {\n",
              "        vertical-align: middle;\n",
              "    }\n",
              "\n",
              "    .dataframe tbody tr th {\n",
              "        vertical-align: top;\n",
              "    }\n",
              "\n",
              "    .dataframe thead th {\n",
              "        text-align: right;\n",
              "    }\n",
              "</style>\n",
              "<table border=\"1\" class=\"dataframe\">\n",
              "  <thead>\n",
              "    <tr style=\"text-align: right;\">\n",
              "      <th></th>\n",
              "      <th>Unnamed: 0</th>\n",
              "      <th>title</th>\n",
              "      <th>user</th>\n",
              "      <th>review</th>\n",
              "    </tr>\n",
              "  </thead>\n",
              "  <tbody>\n",
              "    <tr>\n",
              "      <th>0</th>\n",
              "      <td>0</td>\n",
              "      <td>&lt;아바타 2&gt; 주인공 \"네이티리\" 캐릭터 컨셉 아트 이미지 대공개...</td>\n",
              "      <td>insu****</td>\n",
              "      <td>\\n\\n\\n\\n\\n아바타 2\\n\\n감독\\n제임스 카메론\\n출연\\n시고니 위버, 스티...</td>\n",
              "    </tr>\n",
              "    <tr>\n",
              "      <th>1</th>\n",
              "      <td>1</td>\n",
              "      <td>2014년에 이글을 읽는사람들에게..</td>\n",
              "      <td>xnzm****</td>\n",
              "      <td>\\n2014년에 아바타2가 개봉하다니ㅋ\\n \\n아바타1,, 정말 재밌게 봤었는데\\n...</td>\n",
              "    </tr>\n",
              "    <tr>\n",
              "      <th>2</th>\n",
              "      <td>2</td>\n",
              "      <td>[필독, 스압] 위대한 지휘관, 쿼리치대령을 추모하며...</td>\n",
              "      <td>alwa****</td>\n",
              "      <td>\\n영화 아바타는.끝까지 우리 인류의 번영과 이익을 위해 사투를 벌이다 죽어간 위대...</td>\n",
              "    </tr>\n",
              "    <tr>\n",
              "      <th>3</th>\n",
              "      <td>3</td>\n",
              "      <td>아바타2 3,4 제작소식 모음</td>\n",
              "      <td>soqu****</td>\n",
              "      <td>\\n \\n \\n \\n&lt;&lt;  아바타 속편 제작소식 모음  &gt;&gt;\\n \\n\\n \\n \\n...</td>\n",
              "    </tr>\n",
              "    <tr>\n",
              "      <th>4</th>\n",
              "      <td>4</td>\n",
              "      <td>아바타2 스토리</td>\n",
              "      <td>doub****</td>\n",
              "      <td>\\n전작의 경우 cg는 혁명적이었지만제임스 카메론이 14년동안 구상한거 치곤 스토리...</td>\n",
              "    </tr>\n",
              "  </tbody>\n",
              "</table>\n",
              "</div>\n",
              "      <button class=\"colab-df-convert\" onclick=\"convertToInteractive('df-06dec16e-6320-4835-abdc-661d1ac050ca')\"\n",
              "              title=\"Convert this dataframe to an interactive table.\"\n",
              "              style=\"display:none;\">\n",
              "        \n",
              "  <svg xmlns=\"http://www.w3.org/2000/svg\" height=\"24px\"viewBox=\"0 0 24 24\"\n",
              "       width=\"24px\">\n",
              "    <path d=\"M0 0h24v24H0V0z\" fill=\"none\"/>\n",
              "    <path d=\"M18.56 5.44l.94 2.06.94-2.06 2.06-.94-2.06-.94-.94-2.06-.94 2.06-2.06.94zm-11 1L8.5 8.5l.94-2.06 2.06-.94-2.06-.94L8.5 2.5l-.94 2.06-2.06.94zm10 10l.94 2.06.94-2.06 2.06-.94-2.06-.94-.94-2.06-.94 2.06-2.06.94z\"/><path d=\"M17.41 7.96l-1.37-1.37c-.4-.4-.92-.59-1.43-.59-.52 0-1.04.2-1.43.59L10.3 9.45l-7.72 7.72c-.78.78-.78 2.05 0 2.83L4 21.41c.39.39.9.59 1.41.59.51 0 1.02-.2 1.41-.59l7.78-7.78 2.81-2.81c.8-.78.8-2.07 0-2.86zM5.41 20L4 18.59l7.72-7.72 1.47 1.35L5.41 20z\"/>\n",
              "  </svg>\n",
              "      </button>\n",
              "      \n",
              "  <style>\n",
              "    .colab-df-container {\n",
              "      display:flex;\n",
              "      flex-wrap:wrap;\n",
              "      gap: 12px;\n",
              "    }\n",
              "\n",
              "    .colab-df-convert {\n",
              "      background-color: #E8F0FE;\n",
              "      border: none;\n",
              "      border-radius: 50%;\n",
              "      cursor: pointer;\n",
              "      display: none;\n",
              "      fill: #1967D2;\n",
              "      height: 32px;\n",
              "      padding: 0 0 0 0;\n",
              "      width: 32px;\n",
              "    }\n",
              "\n",
              "    .colab-df-convert:hover {\n",
              "      background-color: #E2EBFA;\n",
              "      box-shadow: 0px 1px 2px rgba(60, 64, 67, 0.3), 0px 1px 3px 1px rgba(60, 64, 67, 0.15);\n",
              "      fill: #174EA6;\n",
              "    }\n",
              "\n",
              "    [theme=dark] .colab-df-convert {\n",
              "      background-color: #3B4455;\n",
              "      fill: #D2E3FC;\n",
              "    }\n",
              "\n",
              "    [theme=dark] .colab-df-convert:hover {\n",
              "      background-color: #434B5C;\n",
              "      box-shadow: 0px 1px 3px 1px rgba(0, 0, 0, 0.15);\n",
              "      filter: drop-shadow(0px 1px 2px rgba(0, 0, 0, 0.3));\n",
              "      fill: #FFFFFF;\n",
              "    }\n",
              "  </style>\n",
              "\n",
              "      <script>\n",
              "        const buttonEl =\n",
              "          document.querySelector('#df-06dec16e-6320-4835-abdc-661d1ac050ca button.colab-df-convert');\n",
              "        buttonEl.style.display =\n",
              "          google.colab.kernel.accessAllowed ? 'block' : 'none';\n",
              "\n",
              "        async function convertToInteractive(key) {\n",
              "          const element = document.querySelector('#df-06dec16e-6320-4835-abdc-661d1ac050ca');\n",
              "          const dataTable =\n",
              "            await google.colab.kernel.invokeFunction('convertToInteractive',\n",
              "                                                     [key], {});\n",
              "          if (!dataTable) return;\n",
              "\n",
              "          const docLinkHtml = 'Like what you see? Visit the ' +\n",
              "            '<a target=\"_blank\" href=https://colab.research.google.com/notebooks/data_table.ipynb>data table notebook</a>'\n",
              "            + ' to learn more about interactive tables.';\n",
              "          element.innerHTML = '';\n",
              "          dataTable['output_type'] = 'display_data';\n",
              "          await google.colab.output.renderOutput(dataTable, element);\n",
              "          const docLink = document.createElement('div');\n",
              "          docLink.innerHTML = docLinkHtml;\n",
              "          element.appendChild(docLink);\n",
              "        }\n",
              "      </script>\n",
              "    </div>\n",
              "  </div>\n",
              "  "
            ]
          },
          "metadata": {},
          "execution_count": 37
        }
      ]
    },
    {
      "cell_type": "code",
      "source": [
        "# 첫 번째 리뷰를 선택\n",
        "test_sample = test['review'][0]\n",
        "test_sample"
      ],
      "metadata": {
        "colab": {
          "base_uri": "https://localhost:8080/",
          "height": 122
        },
        "id": "M0e8IIUfCgJW",
        "outputId": "d4efd6dc-ab07-4853-dbb4-e07b71b38531"
      },
      "execution_count": 38,
      "outputs": [
        {
          "output_type": "execute_result",
          "data": {
            "text/plain": [
              "'\\n\\n\\n\\n\\n아바타 2\\n\\n감독\\n제임스 카메론\\n출연\\n시고니 위버, 스티븐 랭, 조 샐다나, 샘 워싱턴\\n개봉\\n2017 미국\\n\\n리뷰보기\\n\\n\\n\\u200b*** 아바타 2 (2017) ***장르: Sci-Fi, 판타지, 모험, 액션감독: 제임스 카메론주연: 조 셀다나 (네이티리 역), 샘 워싱턴 (제이크 설리 역), 시고니 위버 (그레이스 어거스틴 역), 스티븐 랭 (마일즈 쿼리치 역)...국적: 미국북미 개봉일: 2017년 12월 25일2017년 12월 25일 북미 개봉작으로 기대를 모으고 있는 영화 아바타 2...특히나 주인공 \"네이티리\" 의 캐릭터 이미지가 공개가 되어서 올려봅니다.배우 조 샐다나와 샘 워싱턴, 시고니 위버 그리고 스티븐 랭까지 전편에서 출연했었던 배우들이 그대로 출연을 하고 있어서더욱 기대가 되는 영화인 것 같습니다. 아무튼 제임스 카메론 감독의 영화 아바타 2편을 시작으로2018년 아바타 3와 2019년 아바타 4까지 진행되고 있어서 앞으로 더욱 기대되는 영화 아바타인 것 같습니다.\\n'"
            ],
            "application/vnd.google.colaboratory.intrinsic+json": {
              "type": "string"
            }
          },
          "metadata": {},
          "execution_count": 38
        }
      ]
    },
    {
      "cell_type": "code",
      "source": [
        "# 한글을 제외하고 전부 제거\n",
        "test_sample = re.sub(r\"[^가-힣]\", \"\", test_sample)\n",
        "test_sample"
      ],
      "metadata": {
        "colab": {
          "base_uri": "https://localhost:8080/",
          "height": 87
        },
        "id": "M0u7Q3bHCjl8",
        "outputId": "9853eed1-75dd-46ad-e623-d1311519ed3c"
      },
      "execution_count": 39,
      "outputs": [
        {
          "output_type": "execute_result",
          "data": {
            "text/plain": [
              "'아바타감독제임스카메론출연시고니위버스티븐랭조샐다나샘워싱턴개봉미국리뷰보기아바타장르판타지모험액션감독제임스카메론주연조셀다나네이티리역샘워싱턴제이크설리역시고니위버그레이스어거스틴역스티븐랭마일즈쿼리치역국적미국북미개봉일년월일년월일북미개봉작으로기대를모으고있는영화아바타특히나주인공네이티리의캐릭터이미지가공개가되어서올려봅니다배우조샐다나와샘워싱턴시고니위버그리고스티븐랭까지전편에서출연했었던배우들이그대로출연을하고있어서더욱기대가되는영화인것같습니다아무튼제임스카메론감독의영화아바타편을시작으로년아바타와년아바타까지진행되고있어서앞으로더욱기대되는영화아바타인것같습니다'"
            ],
            "application/vnd.google.colaboratory.intrinsic+json": {
              "type": "string"
            }
          },
          "metadata": {},
          "execution_count": 39
        }
      ]
    },
    {
      "cell_type": "code",
      "source": [
        "# 세 글자 이상의 명사만을 추출\n",
        "\n",
        "tokens = okt.nouns(test_sample)\n",
        "cleaned_tokens = []\n",
        "for word in tokens:\n",
        "    if len(word) > 2:\n",
        "        cleaned_tokens.append(word)\n",
        "    else:\n",
        "        pass\n",
        "cleaned_review = \" \".join(cleaned_tokens)\n",
        "\n",
        "cleaned_review"
      ],
      "metadata": {
        "colab": {
          "base_uri": "https://localhost:8080/",
          "height": 53
        },
        "id": "MhxvGH_MCmRz",
        "outputId": "3cff097f-50ff-433a-e895-0c539c0042ff"
      },
      "execution_count": 40,
      "outputs": [
        {
          "output_type": "execute_result",
          "data": {
            "text/plain": [
              "'아바타 제임스 카메론 워싱턴 아바타 판타지 제임스 카메론 네이티 리역샘 워싱턴 제이크 레이스 어거스틴 스티븐 개봉일 아바타 네이티 캐릭터 이미지 워싱턴 스티븐 영화인 제임스 카메론 아바타 아바타 아바타 아바타'"
            ],
            "application/vnd.google.colaboratory.intrinsic+json": {
              "type": "string"
            }
          },
          "metadata": {},
          "execution_count": 40
        }
      ]
    },
    {
      "cell_type": "code",
      "source": [
        "# TF-IDF 변환기에 데이터를 입력하여 변환\n",
        "test_review_tfid = tfid.transform([cleaned_review])\n",
        "\n",
        "# 배열을 출력\n",
        "print(test_review_tfid)"
      ],
      "metadata": {
        "colab": {
          "base_uri": "https://localhost:8080/"
        },
        "id": "uv_Xw7WvDycF",
        "outputId": "1ad0d021-65cb-45e8-c504-4bf690c063f6"
      },
      "execution_count": 41,
      "outputs": [
        {
          "output_type": "stream",
          "name": "stdout",
          "text": [
            "  (0, 1923)\t0.10609705587931596\n",
            "  (0, 1813)\t0.08608327258267265\n",
            "  (0, 1631)\t0.38929373164534287\n",
            "  (0, 1398)\t0.12380202717019935\n",
            "  (0, 1243)\t0.09665830062936952\n",
            "  (0, 1065)\t0.8666141901913955\n",
            "  (0, 974)\t0.23258020501269236\n"
          ]
        }
      ]
    },
    {
      "cell_type": "code",
      "source": [
        "# 로지스틱 회귀 모델을 활용하여 분류 예측\n",
        "test_pred = lr.predict(test_review_tfid)[0]\n",
        "print(\"분석 결과 {}적인 리뷰로 예측됩니다. \".format(\"긍정\" if test_pred > 0 else \"부정\"))"
      ],
      "metadata": {
        "colab": {
          "base_uri": "https://localhost:8080/"
        },
        "id": "NKJgGVUcD1FD",
        "outputId": "bae213a9-7a9b-4d18-bbf0-85f0080fd99f"
      },
      "execution_count": 42,
      "outputs": [
        {
          "output_type": "stream",
          "name": "stdout",
          "text": [
            "분석 결과 부정적인 리뷰로 예측됩니다. \n"
          ]
        }
      ]
    }
  ]
}